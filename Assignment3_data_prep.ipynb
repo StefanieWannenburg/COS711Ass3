{
 "cells": [
  {
   "cell_type": "code",
   "execution_count": 1,
   "metadata": {},
   "outputs": [
    {
     "name": "stderr",
     "output_type": "stream",
     "text": [
      "C:\\ProgramData\\Anaconda3\\lib\\site-packages\\h5py\\__init__.py:36: FutureWarning: Conversion of the second argument of issubdtype from `float` to `np.floating` is deprecated. In future, it will be treated as `np.float64 == np.dtype(float).type`.\n",
      "  from ._conv import register_converters as _register_converters\n",
      "Using TensorFlow backend.\n",
      "C:\\ProgramData\\Anaconda3\\lib\\site-packages\\tensorflow\\python\\framework\\dtypes.py:526: FutureWarning: Passing (type, 1) or '1type' as a synonym of type is deprecated; in a future version of numpy, it will be understood as (type, (1,)) / '(1,)type'.\n",
      "  _np_qint8 = np.dtype([(\"qint8\", np.int8, 1)])\n",
      "C:\\ProgramData\\Anaconda3\\lib\\site-packages\\tensorflow\\python\\framework\\dtypes.py:527: FutureWarning: Passing (type, 1) or '1type' as a synonym of type is deprecated; in a future version of numpy, it will be understood as (type, (1,)) / '(1,)type'.\n",
      "  _np_quint8 = np.dtype([(\"quint8\", np.uint8, 1)])\n",
      "C:\\ProgramData\\Anaconda3\\lib\\site-packages\\tensorflow\\python\\framework\\dtypes.py:528: FutureWarning: Passing (type, 1) or '1type' as a synonym of type is deprecated; in a future version of numpy, it will be understood as (type, (1,)) / '(1,)type'.\n",
      "  _np_qint16 = np.dtype([(\"qint16\", np.int16, 1)])\n",
      "C:\\ProgramData\\Anaconda3\\lib\\site-packages\\tensorflow\\python\\framework\\dtypes.py:529: FutureWarning: Passing (type, 1) or '1type' as a synonym of type is deprecated; in a future version of numpy, it will be understood as (type, (1,)) / '(1,)type'.\n",
      "  _np_quint16 = np.dtype([(\"quint16\", np.uint16, 1)])\n",
      "C:\\ProgramData\\Anaconda3\\lib\\site-packages\\tensorflow\\python\\framework\\dtypes.py:530: FutureWarning: Passing (type, 1) or '1type' as a synonym of type is deprecated; in a future version of numpy, it will be understood as (type, (1,)) / '(1,)type'.\n",
      "  _np_qint32 = np.dtype([(\"qint32\", np.int32, 1)])\n",
      "C:\\ProgramData\\Anaconda3\\lib\\site-packages\\tensorflow\\python\\framework\\dtypes.py:535: FutureWarning: Passing (type, 1) or '1type' as a synonym of type is deprecated; in a future version of numpy, it will be understood as (type, (1,)) / '(1,)type'.\n",
      "  np_resource = np.dtype([(\"resource\", np.ubyte, 1)])\n"
     ]
    }
   ],
   "source": [
    "import pandas as pd \n",
    "import numpy as np \n",
    "from tqdm import tqdm\n",
    "import math\n",
    "from sklearn.model_selection import train_test_split\n",
    "import matplotlib.pyplot as plt\n",
    "from sklearn.preprocessing import MinMaxScaler\n",
    "from statistics import mean \n",
    "import imblearn\n",
    "from imblearn.over_sampling import SMOTE\n",
    "from collections import Counter\n",
    "from keras.utils import np_utils\n",
    "from sklearn.preprocessing import LabelEncoder\n",
    "import smogn"
   ]
  },
  {
   "cell_type": "markdown",
   "metadata": {},
   "source": [
    "# Data preparation "
   ]
  },
  {
   "cell_type": "markdown",
   "metadata": {},
   "source": [
    "### Import dataset"
   ]
  },
  {
   "cell_type": "code",
   "execution_count": 2,
   "metadata": {},
   "outputs": [],
   "source": [
    "train=pd.read_csv(\"./Train.csv\")"
   ]
  },
  {
   "cell_type": "code",
   "execution_count": 3,
   "metadata": {},
   "outputs": [],
   "source": [
    "# 'loc' already integer encoded {1,2,3,4,5,6} and 'dist_motorway' removed\n",
    "meta_data = pd.read_csv(\"./airqo_metadata.csv\")"
   ]
  },
  {
   "cell_type": "code",
   "execution_count": 4,
   "metadata": {},
   "outputs": [
    {
     "data": {
      "text/html": [
       "<div>\n",
       "<style scoped>\n",
       "    .dataframe tbody tr th:only-of-type {\n",
       "        vertical-align: middle;\n",
       "    }\n",
       "\n",
       "    .dataframe tbody tr th {\n",
       "        vertical-align: top;\n",
       "    }\n",
       "\n",
       "    .dataframe thead th {\n",
       "        text-align: right;\n",
       "    }\n",
       "</style>\n",
       "<table border=\"1\" class=\"dataframe\">\n",
       "  <thead>\n",
       "    <tr style=\"text-align: right;\">\n",
       "      <th></th>\n",
       "      <th>ID</th>\n",
       "      <th>location</th>\n",
       "      <th>temp</th>\n",
       "      <th>precip</th>\n",
       "      <th>rel_humidity</th>\n",
       "      <th>wind_dir</th>\n",
       "      <th>wind_spd</th>\n",
       "      <th>atmos_press</th>\n",
       "      <th>target</th>\n",
       "    </tr>\n",
       "  </thead>\n",
       "  <tbody>\n",
       "    <tr>\n",
       "      <th>0</th>\n",
       "      <td>ID_train_0</td>\n",
       "      <td>C</td>\n",
       "      <td>nan,nan,nan,nan,nan,nan,nan,nan,nan,nan,nan,na...</td>\n",
       "      <td>nan,nan,nan,nan,nan,nan,nan,nan,nan,nan,nan,na...</td>\n",
       "      <td>nan,nan,nan,nan,nan,nan,nan,nan,nan,nan,nan,na...</td>\n",
       "      <td>nan,nan,nan,nan,nan,nan,nan,nan,nan,nan,nan,na...</td>\n",
       "      <td>nan,nan,nan,nan,nan,nan,nan,nan,nan,nan,nan,na...</td>\n",
       "      <td>nan,nan,nan,nan,nan,nan,nan,nan,nan,nan,nan,na...</td>\n",
       "      <td>45.126304</td>\n",
       "    </tr>\n",
       "    <tr>\n",
       "      <th>1</th>\n",
       "      <td>ID_train_1</td>\n",
       "      <td>D</td>\n",
       "      <td>22.53333333,21.71666667,20.83333333,20.9833333...</td>\n",
       "      <td>0.102,0.0,0.0,0.0,0.0,0.0,0.0,0.034,0.017,0.01...</td>\n",
       "      <td>0.744583333,0.808083333,0.911166667,0.91633333...</td>\n",
       "      <td>281.6643101,89.15629262,81.96853891,291.018632...</td>\n",
       "      <td>2.3775,1.126666667,0.700833333,0.3416666670000...</td>\n",
       "      <td>90.32,90.3775,90.44083333,90.4725,90.45416667,...</td>\n",
       "      <td>79.131702</td>\n",
       "    </tr>\n",
       "    <tr>\n",
       "      <th>2</th>\n",
       "      <td>ID_train_10</td>\n",
       "      <td>A</td>\n",
       "      <td>28.975,27.95,29.6,26.425,22.09166667,21.775,22...</td>\n",
       "      <td>0.0,0.0,0.0,0.102,0.136,0.0,0.0,2.16,1.276,0.0...</td>\n",
       "      <td>0.573333333,0.597166667,0.5668333329999999,0.6...</td>\n",
       "      <td>nan,nan,nan,nan,nan,nan,nan,nan,nan,nan,nan,na...</td>\n",
       "      <td>nan,nan,nan,nan,nan,nan,nan,nan,nan,nan,nan,na...</td>\n",
       "      <td>88.55166667,88.46416667,88.31916667,88.24,88.2...</td>\n",
       "      <td>32.661304</td>\n",
       "    </tr>\n",
       "    <tr>\n",
       "      <th>3</th>\n",
       "      <td>ID_train_100</td>\n",
       "      <td>A</td>\n",
       "      <td>22.96666667,24.26666667,25.275,25.625,25.86666...</td>\n",
       "      <td>0.0,0.0,0.0,0.0,0.0,0.0,0.0,0.0,7.77,3.012,1.0...</td>\n",
       "      <td>0.8430833329999999,0.79025,0.7375,0.728,0.7049...</td>\n",
       "      <td>300.0850574,293.6769595,294.5174647,301.921416...</td>\n",
       "      <td>1.446666667,1.1925,1.324166667,1.5441666669999...</td>\n",
       "      <td>88.615,88.53083333,88.4,88.27166667,88.2075,88...</td>\n",
       "      <td>53.850238</td>\n",
       "    </tr>\n",
       "    <tr>\n",
       "      <th>4</th>\n",
       "      <td>ID_train_1000</td>\n",
       "      <td>A</td>\n",
       "      <td>21.875,21.575,21.525,21.43333333,20.50833333,1...</td>\n",
       "      <td>0.0,0.0,0.0,0.0,0.0,0.0,0.0,0.0,0.0,0.0,0.0,0....</td>\n",
       "      <td>0.8564166670000001,0.874916667,0.879833333,0.8...</td>\n",
       "      <td>21.83997432,17.05405341,89.26406044,123.585424...</td>\n",
       "      <td>0.1975,0.244166667,0.411666667,0.56,0.5775,0.4...</td>\n",
       "      <td>88.55666667,88.64083333,88.65833333,88.6475,88...</td>\n",
       "      <td>177.418750</td>\n",
       "    </tr>\n",
       "  </tbody>\n",
       "</table>\n",
       "</div>"
      ],
      "text/plain": [
       "              ID location                                               temp  \\\n",
       "0     ID_train_0        C  nan,nan,nan,nan,nan,nan,nan,nan,nan,nan,nan,na...   \n",
       "1     ID_train_1        D  22.53333333,21.71666667,20.83333333,20.9833333...   \n",
       "2    ID_train_10        A  28.975,27.95,29.6,26.425,22.09166667,21.775,22...   \n",
       "3   ID_train_100        A  22.96666667,24.26666667,25.275,25.625,25.86666...   \n",
       "4  ID_train_1000        A  21.875,21.575,21.525,21.43333333,20.50833333,1...   \n",
       "\n",
       "                                              precip  \\\n",
       "0  nan,nan,nan,nan,nan,nan,nan,nan,nan,nan,nan,na...   \n",
       "1  0.102,0.0,0.0,0.0,0.0,0.0,0.0,0.034,0.017,0.01...   \n",
       "2  0.0,0.0,0.0,0.102,0.136,0.0,0.0,2.16,1.276,0.0...   \n",
       "3  0.0,0.0,0.0,0.0,0.0,0.0,0.0,0.0,7.77,3.012,1.0...   \n",
       "4  0.0,0.0,0.0,0.0,0.0,0.0,0.0,0.0,0.0,0.0,0.0,0....   \n",
       "\n",
       "                                        rel_humidity  \\\n",
       "0  nan,nan,nan,nan,nan,nan,nan,nan,nan,nan,nan,na...   \n",
       "1  0.744583333,0.808083333,0.911166667,0.91633333...   \n",
       "2  0.573333333,0.597166667,0.5668333329999999,0.6...   \n",
       "3  0.8430833329999999,0.79025,0.7375,0.728,0.7049...   \n",
       "4  0.8564166670000001,0.874916667,0.879833333,0.8...   \n",
       "\n",
       "                                            wind_dir  \\\n",
       "0  nan,nan,nan,nan,nan,nan,nan,nan,nan,nan,nan,na...   \n",
       "1  281.6643101,89.15629262,81.96853891,291.018632...   \n",
       "2  nan,nan,nan,nan,nan,nan,nan,nan,nan,nan,nan,na...   \n",
       "3  300.0850574,293.6769595,294.5174647,301.921416...   \n",
       "4  21.83997432,17.05405341,89.26406044,123.585424...   \n",
       "\n",
       "                                            wind_spd  \\\n",
       "0  nan,nan,nan,nan,nan,nan,nan,nan,nan,nan,nan,na...   \n",
       "1  2.3775,1.126666667,0.700833333,0.3416666670000...   \n",
       "2  nan,nan,nan,nan,nan,nan,nan,nan,nan,nan,nan,na...   \n",
       "3  1.446666667,1.1925,1.324166667,1.5441666669999...   \n",
       "4  0.1975,0.244166667,0.411666667,0.56,0.5775,0.4...   \n",
       "\n",
       "                                         atmos_press      target  \n",
       "0  nan,nan,nan,nan,nan,nan,nan,nan,nan,nan,nan,na...   45.126304  \n",
       "1  90.32,90.3775,90.44083333,90.4725,90.45416667,...   79.131702  \n",
       "2  88.55166667,88.46416667,88.31916667,88.24,88.2...   32.661304  \n",
       "3  88.615,88.53083333,88.4,88.27166667,88.2075,88...   53.850238  \n",
       "4  88.55666667,88.64083333,88.65833333,88.6475,88...  177.418750  "
      ]
     },
     "execution_count": 4,
     "metadata": {},
     "output_type": "execute_result"
    }
   ],
   "source": [
    "train.head()"
   ]
  },
  {
   "cell_type": "code",
   "execution_count": 5,
   "metadata": {},
   "outputs": [
    {
     "data": {
      "text/html": [
       "<div>\n",
       "<style scoped>\n",
       "    .dataframe tbody tr th:only-of-type {\n",
       "        vertical-align: middle;\n",
       "    }\n",
       "\n",
       "    .dataframe tbody tr th {\n",
       "        vertical-align: top;\n",
       "    }\n",
       "\n",
       "    .dataframe thead th {\n",
       "        text-align: right;\n",
       "    }\n",
       "</style>\n",
       "<table border=\"1\" class=\"dataframe\">\n",
       "  <thead>\n",
       "    <tr style=\"text-align: right;\">\n",
       "      <th></th>\n",
       "      <th>location</th>\n",
       "      <th>loc_altitude</th>\n",
       "      <th>km2</th>\n",
       "      <th>aspect</th>\n",
       "      <th>dist_trunk</th>\n",
       "      <th>dist_primary</th>\n",
       "      <th>dist_secondary</th>\n",
       "      <th>dist_tertiary</th>\n",
       "      <th>dist_unclassified</th>\n",
       "      <th>dist_residential</th>\n",
       "      <th>popn</th>\n",
       "      <th>hh</th>\n",
       "      <th>hh_cook_charcoal</th>\n",
       "      <th>hh_cook_firewood</th>\n",
       "      <th>hh_burn_waste</th>\n",
       "      <th>loc</th>\n",
       "    </tr>\n",
       "  </thead>\n",
       "  <tbody>\n",
       "    <tr>\n",
       "      <th>0</th>\n",
       "      <td>A</td>\n",
       "      <td>1122.4</td>\n",
       "      <td>1.9</td>\n",
       "      <td>194.0</td>\n",
       "      <td>5000.000000</td>\n",
       "      <td>14.695789</td>\n",
       "      <td>343.595039</td>\n",
       "      <td>575.917422</td>\n",
       "      <td>330.609776</td>\n",
       "      <td>254.307415</td>\n",
       "      <td>4763</td>\n",
       "      <td>809</td>\n",
       "      <td>508</td>\n",
       "      <td>43</td>\n",
       "      <td>142</td>\n",
       "      <td>1</td>\n",
       "    </tr>\n",
       "    <tr>\n",
       "      <th>1</th>\n",
       "      <td>B</td>\n",
       "      <td>1155.4</td>\n",
       "      <td>5.4</td>\n",
       "      <td>219.8</td>\n",
       "      <td>528.078476</td>\n",
       "      <td>2172.680462</td>\n",
       "      <td>1144.376412</td>\n",
       "      <td>531.103271</td>\n",
       "      <td>65.142004</td>\n",
       "      <td>1.042809</td>\n",
       "      <td>22243</td>\n",
       "      <td>5735</td>\n",
       "      <td>116</td>\n",
       "      <td>1144</td>\n",
       "      <td>239</td>\n",
       "      <td>2</td>\n",
       "    </tr>\n",
       "    <tr>\n",
       "      <th>2</th>\n",
       "      <td>C</td>\n",
       "      <td>1178.3</td>\n",
       "      <td>8.5</td>\n",
       "      <td>168.7</td>\n",
       "      <td>32.885520</td>\n",
       "      <td>4794.704552</td>\n",
       "      <td>12.730489</td>\n",
       "      <td>72.459340</td>\n",
       "      <td>406.967815</td>\n",
       "      <td>13.931350</td>\n",
       "      <td>97895</td>\n",
       "      <td>26873</td>\n",
       "      <td>21316</td>\n",
       "      <td>751</td>\n",
       "      <td>9835</td>\n",
       "      <td>3</td>\n",
       "    </tr>\n",
       "    <tr>\n",
       "      <th>3</th>\n",
       "      <td>D</td>\n",
       "      <td>980.8</td>\n",
       "      <td>0.8</td>\n",
       "      <td>90.0</td>\n",
       "      <td>5000.000000</td>\n",
       "      <td>265.896472</td>\n",
       "      <td>5000.000000</td>\n",
       "      <td>339.693908</td>\n",
       "      <td>76.024389</td>\n",
       "      <td>11.601442</td>\n",
       "      <td>3596</td>\n",
       "      <td>663</td>\n",
       "      <td>7</td>\n",
       "      <td>651</td>\n",
       "      <td>99</td>\n",
       "      <td>4</td>\n",
       "    </tr>\n",
       "    <tr>\n",
       "      <th>4</th>\n",
       "      <td>E</td>\n",
       "      <td>1186.5</td>\n",
       "      <td>1.6</td>\n",
       "      <td>121.0</td>\n",
       "      <td>850.423131</td>\n",
       "      <td>5000.000000</td>\n",
       "      <td>1738.872942</td>\n",
       "      <td>137.722087</td>\n",
       "      <td>449.591885</td>\n",
       "      <td>3.836589</td>\n",
       "      <td>6064</td>\n",
       "      <td>1297</td>\n",
       "      <td>985</td>\n",
       "      <td>26</td>\n",
       "      <td>43</td>\n",
       "      <td>5</td>\n",
       "    </tr>\n",
       "  </tbody>\n",
       "</table>\n",
       "</div>"
      ],
      "text/plain": [
       "  location  loc_altitude  km2  aspect   dist_trunk  dist_primary  \\\n",
       "0        A        1122.4  1.9   194.0  5000.000000     14.695789   \n",
       "1        B        1155.4  5.4   219.8   528.078476   2172.680462   \n",
       "2        C        1178.3  8.5   168.7    32.885520   4794.704552   \n",
       "3        D         980.8  0.8    90.0  5000.000000    265.896472   \n",
       "4        E        1186.5  1.6   121.0   850.423131   5000.000000   \n",
       "\n",
       "   dist_secondary  dist_tertiary  dist_unclassified  dist_residential   popn  \\\n",
       "0      343.595039     575.917422         330.609776        254.307415   4763   \n",
       "1     1144.376412     531.103271          65.142004          1.042809  22243   \n",
       "2       12.730489      72.459340         406.967815         13.931350  97895   \n",
       "3     5000.000000     339.693908          76.024389         11.601442   3596   \n",
       "4     1738.872942     137.722087         449.591885          3.836589   6064   \n",
       "\n",
       "      hh  hh_cook_charcoal  hh_cook_firewood  hh_burn_waste  loc  \n",
       "0    809               508                43            142    1  \n",
       "1   5735               116              1144            239    2  \n",
       "2  26873             21316               751           9835    3  \n",
       "3    663                 7               651             99    4  \n",
       "4   1297               985                26             43    5  "
      ]
     },
     "execution_count": 5,
     "metadata": {},
     "output_type": "execute_result"
    }
   ],
   "source": [
    "meta_data.head()"
   ]
  },
  {
   "cell_type": "markdown",
   "metadata": {},
   "source": [
    "### Features engineering part"
   ]
  },
  {
   "cell_type": "code",
   "execution_count": 6,
   "metadata": {},
   "outputs": [],
   "source": [
    "# covert features from string to List of values\n",
    "def replace_nan(x):\n",
    "    if x==\" \":\n",
    "        return np.nan\n",
    "    else :\n",
    "        return float(x)\n",
    "features=[\"temp\",\"precip\",\"rel_humidity\",\"wind_dir\",\"wind_spd\",\"atmos_press\"]\n",
    "for feature in features : \n",
    "    train[feature]=train[feature].apply(lambda x: [replace_nan(X) for X in x.replace(\"nan\",\" \").split(\",\")])"
   ]
  },
  {
   "cell_type": "code",
   "execution_count": 7,
   "metadata": {},
   "outputs": [
    {
     "name": "stderr",
     "output_type": "stream",
     "text": [
      "  0%|                                                                                            | 0/6 [00:00<?, ?it/s]C:\\ProgramData\\Anaconda3\\lib\\site-packages\\ipykernel_launcher.py:9: RuntimeWarning: Mean of empty slice\n",
      "  if __name__ == '__main__':\n",
      "C:\\ProgramData\\Anaconda3\\lib\\site-packages\\ipykernel_launcher.py:11: SettingWithCopyWarning: \n",
      "A value is trying to be set on a copy of a slice from a DataFrame\n",
      "\n",
      "See the caveats in the documentation: https://pandas.pydata.org/pandas-docs/stable/user_guide/indexing.html#returning-a-view-versus-a-copy\n",
      "  # This is added back by InteractiveShellApp.init_path()\n",
      "100%|████████████████████████████████████████████████████████████████████████████████████| 6/6 [01:14<00:00, 12.46s/it]\n"
     ]
    },
    {
     "data": {
      "text/html": [
       "<div>\n",
       "<style scoped>\n",
       "    .dataframe tbody tr th:only-of-type {\n",
       "        vertical-align: middle;\n",
       "    }\n",
       "\n",
       "    .dataframe tbody tr th {\n",
       "        vertical-align: top;\n",
       "    }\n",
       "\n",
       "    .dataframe thead th {\n",
       "        text-align: right;\n",
       "    }\n",
       "</style>\n",
       "<table border=\"1\" class=\"dataframe\">\n",
       "  <thead>\n",
       "    <tr style=\"text-align: right;\">\n",
       "      <th></th>\n",
       "      <th>ID</th>\n",
       "      <th>location</th>\n",
       "      <th>temp</th>\n",
       "      <th>precip</th>\n",
       "      <th>rel_humidity</th>\n",
       "      <th>wind_dir</th>\n",
       "      <th>wind_spd</th>\n",
       "      <th>atmos_press</th>\n",
       "      <th>target</th>\n",
       "    </tr>\n",
       "  </thead>\n",
       "  <tbody>\n",
       "    <tr>\n",
       "      <th>0</th>\n",
       "      <td>ID_train_0</td>\n",
       "      <td>C</td>\n",
       "      <td>[nan, nan, nan, nan, 22.299526514375]</td>\n",
       "      <td>[nan, nan, nan, nan, 0.0]</td>\n",
       "      <td>[nan, nan, nan, nan, 0.758530303]</td>\n",
       "      <td>[nan, nan, nan, nan, 209.57465462812502]</td>\n",
       "      <td>[nan, nan, nan, nan, 0.677348484875]</td>\n",
       "      <td>[nan, nan, nan, nan, 87.75243371187499]</td>\n",
       "      <td>45.126304</td>\n",
       "    </tr>\n",
       "    <tr>\n",
       "      <th>1</th>\n",
       "      <td>ID_train_1</td>\n",
       "      <td>D</td>\n",
       "      <td>[24.5983333332, 25.682000000000002, 25.0643333...</td>\n",
       "      <td>[0.00884, 0.0, 0.00272, 0.0, 0.02244]</td>\n",
       "      <td>[0.7689733332799998, 0.7005400001200001, 0.747...</td>\n",
       "      <td>[179.55315947440002, 172.66441776759999, 167.2...</td>\n",
       "      <td>[0.78643333332, 1.01683333336, 0.8164666666799...</td>\n",
       "      <td>[90.36050000000002, 90.37163333279999, 90.4401...</td>\n",
       "      <td>79.131702</td>\n",
       "    </tr>\n",
       "    <tr>\n",
       "      <th>2</th>\n",
       "      <td>ID_train_10</td>\n",
       "      <td>A</td>\n",
       "      <td>[22.3073333336, 22.031376263333332, 25.4629999...</td>\n",
       "      <td>[0.41088, 0.33083333333333326, 0.0, 0.0, 0.0]</td>\n",
       "      <td>[0.80059333332, 0.7871328913750001, 0.65393000...</td>\n",
       "      <td>[nan, 318.5086036333334, 195.51153734055998, 1...</td>\n",
       "      <td>[nan, 1.167222222, 0.9616333333999999, 1.15283...</td>\n",
       "      <td>[88.58496666639999, 88.49565972291667, 88.3588...</td>\n",
       "      <td>32.661304</td>\n",
       "    </tr>\n",
       "    <tr>\n",
       "      <th>3</th>\n",
       "      <td>ID_train_100</td>\n",
       "      <td>A</td>\n",
       "      <td>[20.900333334000003, 21.3174545468, 21.3466666...</td>\n",
       "      <td>[0.47547999999999996, 0.13463999999999998, 0.9...</td>\n",
       "      <td>[0.88293333336, 0.9111854545999999, 0.89851060...</td>\n",
       "      <td>[274.33062135, 279.80904280448, 321.2934881777...</td>\n",
       "      <td>[1.4232500001, 1.3421, 1.9958333335555558, 1.9...</td>\n",
       "      <td>[88.4010000008, 88.2620333332, 88.355233333199...</td>\n",
       "      <td>53.850238</td>\n",
       "    </tr>\n",
       "    <tr>\n",
       "      <th>4</th>\n",
       "      <td>ID_train_1000</td>\n",
       "      <td>A</td>\n",
       "      <td>[22.172333333600005, 20.135416665, 20.94015151...</td>\n",
       "      <td>[0.006120000000000001, 0.0, 0.0, nan, nan]</td>\n",
       "      <td>[0.77601, 0.8424583335, 0.8092992425000001, na...</td>\n",
       "      <td>[172.75364167520002, 229.04084504000002, 127.3...</td>\n",
       "      <td>[0.76280000012, 0.5222916665, 0.6297727275, na...</td>\n",
       "      <td>[88.54163333320001, 88.5364583325, 88.48155303...</td>\n",
       "      <td>177.418750</td>\n",
       "    </tr>\n",
       "  </tbody>\n",
       "</table>\n",
       "</div>"
      ],
      "text/plain": [
       "              ID location                                               temp  \\\n",
       "0     ID_train_0        C              [nan, nan, nan, nan, 22.299526514375]   \n",
       "1     ID_train_1        D  [24.5983333332, 25.682000000000002, 25.0643333...   \n",
       "2    ID_train_10        A  [22.3073333336, 22.031376263333332, 25.4629999...   \n",
       "3   ID_train_100        A  [20.900333334000003, 21.3174545468, 21.3466666...   \n",
       "4  ID_train_1000        A  [22.172333333600005, 20.135416665, 20.94015151...   \n",
       "\n",
       "                                              precip  \\\n",
       "0                          [nan, nan, nan, nan, 0.0]   \n",
       "1              [0.00884, 0.0, 0.00272, 0.0, 0.02244]   \n",
       "2      [0.41088, 0.33083333333333326, 0.0, 0.0, 0.0]   \n",
       "3  [0.47547999999999996, 0.13463999999999998, 0.9...   \n",
       "4         [0.006120000000000001, 0.0, 0.0, nan, nan]   \n",
       "\n",
       "                                        rel_humidity  \\\n",
       "0                  [nan, nan, nan, nan, 0.758530303]   \n",
       "1  [0.7689733332799998, 0.7005400001200001, 0.747...   \n",
       "2  [0.80059333332, 0.7871328913750001, 0.65393000...   \n",
       "3  [0.88293333336, 0.9111854545999999, 0.89851060...   \n",
       "4  [0.77601, 0.8424583335, 0.8092992425000001, na...   \n",
       "\n",
       "                                            wind_dir  \\\n",
       "0           [nan, nan, nan, nan, 209.57465462812502]   \n",
       "1  [179.55315947440002, 172.66441776759999, 167.2...   \n",
       "2  [nan, 318.5086036333334, 195.51153734055998, 1...   \n",
       "3  [274.33062135, 279.80904280448, 321.2934881777...   \n",
       "4  [172.75364167520002, 229.04084504000002, 127.3...   \n",
       "\n",
       "                                            wind_spd  \\\n",
       "0               [nan, nan, nan, nan, 0.677348484875]   \n",
       "1  [0.78643333332, 1.01683333336, 0.8164666666799...   \n",
       "2  [nan, 1.167222222, 0.9616333333999999, 1.15283...   \n",
       "3  [1.4232500001, 1.3421, 1.9958333335555558, 1.9...   \n",
       "4  [0.76280000012, 0.5222916665, 0.6297727275, na...   \n",
       "\n",
       "                                         atmos_press      target  \n",
       "0            [nan, nan, nan, nan, 87.75243371187499]   45.126304  \n",
       "1  [90.36050000000002, 90.37163333279999, 90.4401...   79.131702  \n",
       "2  [88.58496666639999, 88.49565972291667, 88.3588...   32.661304  \n",
       "3  [88.4010000008, 88.2620333332, 88.355233333199...   53.850238  \n",
       "4  [88.54163333320001, 88.5364583325, 88.48155303...  177.418750  "
      ]
     },
     "execution_count": 7,
     "metadata": {},
     "output_type": "execute_result"
    }
   ],
   "source": [
    "# Convert hours into daily average\n",
    "\n",
    "for feature in tqdm(features):\n",
    "    for r in range(train.shape[0]):\n",
    "        avg = []\n",
    "        for a in range(0,5):\n",
    "            first = 24*a\n",
    "            last = (24*(a+1))+1\n",
    "            avgv = np.nanmean(train[feature][r][first:last])\n",
    "            avg.append(avgv)\n",
    "        train[feature][r] = avg\n",
    "train.head()"
   ]
  },
  {
   "cell_type": "code",
   "execution_count": 8,
   "metadata": {},
   "outputs": [
    {
     "name": "stderr",
     "output_type": "stream",
     "text": [
      "  0%|                                                                                            | 0/6 [00:00<?, ?it/s]C:\\ProgramData\\Anaconda3\\lib\\site-packages\\ipykernel_launcher.py:7: SettingWithCopyWarning: \n",
      "A value is trying to be set on a copy of a slice from a DataFrame\n",
      "\n",
      "See the caveats in the documentation: https://pandas.pydata.org/pandas-docs/stable/user_guide/indexing.html#returning-a-view-versus-a-copy\n",
      "  import sys\n",
      "100%|████████████████████████████████████████████████████████████████████████████████████| 6/6 [01:13<00:00, 12.18s/it]\n"
     ]
    }
   ],
   "source": [
    "# replace NaN values with predecessing or successive values\n",
    "for feature in tqdm(features):\n",
    "    for x in range(train.shape[0]):\n",
    "        s = pd.Series(train[feature][x])\n",
    "        s = s.fillna(method = 'ffill')\n",
    "        s = s.fillna(method = 'bfill')\n",
    "        train[feature][x] = s.tolist()"
   ]
  },
  {
   "cell_type": "code",
   "execution_count": 9,
   "metadata": {},
   "outputs": [
    {
     "data": {
      "text/html": [
       "<div>\n",
       "<style scoped>\n",
       "    .dataframe tbody tr th:only-of-type {\n",
       "        vertical-align: middle;\n",
       "    }\n",
       "\n",
       "    .dataframe tbody tr th {\n",
       "        vertical-align: top;\n",
       "    }\n",
       "\n",
       "    .dataframe thead th {\n",
       "        text-align: right;\n",
       "    }\n",
       "</style>\n",
       "<table border=\"1\" class=\"dataframe\">\n",
       "  <thead>\n",
       "    <tr style=\"text-align: right;\">\n",
       "      <th></th>\n",
       "      <th>ID</th>\n",
       "      <th>location</th>\n",
       "      <th>temp</th>\n",
       "      <th>precip</th>\n",
       "      <th>rel_humidity</th>\n",
       "      <th>wind_dir</th>\n",
       "      <th>wind_spd</th>\n",
       "      <th>atmos_press</th>\n",
       "      <th>target</th>\n",
       "    </tr>\n",
       "  </thead>\n",
       "  <tbody>\n",
       "    <tr>\n",
       "      <th>0</th>\n",
       "      <td>ID_train_0</td>\n",
       "      <td>C</td>\n",
       "      <td>[22.299526514375, 22.299526514375, 22.29952651...</td>\n",
       "      <td>[0.0, 0.0, 0.0, 0.0, 0.0]</td>\n",
       "      <td>[0.758530303, 0.758530303, 0.758530303, 0.7585...</td>\n",
       "      <td>[209.57465462812502, 209.57465462812502, 209.5...</td>\n",
       "      <td>[0.677348484875, 0.677348484875, 0.67734848487...</td>\n",
       "      <td>[87.75243371187499, 87.75243371187499, 87.7524...</td>\n",
       "      <td>45.126304</td>\n",
       "    </tr>\n",
       "    <tr>\n",
       "      <th>1</th>\n",
       "      <td>ID_train_1</td>\n",
       "      <td>D</td>\n",
       "      <td>[24.5983333332, 25.682000000000002, 25.0643333...</td>\n",
       "      <td>[0.00884, 0.0, 0.00272, 0.0, 0.02244]</td>\n",
       "      <td>[0.7689733332799998, 0.7005400001200001, 0.747...</td>\n",
       "      <td>[179.55315947440002, 172.66441776759999, 167.2...</td>\n",
       "      <td>[0.78643333332, 1.01683333336, 0.8164666666799...</td>\n",
       "      <td>[90.36050000000002, 90.37163333279999, 90.4401...</td>\n",
       "      <td>79.131702</td>\n",
       "    </tr>\n",
       "    <tr>\n",
       "      <th>2</th>\n",
       "      <td>ID_train_10</td>\n",
       "      <td>A</td>\n",
       "      <td>[22.3073333336, 22.031376263333332, 25.4629999...</td>\n",
       "      <td>[0.41088, 0.33083333333333326, 0.0, 0.0, 0.0]</td>\n",
       "      <td>[0.80059333332, 0.7871328913750001, 0.65393000...</td>\n",
       "      <td>[318.5086036333334, 318.5086036333334, 195.511...</td>\n",
       "      <td>[1.167222222, 1.167222222, 0.9616333333999999,...</td>\n",
       "      <td>[88.58496666639999, 88.49565972291667, 88.3588...</td>\n",
       "      <td>32.661304</td>\n",
       "    </tr>\n",
       "    <tr>\n",
       "      <th>3</th>\n",
       "      <td>ID_train_100</td>\n",
       "      <td>A</td>\n",
       "      <td>[20.900333334000003, 21.3174545468, 21.3466666...</td>\n",
       "      <td>[0.47547999999999996, 0.13463999999999998, 0.9...</td>\n",
       "      <td>[0.88293333336, 0.9111854545999999, 0.89851060...</td>\n",
       "      <td>[274.33062135, 279.80904280448, 321.2934881777...</td>\n",
       "      <td>[1.4232500001, 1.3421, 1.9958333335555558, 1.9...</td>\n",
       "      <td>[88.4010000008, 88.2620333332, 88.355233333199...</td>\n",
       "      <td>53.850238</td>\n",
       "    </tr>\n",
       "    <tr>\n",
       "      <th>4</th>\n",
       "      <td>ID_train_1000</td>\n",
       "      <td>A</td>\n",
       "      <td>[22.172333333600005, 20.135416665, 20.94015151...</td>\n",
       "      <td>[0.006120000000000001, 0.0, 0.0, 0.0, 0.0]</td>\n",
       "      <td>[0.77601, 0.8424583335, 0.8092992425000001, 0....</td>\n",
       "      <td>[172.75364167520002, 229.04084504000002, 127.3...</td>\n",
       "      <td>[0.76280000012, 0.5222916665, 0.6297727275, 0....</td>\n",
       "      <td>[88.54163333320001, 88.5364583325, 88.48155303...</td>\n",
       "      <td>177.418750</td>\n",
       "    </tr>\n",
       "  </tbody>\n",
       "</table>\n",
       "</div>"
      ],
      "text/plain": [
       "              ID location                                               temp  \\\n",
       "0     ID_train_0        C  [22.299526514375, 22.299526514375, 22.29952651...   \n",
       "1     ID_train_1        D  [24.5983333332, 25.682000000000002, 25.0643333...   \n",
       "2    ID_train_10        A  [22.3073333336, 22.031376263333332, 25.4629999...   \n",
       "3   ID_train_100        A  [20.900333334000003, 21.3174545468, 21.3466666...   \n",
       "4  ID_train_1000        A  [22.172333333600005, 20.135416665, 20.94015151...   \n",
       "\n",
       "                                              precip  \\\n",
       "0                          [0.0, 0.0, 0.0, 0.0, 0.0]   \n",
       "1              [0.00884, 0.0, 0.00272, 0.0, 0.02244]   \n",
       "2      [0.41088, 0.33083333333333326, 0.0, 0.0, 0.0]   \n",
       "3  [0.47547999999999996, 0.13463999999999998, 0.9...   \n",
       "4         [0.006120000000000001, 0.0, 0.0, 0.0, 0.0]   \n",
       "\n",
       "                                        rel_humidity  \\\n",
       "0  [0.758530303, 0.758530303, 0.758530303, 0.7585...   \n",
       "1  [0.7689733332799998, 0.7005400001200001, 0.747...   \n",
       "2  [0.80059333332, 0.7871328913750001, 0.65393000...   \n",
       "3  [0.88293333336, 0.9111854545999999, 0.89851060...   \n",
       "4  [0.77601, 0.8424583335, 0.8092992425000001, 0....   \n",
       "\n",
       "                                            wind_dir  \\\n",
       "0  [209.57465462812502, 209.57465462812502, 209.5...   \n",
       "1  [179.55315947440002, 172.66441776759999, 167.2...   \n",
       "2  [318.5086036333334, 318.5086036333334, 195.511...   \n",
       "3  [274.33062135, 279.80904280448, 321.2934881777...   \n",
       "4  [172.75364167520002, 229.04084504000002, 127.3...   \n",
       "\n",
       "                                            wind_spd  \\\n",
       "0  [0.677348484875, 0.677348484875, 0.67734848487...   \n",
       "1  [0.78643333332, 1.01683333336, 0.8164666666799...   \n",
       "2  [1.167222222, 1.167222222, 0.9616333333999999,...   \n",
       "3  [1.4232500001, 1.3421, 1.9958333335555558, 1.9...   \n",
       "4  [0.76280000012, 0.5222916665, 0.6297727275, 0....   \n",
       "\n",
       "                                         atmos_press      target  \n",
       "0  [87.75243371187499, 87.75243371187499, 87.7524...   45.126304  \n",
       "1  [90.36050000000002, 90.37163333279999, 90.4401...   79.131702  \n",
       "2  [88.58496666639999, 88.49565972291667, 88.3588...   32.661304  \n",
       "3  [88.4010000008, 88.2620333332, 88.355233333199...   53.850238  \n",
       "4  [88.54163333320001, 88.5364583325, 88.48155303...  177.418750  "
      ]
     },
     "execution_count": 9,
     "metadata": {},
     "output_type": "execute_result"
    }
   ],
   "source": [
    "train.head()"
   ]
  },
  {
   "cell_type": "code",
   "execution_count": 10,
   "metadata": {},
   "outputs": [
    {
     "data": {
      "text/html": [
       "<div>\n",
       "<style scoped>\n",
       "    .dataframe tbody tr th:only-of-type {\n",
       "        vertical-align: middle;\n",
       "    }\n",
       "\n",
       "    .dataframe tbody tr th {\n",
       "        vertical-align: top;\n",
       "    }\n",
       "\n",
       "    .dataframe thead th {\n",
       "        text-align: right;\n",
       "    }\n",
       "</style>\n",
       "<table border=\"1\" class=\"dataframe\">\n",
       "  <thead>\n",
       "    <tr style=\"text-align: right;\">\n",
       "      <th></th>\n",
       "      <th>location</th>\n",
       "      <th>target</th>\n",
       "      <th>temp</th>\n",
       "      <th>precip</th>\n",
       "      <th>rel_humidity</th>\n",
       "      <th>wind_dir</th>\n",
       "      <th>wind_spd</th>\n",
       "      <th>atmos_press</th>\n",
       "    </tr>\n",
       "  </thead>\n",
       "  <tbody>\n",
       "    <tr>\n",
       "      <th>0</th>\n",
       "      <td>C</td>\n",
       "      <td>45.126304</td>\n",
       "      <td>[22.299526514375, 22.299526514375, 22.29952651...</td>\n",
       "      <td>[0.0, 0.0, 0.0, 0.0, 0.0]</td>\n",
       "      <td>[0.758530303, 0.758530303, 0.758530303, 0.7585...</td>\n",
       "      <td>[209.57465462812502, 209.57465462812502, 209.5...</td>\n",
       "      <td>[0.677348484875, 0.677348484875, 0.67734848487...</td>\n",
       "      <td>[87.75243371187499, 87.75243371187499, 87.7524...</td>\n",
       "    </tr>\n",
       "    <tr>\n",
       "      <th>1</th>\n",
       "      <td>D</td>\n",
       "      <td>79.131702</td>\n",
       "      <td>[24.5983333332, 25.682000000000002, 25.0643333...</td>\n",
       "      <td>[0.00884, 0.0, 0.00272, 0.0, 0.02244]</td>\n",
       "      <td>[0.7689733332799998, 0.7005400001200001, 0.747...</td>\n",
       "      <td>[179.55315947440002, 172.66441776759999, 167.2...</td>\n",
       "      <td>[0.78643333332, 1.01683333336, 0.8164666666799...</td>\n",
       "      <td>[90.36050000000002, 90.37163333279999, 90.4401...</td>\n",
       "    </tr>\n",
       "    <tr>\n",
       "      <th>2</th>\n",
       "      <td>A</td>\n",
       "      <td>32.661304</td>\n",
       "      <td>[22.3073333336, 22.031376263333332, 25.4629999...</td>\n",
       "      <td>[0.41088, 0.33083333333333326, 0.0, 0.0, 0.0]</td>\n",
       "      <td>[0.80059333332, 0.7871328913750001, 0.65393000...</td>\n",
       "      <td>[318.5086036333334, 318.5086036333334, 195.511...</td>\n",
       "      <td>[1.167222222, 1.167222222, 0.9616333333999999,...</td>\n",
       "      <td>[88.58496666639999, 88.49565972291667, 88.3588...</td>\n",
       "    </tr>\n",
       "    <tr>\n",
       "      <th>3</th>\n",
       "      <td>A</td>\n",
       "      <td>53.850238</td>\n",
       "      <td>[20.900333334000003, 21.3174545468, 21.3466666...</td>\n",
       "      <td>[0.47547999999999996, 0.13463999999999998, 0.9...</td>\n",
       "      <td>[0.88293333336, 0.9111854545999999, 0.89851060...</td>\n",
       "      <td>[274.33062135, 279.80904280448, 321.2934881777...</td>\n",
       "      <td>[1.4232500001, 1.3421, 1.9958333335555558, 1.9...</td>\n",
       "      <td>[88.4010000008, 88.2620333332, 88.355233333199...</td>\n",
       "    </tr>\n",
       "    <tr>\n",
       "      <th>4</th>\n",
       "      <td>A</td>\n",
       "      <td>177.418750</td>\n",
       "      <td>[22.172333333600005, 20.135416665, 20.94015151...</td>\n",
       "      <td>[0.006120000000000001, 0.0, 0.0, 0.0, 0.0]</td>\n",
       "      <td>[0.77601, 0.8424583335, 0.8092992425000001, 0....</td>\n",
       "      <td>[172.75364167520002, 229.04084504000002, 127.3...</td>\n",
       "      <td>[0.76280000012, 0.5222916665, 0.6297727275, 0....</td>\n",
       "      <td>[88.54163333320001, 88.5364583325, 88.48155303...</td>\n",
       "    </tr>\n",
       "  </tbody>\n",
       "</table>\n",
       "</div>"
      ],
      "text/plain": [
       "  location      target                                               temp  \\\n",
       "0        C   45.126304  [22.299526514375, 22.299526514375, 22.29952651...   \n",
       "1        D   79.131702  [24.5983333332, 25.682000000000002, 25.0643333...   \n",
       "2        A   32.661304  [22.3073333336, 22.031376263333332, 25.4629999...   \n",
       "3        A   53.850238  [20.900333334000003, 21.3174545468, 21.3466666...   \n",
       "4        A  177.418750  [22.172333333600005, 20.135416665, 20.94015151...   \n",
       "\n",
       "                                              precip  \\\n",
       "0                          [0.0, 0.0, 0.0, 0.0, 0.0]   \n",
       "1              [0.00884, 0.0, 0.00272, 0.0, 0.02244]   \n",
       "2      [0.41088, 0.33083333333333326, 0.0, 0.0, 0.0]   \n",
       "3  [0.47547999999999996, 0.13463999999999998, 0.9...   \n",
       "4         [0.006120000000000001, 0.0, 0.0, 0.0, 0.0]   \n",
       "\n",
       "                                        rel_humidity  \\\n",
       "0  [0.758530303, 0.758530303, 0.758530303, 0.7585...   \n",
       "1  [0.7689733332799998, 0.7005400001200001, 0.747...   \n",
       "2  [0.80059333332, 0.7871328913750001, 0.65393000...   \n",
       "3  [0.88293333336, 0.9111854545999999, 0.89851060...   \n",
       "4  [0.77601, 0.8424583335, 0.8092992425000001, 0....   \n",
       "\n",
       "                                            wind_dir  \\\n",
       "0  [209.57465462812502, 209.57465462812502, 209.5...   \n",
       "1  [179.55315947440002, 172.66441776759999, 167.2...   \n",
       "2  [318.5086036333334, 318.5086036333334, 195.511...   \n",
       "3  [274.33062135, 279.80904280448, 321.2934881777...   \n",
       "4  [172.75364167520002, 229.04084504000002, 127.3...   \n",
       "\n",
       "                                            wind_spd  \\\n",
       "0  [0.677348484875, 0.677348484875, 0.67734848487...   \n",
       "1  [0.78643333332, 1.01683333336, 0.8164666666799...   \n",
       "2  [1.167222222, 1.167222222, 0.9616333333999999,...   \n",
       "3  [1.4232500001, 1.3421, 1.9958333335555558, 1.9...   \n",
       "4  [0.76280000012, 0.5222916665, 0.6297727275, 0....   \n",
       "\n",
       "                                         atmos_press  \n",
       "0  [87.75243371187499, 87.75243371187499, 87.7524...  \n",
       "1  [90.36050000000002, 90.37163333279999, 90.4401...  \n",
       "2  [88.58496666639999, 88.49565972291667, 88.3588...  \n",
       "3  [88.4010000008, 88.2620333332, 88.355233333199...  \n",
       "4  [88.54163333320001, 88.5364583325, 88.48155303...  "
      ]
     },
     "execution_count": 10,
     "metadata": {},
     "output_type": "execute_result"
    }
   ],
   "source": [
    "train = train.loc[:,['location','target','temp','precip','rel_humidity','wind_dir','wind_spd','atmos_press']]\n",
    "\n",
    "train.head()"
   ]
  },
  {
   "cell_type": "markdown",
   "metadata": {},
   "source": [
    "### Duplicating meta data"
   ]
  },
  {
   "cell_type": "code",
   "execution_count": 11,
   "metadata": {},
   "outputs": [],
   "source": [
    "# copying meta_data over into 5 days\n",
    "metas = ['loc_altitude', 'km2', 'aspect', 'dist_trunk', 'dist_primary', 'dist_secondary', 'dist_tertiary', 'dist_unclassified', 'dist_residential', 'popn', 'hh', 'hh_cook_charcoal', 'hh_cook_firewood', 'hh_burn_waste', 'loc']\n",
    "for col in metas:\n",
    "    meta_data[col] = meta_data[col].apply(lambda x: [x]*5)"
   ]
  },
  {
   "cell_type": "code",
   "execution_count": 12,
   "metadata": {},
   "outputs": [
    {
     "data": {
      "text/html": [
       "<div>\n",
       "<style scoped>\n",
       "    .dataframe tbody tr th:only-of-type {\n",
       "        vertical-align: middle;\n",
       "    }\n",
       "\n",
       "    .dataframe tbody tr th {\n",
       "        vertical-align: top;\n",
       "    }\n",
       "\n",
       "    .dataframe thead th {\n",
       "        text-align: right;\n",
       "    }\n",
       "</style>\n",
       "<table border=\"1\" class=\"dataframe\">\n",
       "  <thead>\n",
       "    <tr style=\"text-align: right;\">\n",
       "      <th></th>\n",
       "      <th>location</th>\n",
       "      <th>loc_altitude</th>\n",
       "      <th>km2</th>\n",
       "      <th>aspect</th>\n",
       "      <th>dist_trunk</th>\n",
       "      <th>dist_primary</th>\n",
       "      <th>dist_secondary</th>\n",
       "      <th>dist_tertiary</th>\n",
       "      <th>dist_unclassified</th>\n",
       "      <th>dist_residential</th>\n",
       "      <th>popn</th>\n",
       "      <th>hh</th>\n",
       "      <th>hh_cook_charcoal</th>\n",
       "      <th>hh_cook_firewood</th>\n",
       "      <th>hh_burn_waste</th>\n",
       "      <th>loc</th>\n",
       "    </tr>\n",
       "  </thead>\n",
       "  <tbody>\n",
       "    <tr>\n",
       "      <th>0</th>\n",
       "      <td>A</td>\n",
       "      <td>[1122.4, 1122.4, 1122.4, 1122.4, 1122.4]</td>\n",
       "      <td>[1.9, 1.9, 1.9, 1.9, 1.9]</td>\n",
       "      <td>[194.0, 194.0, 194.0, 194.0, 194.0]</td>\n",
       "      <td>[5000.0, 5000.0, 5000.0, 5000.0, 5000.0]</td>\n",
       "      <td>[14.69578945, 14.69578945, 14.69578945, 14.695...</td>\n",
       "      <td>[343.5950389, 343.5950389, 343.5950389, 343.59...</td>\n",
       "      <td>[575.9174216, 575.9174216, 575.9174216, 575.91...</td>\n",
       "      <td>[330.6097755, 330.6097755, 330.6097755, 330.60...</td>\n",
       "      <td>[254.3074148, 254.3074148, 254.3074148, 254.30...</td>\n",
       "      <td>[4763, 4763, 4763, 4763, 4763]</td>\n",
       "      <td>[809, 809, 809, 809, 809]</td>\n",
       "      <td>[508, 508, 508, 508, 508]</td>\n",
       "      <td>[43, 43, 43, 43, 43]</td>\n",
       "      <td>[142, 142, 142, 142, 142]</td>\n",
       "      <td>[1, 1, 1, 1, 1]</td>\n",
       "    </tr>\n",
       "    <tr>\n",
       "      <th>1</th>\n",
       "      <td>B</td>\n",
       "      <td>[1155.4, 1155.4, 1155.4, 1155.4, 1155.4]</td>\n",
       "      <td>[5.4, 5.4, 5.4, 5.4, 5.4]</td>\n",
       "      <td>[219.8, 219.8, 219.8, 219.8, 219.8]</td>\n",
       "      <td>[528.0784759, 528.0784759, 528.0784759, 528.07...</td>\n",
       "      <td>[2172.6804620000007, 2172.6804620000007, 2172....</td>\n",
       "      <td>[1144.3764119999996, 1144.3764119999996, 1144....</td>\n",
       "      <td>[531.1032705, 531.1032705, 531.1032705, 531.10...</td>\n",
       "      <td>[65.1420043, 65.1420043, 65.1420043, 65.142004...</td>\n",
       "      <td>[1.042808892, 1.042808892, 1.042808892, 1.0428...</td>\n",
       "      <td>[22243, 22243, 22243, 22243, 22243]</td>\n",
       "      <td>[5735, 5735, 5735, 5735, 5735]</td>\n",
       "      <td>[116, 116, 116, 116, 116]</td>\n",
       "      <td>[1144, 1144, 1144, 1144, 1144]</td>\n",
       "      <td>[239, 239, 239, 239, 239]</td>\n",
       "      <td>[2, 2, 2, 2, 2]</td>\n",
       "    </tr>\n",
       "    <tr>\n",
       "      <th>2</th>\n",
       "      <td>C</td>\n",
       "      <td>[1178.3, 1178.3, 1178.3, 1178.3, 1178.3]</td>\n",
       "      <td>[8.5, 8.5, 8.5, 8.5, 8.5]</td>\n",
       "      <td>[168.7, 168.7, 168.7, 168.7, 168.7]</td>\n",
       "      <td>[32.88551954, 32.88551954, 32.88551954, 32.885...</td>\n",
       "      <td>[4794.704552, 4794.704552, 4794.704552, 4794.7...</td>\n",
       "      <td>[12.73048852, 12.73048852, 12.73048852, 12.730...</td>\n",
       "      <td>[72.45934032, 72.45934032, 72.45934032, 72.459...</td>\n",
       "      <td>[406.9678152, 406.9678152, 406.9678152, 406.96...</td>\n",
       "      <td>[13.93134954, 13.93134954, 13.93134954, 13.931...</td>\n",
       "      <td>[97895, 97895, 97895, 97895, 97895]</td>\n",
       "      <td>[26873, 26873, 26873, 26873, 26873]</td>\n",
       "      <td>[21316, 21316, 21316, 21316, 21316]</td>\n",
       "      <td>[751, 751, 751, 751, 751]</td>\n",
       "      <td>[9835, 9835, 9835, 9835, 9835]</td>\n",
       "      <td>[3, 3, 3, 3, 3]</td>\n",
       "    </tr>\n",
       "    <tr>\n",
       "      <th>3</th>\n",
       "      <td>D</td>\n",
       "      <td>[980.8, 980.8, 980.8, 980.8, 980.8]</td>\n",
       "      <td>[0.8, 0.8, 0.8, 0.8, 0.8]</td>\n",
       "      <td>[90.0, 90.0, 90.0, 90.0, 90.0]</td>\n",
       "      <td>[5000.0, 5000.0, 5000.0, 5000.0, 5000.0]</td>\n",
       "      <td>[265.8964721, 265.8964721, 265.8964721, 265.89...</td>\n",
       "      <td>[5000.0, 5000.0, 5000.0, 5000.0, 5000.0]</td>\n",
       "      <td>[339.6939077, 339.6939077, 339.6939077, 339.69...</td>\n",
       "      <td>[76.02438885, 76.02438885, 76.02438885, 76.024...</td>\n",
       "      <td>[11.60144208, 11.60144208, 11.60144208, 11.601...</td>\n",
       "      <td>[3596, 3596, 3596, 3596, 3596]</td>\n",
       "      <td>[663, 663, 663, 663, 663]</td>\n",
       "      <td>[7, 7, 7, 7, 7]</td>\n",
       "      <td>[651, 651, 651, 651, 651]</td>\n",
       "      <td>[99, 99, 99, 99, 99]</td>\n",
       "      <td>[4, 4, 4, 4, 4]</td>\n",
       "    </tr>\n",
       "    <tr>\n",
       "      <th>4</th>\n",
       "      <td>E</td>\n",
       "      <td>[1186.5, 1186.5, 1186.5, 1186.5, 1186.5]</td>\n",
       "      <td>[1.6, 1.6, 1.6, 1.6, 1.6]</td>\n",
       "      <td>[121.0, 121.0, 121.0, 121.0, 121.0]</td>\n",
       "      <td>[850.4231312999998, 850.4231312999998, 850.423...</td>\n",
       "      <td>[5000.0, 5000.0, 5000.0, 5000.0, 5000.0]</td>\n",
       "      <td>[1738.8729420000002, 1738.8729420000002, 1738....</td>\n",
       "      <td>[137.72208740000002, 137.72208740000002, 137.7...</td>\n",
       "      <td>[449.59188539999985, 449.59188539999985, 449.5...</td>\n",
       "      <td>[3.836588765, 3.836588765, 3.836588765, 3.8365...</td>\n",
       "      <td>[6064, 6064, 6064, 6064, 6064]</td>\n",
       "      <td>[1297, 1297, 1297, 1297, 1297]</td>\n",
       "      <td>[985, 985, 985, 985, 985]</td>\n",
       "      <td>[26, 26, 26, 26, 26]</td>\n",
       "      <td>[43, 43, 43, 43, 43]</td>\n",
       "      <td>[5, 5, 5, 5, 5]</td>\n",
       "    </tr>\n",
       "  </tbody>\n",
       "</table>\n",
       "</div>"
      ],
      "text/plain": [
       "  location                              loc_altitude  \\\n",
       "0        A  [1122.4, 1122.4, 1122.4, 1122.4, 1122.4]   \n",
       "1        B  [1155.4, 1155.4, 1155.4, 1155.4, 1155.4]   \n",
       "2        C  [1178.3, 1178.3, 1178.3, 1178.3, 1178.3]   \n",
       "3        D       [980.8, 980.8, 980.8, 980.8, 980.8]   \n",
       "4        E  [1186.5, 1186.5, 1186.5, 1186.5, 1186.5]   \n",
       "\n",
       "                         km2                               aspect  \\\n",
       "0  [1.9, 1.9, 1.9, 1.9, 1.9]  [194.0, 194.0, 194.0, 194.0, 194.0]   \n",
       "1  [5.4, 5.4, 5.4, 5.4, 5.4]  [219.8, 219.8, 219.8, 219.8, 219.8]   \n",
       "2  [8.5, 8.5, 8.5, 8.5, 8.5]  [168.7, 168.7, 168.7, 168.7, 168.7]   \n",
       "3  [0.8, 0.8, 0.8, 0.8, 0.8]       [90.0, 90.0, 90.0, 90.0, 90.0]   \n",
       "4  [1.6, 1.6, 1.6, 1.6, 1.6]  [121.0, 121.0, 121.0, 121.0, 121.0]   \n",
       "\n",
       "                                          dist_trunk  \\\n",
       "0           [5000.0, 5000.0, 5000.0, 5000.0, 5000.0]   \n",
       "1  [528.0784759, 528.0784759, 528.0784759, 528.07...   \n",
       "2  [32.88551954, 32.88551954, 32.88551954, 32.885...   \n",
       "3           [5000.0, 5000.0, 5000.0, 5000.0, 5000.0]   \n",
       "4  [850.4231312999998, 850.4231312999998, 850.423...   \n",
       "\n",
       "                                        dist_primary  \\\n",
       "0  [14.69578945, 14.69578945, 14.69578945, 14.695...   \n",
       "1  [2172.6804620000007, 2172.6804620000007, 2172....   \n",
       "2  [4794.704552, 4794.704552, 4794.704552, 4794.7...   \n",
       "3  [265.8964721, 265.8964721, 265.8964721, 265.89...   \n",
       "4           [5000.0, 5000.0, 5000.0, 5000.0, 5000.0]   \n",
       "\n",
       "                                      dist_secondary  \\\n",
       "0  [343.5950389, 343.5950389, 343.5950389, 343.59...   \n",
       "1  [1144.3764119999996, 1144.3764119999996, 1144....   \n",
       "2  [12.73048852, 12.73048852, 12.73048852, 12.730...   \n",
       "3           [5000.0, 5000.0, 5000.0, 5000.0, 5000.0]   \n",
       "4  [1738.8729420000002, 1738.8729420000002, 1738....   \n",
       "\n",
       "                                       dist_tertiary  \\\n",
       "0  [575.9174216, 575.9174216, 575.9174216, 575.91...   \n",
       "1  [531.1032705, 531.1032705, 531.1032705, 531.10...   \n",
       "2  [72.45934032, 72.45934032, 72.45934032, 72.459...   \n",
       "3  [339.6939077, 339.6939077, 339.6939077, 339.69...   \n",
       "4  [137.72208740000002, 137.72208740000002, 137.7...   \n",
       "\n",
       "                                   dist_unclassified  \\\n",
       "0  [330.6097755, 330.6097755, 330.6097755, 330.60...   \n",
       "1  [65.1420043, 65.1420043, 65.1420043, 65.142004...   \n",
       "2  [406.9678152, 406.9678152, 406.9678152, 406.96...   \n",
       "3  [76.02438885, 76.02438885, 76.02438885, 76.024...   \n",
       "4  [449.59188539999985, 449.59188539999985, 449.5...   \n",
       "\n",
       "                                    dist_residential  \\\n",
       "0  [254.3074148, 254.3074148, 254.3074148, 254.30...   \n",
       "1  [1.042808892, 1.042808892, 1.042808892, 1.0428...   \n",
       "2  [13.93134954, 13.93134954, 13.93134954, 13.931...   \n",
       "3  [11.60144208, 11.60144208, 11.60144208, 11.601...   \n",
       "4  [3.836588765, 3.836588765, 3.836588765, 3.8365...   \n",
       "\n",
       "                                  popn                                   hh  \\\n",
       "0       [4763, 4763, 4763, 4763, 4763]            [809, 809, 809, 809, 809]   \n",
       "1  [22243, 22243, 22243, 22243, 22243]       [5735, 5735, 5735, 5735, 5735]   \n",
       "2  [97895, 97895, 97895, 97895, 97895]  [26873, 26873, 26873, 26873, 26873]   \n",
       "3       [3596, 3596, 3596, 3596, 3596]            [663, 663, 663, 663, 663]   \n",
       "4       [6064, 6064, 6064, 6064, 6064]       [1297, 1297, 1297, 1297, 1297]   \n",
       "\n",
       "                      hh_cook_charcoal                hh_cook_firewood  \\\n",
       "0            [508, 508, 508, 508, 508]            [43, 43, 43, 43, 43]   \n",
       "1            [116, 116, 116, 116, 116]  [1144, 1144, 1144, 1144, 1144]   \n",
       "2  [21316, 21316, 21316, 21316, 21316]       [751, 751, 751, 751, 751]   \n",
       "3                      [7, 7, 7, 7, 7]       [651, 651, 651, 651, 651]   \n",
       "4            [985, 985, 985, 985, 985]            [26, 26, 26, 26, 26]   \n",
       "\n",
       "                    hh_burn_waste              loc  \n",
       "0       [142, 142, 142, 142, 142]  [1, 1, 1, 1, 1]  \n",
       "1       [239, 239, 239, 239, 239]  [2, 2, 2, 2, 2]  \n",
       "2  [9835, 9835, 9835, 9835, 9835]  [3, 3, 3, 3, 3]  \n",
       "3            [99, 99, 99, 99, 99]  [4, 4, 4, 4, 4]  \n",
       "4            [43, 43, 43, 43, 43]  [5, 5, 5, 5, 5]  "
      ]
     },
     "execution_count": 12,
     "metadata": {},
     "output_type": "execute_result"
    }
   ],
   "source": [
    "meta_data.head()"
   ]
  },
  {
   "cell_type": "markdown",
   "metadata": {},
   "source": [
    "### Combine weather data and locational features"
   ]
  },
  {
   "cell_type": "code",
   "execution_count": 13,
   "metadata": {},
   "outputs": [],
   "source": [
    "# combine meta data and time serie data into one dataset\n",
    "train_dataset = pd.merge(train, meta_data, on = \"location\", how = 'left')"
   ]
  },
  {
   "cell_type": "code",
   "execution_count": 14,
   "metadata": {},
   "outputs": [
    {
     "data": {
      "text/html": [
       "<div>\n",
       "<style scoped>\n",
       "    .dataframe tbody tr th:only-of-type {\n",
       "        vertical-align: middle;\n",
       "    }\n",
       "\n",
       "    .dataframe tbody tr th {\n",
       "        vertical-align: top;\n",
       "    }\n",
       "\n",
       "    .dataframe thead th {\n",
       "        text-align: right;\n",
       "    }\n",
       "</style>\n",
       "<table border=\"1\" class=\"dataframe\">\n",
       "  <thead>\n",
       "    <tr style=\"text-align: right;\">\n",
       "      <th></th>\n",
       "      <th>location</th>\n",
       "      <th>target</th>\n",
       "      <th>temp</th>\n",
       "      <th>precip</th>\n",
       "      <th>rel_humidity</th>\n",
       "      <th>wind_dir</th>\n",
       "      <th>wind_spd</th>\n",
       "      <th>atmos_press</th>\n",
       "      <th>loc_altitude</th>\n",
       "      <th>km2</th>\n",
       "      <th>...</th>\n",
       "      <th>dist_secondary</th>\n",
       "      <th>dist_tertiary</th>\n",
       "      <th>dist_unclassified</th>\n",
       "      <th>dist_residential</th>\n",
       "      <th>popn</th>\n",
       "      <th>hh</th>\n",
       "      <th>hh_cook_charcoal</th>\n",
       "      <th>hh_cook_firewood</th>\n",
       "      <th>hh_burn_waste</th>\n",
       "      <th>loc</th>\n",
       "    </tr>\n",
       "  </thead>\n",
       "  <tbody>\n",
       "    <tr>\n",
       "      <th>0</th>\n",
       "      <td>C</td>\n",
       "      <td>45.126304</td>\n",
       "      <td>[22.299526514375, 22.299526514375, 22.29952651...</td>\n",
       "      <td>[0.0, 0.0, 0.0, 0.0, 0.0]</td>\n",
       "      <td>[0.758530303, 0.758530303, 0.758530303, 0.7585...</td>\n",
       "      <td>[209.57465462812502, 209.57465462812502, 209.5...</td>\n",
       "      <td>[0.677348484875, 0.677348484875, 0.67734848487...</td>\n",
       "      <td>[87.75243371187499, 87.75243371187499, 87.7524...</td>\n",
       "      <td>[1178.3, 1178.3, 1178.3, 1178.3, 1178.3]</td>\n",
       "      <td>[8.5, 8.5, 8.5, 8.5, 8.5]</td>\n",
       "      <td>...</td>\n",
       "      <td>[12.73048852, 12.73048852, 12.73048852, 12.730...</td>\n",
       "      <td>[72.45934032, 72.45934032, 72.45934032, 72.459...</td>\n",
       "      <td>[406.9678152, 406.9678152, 406.9678152, 406.96...</td>\n",
       "      <td>[13.93134954, 13.93134954, 13.93134954, 13.931...</td>\n",
       "      <td>[97895, 97895, 97895, 97895, 97895]</td>\n",
       "      <td>[26873, 26873, 26873, 26873, 26873]</td>\n",
       "      <td>[21316, 21316, 21316, 21316, 21316]</td>\n",
       "      <td>[751, 751, 751, 751, 751]</td>\n",
       "      <td>[9835, 9835, 9835, 9835, 9835]</td>\n",
       "      <td>[3, 3, 3, 3, 3]</td>\n",
       "    </tr>\n",
       "    <tr>\n",
       "      <th>1</th>\n",
       "      <td>D</td>\n",
       "      <td>79.131702</td>\n",
       "      <td>[24.5983333332, 25.682000000000002, 25.0643333...</td>\n",
       "      <td>[0.00884, 0.0, 0.00272, 0.0, 0.02244]</td>\n",
       "      <td>[0.7689733332799998, 0.7005400001200001, 0.747...</td>\n",
       "      <td>[179.55315947440002, 172.66441776759999, 167.2...</td>\n",
       "      <td>[0.78643333332, 1.01683333336, 0.8164666666799...</td>\n",
       "      <td>[90.36050000000002, 90.37163333279999, 90.4401...</td>\n",
       "      <td>[980.8, 980.8, 980.8, 980.8, 980.8]</td>\n",
       "      <td>[0.8, 0.8, 0.8, 0.8, 0.8]</td>\n",
       "      <td>...</td>\n",
       "      <td>[5000.0, 5000.0, 5000.0, 5000.0, 5000.0]</td>\n",
       "      <td>[339.6939077, 339.6939077, 339.6939077, 339.69...</td>\n",
       "      <td>[76.02438885, 76.02438885, 76.02438885, 76.024...</td>\n",
       "      <td>[11.60144208, 11.60144208, 11.60144208, 11.601...</td>\n",
       "      <td>[3596, 3596, 3596, 3596, 3596]</td>\n",
       "      <td>[663, 663, 663, 663, 663]</td>\n",
       "      <td>[7, 7, 7, 7, 7]</td>\n",
       "      <td>[651, 651, 651, 651, 651]</td>\n",
       "      <td>[99, 99, 99, 99, 99]</td>\n",
       "      <td>[4, 4, 4, 4, 4]</td>\n",
       "    </tr>\n",
       "    <tr>\n",
       "      <th>2</th>\n",
       "      <td>A</td>\n",
       "      <td>32.661304</td>\n",
       "      <td>[22.3073333336, 22.031376263333332, 25.4629999...</td>\n",
       "      <td>[0.41088, 0.33083333333333326, 0.0, 0.0, 0.0]</td>\n",
       "      <td>[0.80059333332, 0.7871328913750001, 0.65393000...</td>\n",
       "      <td>[318.5086036333334, 318.5086036333334, 195.511...</td>\n",
       "      <td>[1.167222222, 1.167222222, 0.9616333333999999,...</td>\n",
       "      <td>[88.58496666639999, 88.49565972291667, 88.3588...</td>\n",
       "      <td>[1122.4, 1122.4, 1122.4, 1122.4, 1122.4]</td>\n",
       "      <td>[1.9, 1.9, 1.9, 1.9, 1.9]</td>\n",
       "      <td>...</td>\n",
       "      <td>[343.5950389, 343.5950389, 343.5950389, 343.59...</td>\n",
       "      <td>[575.9174216, 575.9174216, 575.9174216, 575.91...</td>\n",
       "      <td>[330.6097755, 330.6097755, 330.6097755, 330.60...</td>\n",
       "      <td>[254.3074148, 254.3074148, 254.3074148, 254.30...</td>\n",
       "      <td>[4763, 4763, 4763, 4763, 4763]</td>\n",
       "      <td>[809, 809, 809, 809, 809]</td>\n",
       "      <td>[508, 508, 508, 508, 508]</td>\n",
       "      <td>[43, 43, 43, 43, 43]</td>\n",
       "      <td>[142, 142, 142, 142, 142]</td>\n",
       "      <td>[1, 1, 1, 1, 1]</td>\n",
       "    </tr>\n",
       "    <tr>\n",
       "      <th>3</th>\n",
       "      <td>A</td>\n",
       "      <td>53.850238</td>\n",
       "      <td>[20.900333334000003, 21.3174545468, 21.3466666...</td>\n",
       "      <td>[0.47547999999999996, 0.13463999999999998, 0.9...</td>\n",
       "      <td>[0.88293333336, 0.9111854545999999, 0.89851060...</td>\n",
       "      <td>[274.33062135, 279.80904280448, 321.2934881777...</td>\n",
       "      <td>[1.4232500001, 1.3421, 1.9958333335555558, 1.9...</td>\n",
       "      <td>[88.4010000008, 88.2620333332, 88.355233333199...</td>\n",
       "      <td>[1122.4, 1122.4, 1122.4, 1122.4, 1122.4]</td>\n",
       "      <td>[1.9, 1.9, 1.9, 1.9, 1.9]</td>\n",
       "      <td>...</td>\n",
       "      <td>[343.5950389, 343.5950389, 343.5950389, 343.59...</td>\n",
       "      <td>[575.9174216, 575.9174216, 575.9174216, 575.91...</td>\n",
       "      <td>[330.6097755, 330.6097755, 330.6097755, 330.60...</td>\n",
       "      <td>[254.3074148, 254.3074148, 254.3074148, 254.30...</td>\n",
       "      <td>[4763, 4763, 4763, 4763, 4763]</td>\n",
       "      <td>[809, 809, 809, 809, 809]</td>\n",
       "      <td>[508, 508, 508, 508, 508]</td>\n",
       "      <td>[43, 43, 43, 43, 43]</td>\n",
       "      <td>[142, 142, 142, 142, 142]</td>\n",
       "      <td>[1, 1, 1, 1, 1]</td>\n",
       "    </tr>\n",
       "    <tr>\n",
       "      <th>4</th>\n",
       "      <td>A</td>\n",
       "      <td>177.418750</td>\n",
       "      <td>[22.172333333600005, 20.135416665, 20.94015151...</td>\n",
       "      <td>[0.006120000000000001, 0.0, 0.0, 0.0, 0.0]</td>\n",
       "      <td>[0.77601, 0.8424583335, 0.8092992425000001, 0....</td>\n",
       "      <td>[172.75364167520002, 229.04084504000002, 127.3...</td>\n",
       "      <td>[0.76280000012, 0.5222916665, 0.6297727275, 0....</td>\n",
       "      <td>[88.54163333320001, 88.5364583325, 88.48155303...</td>\n",
       "      <td>[1122.4, 1122.4, 1122.4, 1122.4, 1122.4]</td>\n",
       "      <td>[1.9, 1.9, 1.9, 1.9, 1.9]</td>\n",
       "      <td>...</td>\n",
       "      <td>[343.5950389, 343.5950389, 343.5950389, 343.59...</td>\n",
       "      <td>[575.9174216, 575.9174216, 575.9174216, 575.91...</td>\n",
       "      <td>[330.6097755, 330.6097755, 330.6097755, 330.60...</td>\n",
       "      <td>[254.3074148, 254.3074148, 254.3074148, 254.30...</td>\n",
       "      <td>[4763, 4763, 4763, 4763, 4763]</td>\n",
       "      <td>[809, 809, 809, 809, 809]</td>\n",
       "      <td>[508, 508, 508, 508, 508]</td>\n",
       "      <td>[43, 43, 43, 43, 43]</td>\n",
       "      <td>[142, 142, 142, 142, 142]</td>\n",
       "      <td>[1, 1, 1, 1, 1]</td>\n",
       "    </tr>\n",
       "  </tbody>\n",
       "</table>\n",
       "<p>5 rows × 23 columns</p>\n",
       "</div>"
      ],
      "text/plain": [
       "  location      target                                               temp  \\\n",
       "0        C   45.126304  [22.299526514375, 22.299526514375, 22.29952651...   \n",
       "1        D   79.131702  [24.5983333332, 25.682000000000002, 25.0643333...   \n",
       "2        A   32.661304  [22.3073333336, 22.031376263333332, 25.4629999...   \n",
       "3        A   53.850238  [20.900333334000003, 21.3174545468, 21.3466666...   \n",
       "4        A  177.418750  [22.172333333600005, 20.135416665, 20.94015151...   \n",
       "\n",
       "                                              precip  \\\n",
       "0                          [0.0, 0.0, 0.0, 0.0, 0.0]   \n",
       "1              [0.00884, 0.0, 0.00272, 0.0, 0.02244]   \n",
       "2      [0.41088, 0.33083333333333326, 0.0, 0.0, 0.0]   \n",
       "3  [0.47547999999999996, 0.13463999999999998, 0.9...   \n",
       "4         [0.006120000000000001, 0.0, 0.0, 0.0, 0.0]   \n",
       "\n",
       "                                        rel_humidity  \\\n",
       "0  [0.758530303, 0.758530303, 0.758530303, 0.7585...   \n",
       "1  [0.7689733332799998, 0.7005400001200001, 0.747...   \n",
       "2  [0.80059333332, 0.7871328913750001, 0.65393000...   \n",
       "3  [0.88293333336, 0.9111854545999999, 0.89851060...   \n",
       "4  [0.77601, 0.8424583335, 0.8092992425000001, 0....   \n",
       "\n",
       "                                            wind_dir  \\\n",
       "0  [209.57465462812502, 209.57465462812502, 209.5...   \n",
       "1  [179.55315947440002, 172.66441776759999, 167.2...   \n",
       "2  [318.5086036333334, 318.5086036333334, 195.511...   \n",
       "3  [274.33062135, 279.80904280448, 321.2934881777...   \n",
       "4  [172.75364167520002, 229.04084504000002, 127.3...   \n",
       "\n",
       "                                            wind_spd  \\\n",
       "0  [0.677348484875, 0.677348484875, 0.67734848487...   \n",
       "1  [0.78643333332, 1.01683333336, 0.8164666666799...   \n",
       "2  [1.167222222, 1.167222222, 0.9616333333999999,...   \n",
       "3  [1.4232500001, 1.3421, 1.9958333335555558, 1.9...   \n",
       "4  [0.76280000012, 0.5222916665, 0.6297727275, 0....   \n",
       "\n",
       "                                         atmos_press  \\\n",
       "0  [87.75243371187499, 87.75243371187499, 87.7524...   \n",
       "1  [90.36050000000002, 90.37163333279999, 90.4401...   \n",
       "2  [88.58496666639999, 88.49565972291667, 88.3588...   \n",
       "3  [88.4010000008, 88.2620333332, 88.355233333199...   \n",
       "4  [88.54163333320001, 88.5364583325, 88.48155303...   \n",
       "\n",
       "                               loc_altitude                        km2  ...  \\\n",
       "0  [1178.3, 1178.3, 1178.3, 1178.3, 1178.3]  [8.5, 8.5, 8.5, 8.5, 8.5]  ...   \n",
       "1       [980.8, 980.8, 980.8, 980.8, 980.8]  [0.8, 0.8, 0.8, 0.8, 0.8]  ...   \n",
       "2  [1122.4, 1122.4, 1122.4, 1122.4, 1122.4]  [1.9, 1.9, 1.9, 1.9, 1.9]  ...   \n",
       "3  [1122.4, 1122.4, 1122.4, 1122.4, 1122.4]  [1.9, 1.9, 1.9, 1.9, 1.9]  ...   \n",
       "4  [1122.4, 1122.4, 1122.4, 1122.4, 1122.4]  [1.9, 1.9, 1.9, 1.9, 1.9]  ...   \n",
       "\n",
       "                                      dist_secondary  \\\n",
       "0  [12.73048852, 12.73048852, 12.73048852, 12.730...   \n",
       "1           [5000.0, 5000.0, 5000.0, 5000.0, 5000.0]   \n",
       "2  [343.5950389, 343.5950389, 343.5950389, 343.59...   \n",
       "3  [343.5950389, 343.5950389, 343.5950389, 343.59...   \n",
       "4  [343.5950389, 343.5950389, 343.5950389, 343.59...   \n",
       "\n",
       "                                       dist_tertiary  \\\n",
       "0  [72.45934032, 72.45934032, 72.45934032, 72.459...   \n",
       "1  [339.6939077, 339.6939077, 339.6939077, 339.69...   \n",
       "2  [575.9174216, 575.9174216, 575.9174216, 575.91...   \n",
       "3  [575.9174216, 575.9174216, 575.9174216, 575.91...   \n",
       "4  [575.9174216, 575.9174216, 575.9174216, 575.91...   \n",
       "\n",
       "                                   dist_unclassified  \\\n",
       "0  [406.9678152, 406.9678152, 406.9678152, 406.96...   \n",
       "1  [76.02438885, 76.02438885, 76.02438885, 76.024...   \n",
       "2  [330.6097755, 330.6097755, 330.6097755, 330.60...   \n",
       "3  [330.6097755, 330.6097755, 330.6097755, 330.60...   \n",
       "4  [330.6097755, 330.6097755, 330.6097755, 330.60...   \n",
       "\n",
       "                                    dist_residential  \\\n",
       "0  [13.93134954, 13.93134954, 13.93134954, 13.931...   \n",
       "1  [11.60144208, 11.60144208, 11.60144208, 11.601...   \n",
       "2  [254.3074148, 254.3074148, 254.3074148, 254.30...   \n",
       "3  [254.3074148, 254.3074148, 254.3074148, 254.30...   \n",
       "4  [254.3074148, 254.3074148, 254.3074148, 254.30...   \n",
       "\n",
       "                                  popn                                   hh  \\\n",
       "0  [97895, 97895, 97895, 97895, 97895]  [26873, 26873, 26873, 26873, 26873]   \n",
       "1       [3596, 3596, 3596, 3596, 3596]            [663, 663, 663, 663, 663]   \n",
       "2       [4763, 4763, 4763, 4763, 4763]            [809, 809, 809, 809, 809]   \n",
       "3       [4763, 4763, 4763, 4763, 4763]            [809, 809, 809, 809, 809]   \n",
       "4       [4763, 4763, 4763, 4763, 4763]            [809, 809, 809, 809, 809]   \n",
       "\n",
       "                      hh_cook_charcoal           hh_cook_firewood  \\\n",
       "0  [21316, 21316, 21316, 21316, 21316]  [751, 751, 751, 751, 751]   \n",
       "1                      [7, 7, 7, 7, 7]  [651, 651, 651, 651, 651]   \n",
       "2            [508, 508, 508, 508, 508]       [43, 43, 43, 43, 43]   \n",
       "3            [508, 508, 508, 508, 508]       [43, 43, 43, 43, 43]   \n",
       "4            [508, 508, 508, 508, 508]       [43, 43, 43, 43, 43]   \n",
       "\n",
       "                    hh_burn_waste              loc  \n",
       "0  [9835, 9835, 9835, 9835, 9835]  [3, 3, 3, 3, 3]  \n",
       "1            [99, 99, 99, 99, 99]  [4, 4, 4, 4, 4]  \n",
       "2       [142, 142, 142, 142, 142]  [1, 1, 1, 1, 1]  \n",
       "3       [142, 142, 142, 142, 142]  [1, 1, 1, 1, 1]  \n",
       "4       [142, 142, 142, 142, 142]  [1, 1, 1, 1, 1]  \n",
       "\n",
       "[5 rows x 23 columns]"
      ]
     },
     "execution_count": 14,
     "metadata": {},
     "output_type": "execute_result"
    }
   ],
   "source": [
    "train_dataset.head()"
   ]
  },
  {
   "cell_type": "code",
   "execution_count": 15,
   "metadata": {},
   "outputs": [],
   "source": [
    "train_dataset.drop(['location'],1, inplace=True)"
   ]
  },
  {
   "cell_type": "code",
   "execution_count": 16,
   "metadata": {},
   "outputs": [
    {
     "data": {
      "text/html": [
       "<div>\n",
       "<style scoped>\n",
       "    .dataframe tbody tr th:only-of-type {\n",
       "        vertical-align: middle;\n",
       "    }\n",
       "\n",
       "    .dataframe tbody tr th {\n",
       "        vertical-align: top;\n",
       "    }\n",
       "\n",
       "    .dataframe thead th {\n",
       "        text-align: right;\n",
       "    }\n",
       "</style>\n",
       "<table border=\"1\" class=\"dataframe\">\n",
       "  <thead>\n",
       "    <tr style=\"text-align: right;\">\n",
       "      <th></th>\n",
       "      <th>target</th>\n",
       "      <th>temp</th>\n",
       "      <th>precip</th>\n",
       "      <th>rel_humidity</th>\n",
       "      <th>wind_dir</th>\n",
       "      <th>wind_spd</th>\n",
       "      <th>atmos_press</th>\n",
       "      <th>loc_altitude</th>\n",
       "      <th>km2</th>\n",
       "      <th>aspect</th>\n",
       "      <th>...</th>\n",
       "      <th>dist_secondary</th>\n",
       "      <th>dist_tertiary</th>\n",
       "      <th>dist_unclassified</th>\n",
       "      <th>dist_residential</th>\n",
       "      <th>popn</th>\n",
       "      <th>hh</th>\n",
       "      <th>hh_cook_charcoal</th>\n",
       "      <th>hh_cook_firewood</th>\n",
       "      <th>hh_burn_waste</th>\n",
       "      <th>loc</th>\n",
       "    </tr>\n",
       "  </thead>\n",
       "  <tbody>\n",
       "    <tr>\n",
       "      <th>0</th>\n",
       "      <td>45.126304</td>\n",
       "      <td>[22.299526514375, 22.299526514375, 22.29952651...</td>\n",
       "      <td>[0.0, 0.0, 0.0, 0.0, 0.0]</td>\n",
       "      <td>[0.758530303, 0.758530303, 0.758530303, 0.7585...</td>\n",
       "      <td>[209.57465462812502, 209.57465462812502, 209.5...</td>\n",
       "      <td>[0.677348484875, 0.677348484875, 0.67734848487...</td>\n",
       "      <td>[87.75243371187499, 87.75243371187499, 87.7524...</td>\n",
       "      <td>[1178.3, 1178.3, 1178.3, 1178.3, 1178.3]</td>\n",
       "      <td>[8.5, 8.5, 8.5, 8.5, 8.5]</td>\n",
       "      <td>[168.7, 168.7, 168.7, 168.7, 168.7]</td>\n",
       "      <td>...</td>\n",
       "      <td>[12.73048852, 12.73048852, 12.73048852, 12.730...</td>\n",
       "      <td>[72.45934032, 72.45934032, 72.45934032, 72.459...</td>\n",
       "      <td>[406.9678152, 406.9678152, 406.9678152, 406.96...</td>\n",
       "      <td>[13.93134954, 13.93134954, 13.93134954, 13.931...</td>\n",
       "      <td>[97895, 97895, 97895, 97895, 97895]</td>\n",
       "      <td>[26873, 26873, 26873, 26873, 26873]</td>\n",
       "      <td>[21316, 21316, 21316, 21316, 21316]</td>\n",
       "      <td>[751, 751, 751, 751, 751]</td>\n",
       "      <td>[9835, 9835, 9835, 9835, 9835]</td>\n",
       "      <td>[3, 3, 3, 3, 3]</td>\n",
       "    </tr>\n",
       "    <tr>\n",
       "      <th>1</th>\n",
       "      <td>79.131702</td>\n",
       "      <td>[24.5983333332, 25.682000000000002, 25.0643333...</td>\n",
       "      <td>[0.00884, 0.0, 0.00272, 0.0, 0.02244]</td>\n",
       "      <td>[0.7689733332799998, 0.7005400001200001, 0.747...</td>\n",
       "      <td>[179.55315947440002, 172.66441776759999, 167.2...</td>\n",
       "      <td>[0.78643333332, 1.01683333336, 0.8164666666799...</td>\n",
       "      <td>[90.36050000000002, 90.37163333279999, 90.4401...</td>\n",
       "      <td>[980.8, 980.8, 980.8, 980.8, 980.8]</td>\n",
       "      <td>[0.8, 0.8, 0.8, 0.8, 0.8]</td>\n",
       "      <td>[90.0, 90.0, 90.0, 90.0, 90.0]</td>\n",
       "      <td>...</td>\n",
       "      <td>[5000.0, 5000.0, 5000.0, 5000.0, 5000.0]</td>\n",
       "      <td>[339.6939077, 339.6939077, 339.6939077, 339.69...</td>\n",
       "      <td>[76.02438885, 76.02438885, 76.02438885, 76.024...</td>\n",
       "      <td>[11.60144208, 11.60144208, 11.60144208, 11.601...</td>\n",
       "      <td>[3596, 3596, 3596, 3596, 3596]</td>\n",
       "      <td>[663, 663, 663, 663, 663]</td>\n",
       "      <td>[7, 7, 7, 7, 7]</td>\n",
       "      <td>[651, 651, 651, 651, 651]</td>\n",
       "      <td>[99, 99, 99, 99, 99]</td>\n",
       "      <td>[4, 4, 4, 4, 4]</td>\n",
       "    </tr>\n",
       "    <tr>\n",
       "      <th>2</th>\n",
       "      <td>32.661304</td>\n",
       "      <td>[22.3073333336, 22.031376263333332, 25.4629999...</td>\n",
       "      <td>[0.41088, 0.33083333333333326, 0.0, 0.0, 0.0]</td>\n",
       "      <td>[0.80059333332, 0.7871328913750001, 0.65393000...</td>\n",
       "      <td>[318.5086036333334, 318.5086036333334, 195.511...</td>\n",
       "      <td>[1.167222222, 1.167222222, 0.9616333333999999,...</td>\n",
       "      <td>[88.58496666639999, 88.49565972291667, 88.3588...</td>\n",
       "      <td>[1122.4, 1122.4, 1122.4, 1122.4, 1122.4]</td>\n",
       "      <td>[1.9, 1.9, 1.9, 1.9, 1.9]</td>\n",
       "      <td>[194.0, 194.0, 194.0, 194.0, 194.0]</td>\n",
       "      <td>...</td>\n",
       "      <td>[343.5950389, 343.5950389, 343.5950389, 343.59...</td>\n",
       "      <td>[575.9174216, 575.9174216, 575.9174216, 575.91...</td>\n",
       "      <td>[330.6097755, 330.6097755, 330.6097755, 330.60...</td>\n",
       "      <td>[254.3074148, 254.3074148, 254.3074148, 254.30...</td>\n",
       "      <td>[4763, 4763, 4763, 4763, 4763]</td>\n",
       "      <td>[809, 809, 809, 809, 809]</td>\n",
       "      <td>[508, 508, 508, 508, 508]</td>\n",
       "      <td>[43, 43, 43, 43, 43]</td>\n",
       "      <td>[142, 142, 142, 142, 142]</td>\n",
       "      <td>[1, 1, 1, 1, 1]</td>\n",
       "    </tr>\n",
       "    <tr>\n",
       "      <th>3</th>\n",
       "      <td>53.850238</td>\n",
       "      <td>[20.900333334000003, 21.3174545468, 21.3466666...</td>\n",
       "      <td>[0.47547999999999996, 0.13463999999999998, 0.9...</td>\n",
       "      <td>[0.88293333336, 0.9111854545999999, 0.89851060...</td>\n",
       "      <td>[274.33062135, 279.80904280448, 321.2934881777...</td>\n",
       "      <td>[1.4232500001, 1.3421, 1.9958333335555558, 1.9...</td>\n",
       "      <td>[88.4010000008, 88.2620333332, 88.355233333199...</td>\n",
       "      <td>[1122.4, 1122.4, 1122.4, 1122.4, 1122.4]</td>\n",
       "      <td>[1.9, 1.9, 1.9, 1.9, 1.9]</td>\n",
       "      <td>[194.0, 194.0, 194.0, 194.0, 194.0]</td>\n",
       "      <td>...</td>\n",
       "      <td>[343.5950389, 343.5950389, 343.5950389, 343.59...</td>\n",
       "      <td>[575.9174216, 575.9174216, 575.9174216, 575.91...</td>\n",
       "      <td>[330.6097755, 330.6097755, 330.6097755, 330.60...</td>\n",
       "      <td>[254.3074148, 254.3074148, 254.3074148, 254.30...</td>\n",
       "      <td>[4763, 4763, 4763, 4763, 4763]</td>\n",
       "      <td>[809, 809, 809, 809, 809]</td>\n",
       "      <td>[508, 508, 508, 508, 508]</td>\n",
       "      <td>[43, 43, 43, 43, 43]</td>\n",
       "      <td>[142, 142, 142, 142, 142]</td>\n",
       "      <td>[1, 1, 1, 1, 1]</td>\n",
       "    </tr>\n",
       "    <tr>\n",
       "      <th>4</th>\n",
       "      <td>177.418750</td>\n",
       "      <td>[22.172333333600005, 20.135416665, 20.94015151...</td>\n",
       "      <td>[0.006120000000000001, 0.0, 0.0, 0.0, 0.0]</td>\n",
       "      <td>[0.77601, 0.8424583335, 0.8092992425000001, 0....</td>\n",
       "      <td>[172.75364167520002, 229.04084504000002, 127.3...</td>\n",
       "      <td>[0.76280000012, 0.5222916665, 0.6297727275, 0....</td>\n",
       "      <td>[88.54163333320001, 88.5364583325, 88.48155303...</td>\n",
       "      <td>[1122.4, 1122.4, 1122.4, 1122.4, 1122.4]</td>\n",
       "      <td>[1.9, 1.9, 1.9, 1.9, 1.9]</td>\n",
       "      <td>[194.0, 194.0, 194.0, 194.0, 194.0]</td>\n",
       "      <td>...</td>\n",
       "      <td>[343.5950389, 343.5950389, 343.5950389, 343.59...</td>\n",
       "      <td>[575.9174216, 575.9174216, 575.9174216, 575.91...</td>\n",
       "      <td>[330.6097755, 330.6097755, 330.6097755, 330.60...</td>\n",
       "      <td>[254.3074148, 254.3074148, 254.3074148, 254.30...</td>\n",
       "      <td>[4763, 4763, 4763, 4763, 4763]</td>\n",
       "      <td>[809, 809, 809, 809, 809]</td>\n",
       "      <td>[508, 508, 508, 508, 508]</td>\n",
       "      <td>[43, 43, 43, 43, 43]</td>\n",
       "      <td>[142, 142, 142, 142, 142]</td>\n",
       "      <td>[1, 1, 1, 1, 1]</td>\n",
       "    </tr>\n",
       "  </tbody>\n",
       "</table>\n",
       "<p>5 rows × 22 columns</p>\n",
       "</div>"
      ],
      "text/plain": [
       "       target                                               temp  \\\n",
       "0   45.126304  [22.299526514375, 22.299526514375, 22.29952651...   \n",
       "1   79.131702  [24.5983333332, 25.682000000000002, 25.0643333...   \n",
       "2   32.661304  [22.3073333336, 22.031376263333332, 25.4629999...   \n",
       "3   53.850238  [20.900333334000003, 21.3174545468, 21.3466666...   \n",
       "4  177.418750  [22.172333333600005, 20.135416665, 20.94015151...   \n",
       "\n",
       "                                              precip  \\\n",
       "0                          [0.0, 0.0, 0.0, 0.0, 0.0]   \n",
       "1              [0.00884, 0.0, 0.00272, 0.0, 0.02244]   \n",
       "2      [0.41088, 0.33083333333333326, 0.0, 0.0, 0.0]   \n",
       "3  [0.47547999999999996, 0.13463999999999998, 0.9...   \n",
       "4         [0.006120000000000001, 0.0, 0.0, 0.0, 0.0]   \n",
       "\n",
       "                                        rel_humidity  \\\n",
       "0  [0.758530303, 0.758530303, 0.758530303, 0.7585...   \n",
       "1  [0.7689733332799998, 0.7005400001200001, 0.747...   \n",
       "2  [0.80059333332, 0.7871328913750001, 0.65393000...   \n",
       "3  [0.88293333336, 0.9111854545999999, 0.89851060...   \n",
       "4  [0.77601, 0.8424583335, 0.8092992425000001, 0....   \n",
       "\n",
       "                                            wind_dir  \\\n",
       "0  [209.57465462812502, 209.57465462812502, 209.5...   \n",
       "1  [179.55315947440002, 172.66441776759999, 167.2...   \n",
       "2  [318.5086036333334, 318.5086036333334, 195.511...   \n",
       "3  [274.33062135, 279.80904280448, 321.2934881777...   \n",
       "4  [172.75364167520002, 229.04084504000002, 127.3...   \n",
       "\n",
       "                                            wind_spd  \\\n",
       "0  [0.677348484875, 0.677348484875, 0.67734848487...   \n",
       "1  [0.78643333332, 1.01683333336, 0.8164666666799...   \n",
       "2  [1.167222222, 1.167222222, 0.9616333333999999,...   \n",
       "3  [1.4232500001, 1.3421, 1.9958333335555558, 1.9...   \n",
       "4  [0.76280000012, 0.5222916665, 0.6297727275, 0....   \n",
       "\n",
       "                                         atmos_press  \\\n",
       "0  [87.75243371187499, 87.75243371187499, 87.7524...   \n",
       "1  [90.36050000000002, 90.37163333279999, 90.4401...   \n",
       "2  [88.58496666639999, 88.49565972291667, 88.3588...   \n",
       "3  [88.4010000008, 88.2620333332, 88.355233333199...   \n",
       "4  [88.54163333320001, 88.5364583325, 88.48155303...   \n",
       "\n",
       "                               loc_altitude                        km2  \\\n",
       "0  [1178.3, 1178.3, 1178.3, 1178.3, 1178.3]  [8.5, 8.5, 8.5, 8.5, 8.5]   \n",
       "1       [980.8, 980.8, 980.8, 980.8, 980.8]  [0.8, 0.8, 0.8, 0.8, 0.8]   \n",
       "2  [1122.4, 1122.4, 1122.4, 1122.4, 1122.4]  [1.9, 1.9, 1.9, 1.9, 1.9]   \n",
       "3  [1122.4, 1122.4, 1122.4, 1122.4, 1122.4]  [1.9, 1.9, 1.9, 1.9, 1.9]   \n",
       "4  [1122.4, 1122.4, 1122.4, 1122.4, 1122.4]  [1.9, 1.9, 1.9, 1.9, 1.9]   \n",
       "\n",
       "                                aspect  ...  \\\n",
       "0  [168.7, 168.7, 168.7, 168.7, 168.7]  ...   \n",
       "1       [90.0, 90.0, 90.0, 90.0, 90.0]  ...   \n",
       "2  [194.0, 194.0, 194.0, 194.0, 194.0]  ...   \n",
       "3  [194.0, 194.0, 194.0, 194.0, 194.0]  ...   \n",
       "4  [194.0, 194.0, 194.0, 194.0, 194.0]  ...   \n",
       "\n",
       "                                      dist_secondary  \\\n",
       "0  [12.73048852, 12.73048852, 12.73048852, 12.730...   \n",
       "1           [5000.0, 5000.0, 5000.0, 5000.0, 5000.0]   \n",
       "2  [343.5950389, 343.5950389, 343.5950389, 343.59...   \n",
       "3  [343.5950389, 343.5950389, 343.5950389, 343.59...   \n",
       "4  [343.5950389, 343.5950389, 343.5950389, 343.59...   \n",
       "\n",
       "                                       dist_tertiary  \\\n",
       "0  [72.45934032, 72.45934032, 72.45934032, 72.459...   \n",
       "1  [339.6939077, 339.6939077, 339.6939077, 339.69...   \n",
       "2  [575.9174216, 575.9174216, 575.9174216, 575.91...   \n",
       "3  [575.9174216, 575.9174216, 575.9174216, 575.91...   \n",
       "4  [575.9174216, 575.9174216, 575.9174216, 575.91...   \n",
       "\n",
       "                                   dist_unclassified  \\\n",
       "0  [406.9678152, 406.9678152, 406.9678152, 406.96...   \n",
       "1  [76.02438885, 76.02438885, 76.02438885, 76.024...   \n",
       "2  [330.6097755, 330.6097755, 330.6097755, 330.60...   \n",
       "3  [330.6097755, 330.6097755, 330.6097755, 330.60...   \n",
       "4  [330.6097755, 330.6097755, 330.6097755, 330.60...   \n",
       "\n",
       "                                    dist_residential  \\\n",
       "0  [13.93134954, 13.93134954, 13.93134954, 13.931...   \n",
       "1  [11.60144208, 11.60144208, 11.60144208, 11.601...   \n",
       "2  [254.3074148, 254.3074148, 254.3074148, 254.30...   \n",
       "3  [254.3074148, 254.3074148, 254.3074148, 254.30...   \n",
       "4  [254.3074148, 254.3074148, 254.3074148, 254.30...   \n",
       "\n",
       "                                  popn                                   hh  \\\n",
       "0  [97895, 97895, 97895, 97895, 97895]  [26873, 26873, 26873, 26873, 26873]   \n",
       "1       [3596, 3596, 3596, 3596, 3596]            [663, 663, 663, 663, 663]   \n",
       "2       [4763, 4763, 4763, 4763, 4763]            [809, 809, 809, 809, 809]   \n",
       "3       [4763, 4763, 4763, 4763, 4763]            [809, 809, 809, 809, 809]   \n",
       "4       [4763, 4763, 4763, 4763, 4763]            [809, 809, 809, 809, 809]   \n",
       "\n",
       "                      hh_cook_charcoal           hh_cook_firewood  \\\n",
       "0  [21316, 21316, 21316, 21316, 21316]  [751, 751, 751, 751, 751]   \n",
       "1                      [7, 7, 7, 7, 7]  [651, 651, 651, 651, 651]   \n",
       "2            [508, 508, 508, 508, 508]       [43, 43, 43, 43, 43]   \n",
       "3            [508, 508, 508, 508, 508]       [43, 43, 43, 43, 43]   \n",
       "4            [508, 508, 508, 508, 508]       [43, 43, 43, 43, 43]   \n",
       "\n",
       "                    hh_burn_waste              loc  \n",
       "0  [9835, 9835, 9835, 9835, 9835]  [3, 3, 3, 3, 3]  \n",
       "1            [99, 99, 99, 99, 99]  [4, 4, 4, 4, 4]  \n",
       "2       [142, 142, 142, 142, 142]  [1, 1, 1, 1, 1]  \n",
       "3       [142, 142, 142, 142, 142]  [1, 1, 1, 1, 1]  \n",
       "4       [142, 142, 142, 142, 142]  [1, 1, 1, 1, 1]  \n",
       "\n",
       "[5 rows x 22 columns]"
      ]
     },
     "execution_count": 16,
     "metadata": {},
     "output_type": "execute_result"
    }
   ],
   "source": [
    "train_dataset.head()"
   ]
  },
  {
   "cell_type": "markdown",
   "metadata": {},
   "source": [
    "### Split into input and output"
   ]
  },
  {
   "cell_type": "code",
   "execution_count": 17,
   "metadata": {},
   "outputs": [],
   "source": [
    "X = train_dataset.copy()\n",
    "X.drop(['target'],1,inplace = True)\n",
    "Y = train_dataset.loc[:,['target']]"
   ]
  },
  {
   "cell_type": "code",
   "execution_count": 18,
   "metadata": {},
   "outputs": [
    {
     "data": {
      "text/html": [
       "<div>\n",
       "<style scoped>\n",
       "    .dataframe tbody tr th:only-of-type {\n",
       "        vertical-align: middle;\n",
       "    }\n",
       "\n",
       "    .dataframe tbody tr th {\n",
       "        vertical-align: top;\n",
       "    }\n",
       "\n",
       "    .dataframe thead th {\n",
       "        text-align: right;\n",
       "    }\n",
       "</style>\n",
       "<table border=\"1\" class=\"dataframe\">\n",
       "  <thead>\n",
       "    <tr style=\"text-align: right;\">\n",
       "      <th></th>\n",
       "      <th>temp</th>\n",
       "      <th>precip</th>\n",
       "      <th>rel_humidity</th>\n",
       "      <th>wind_dir</th>\n",
       "      <th>wind_spd</th>\n",
       "      <th>atmos_press</th>\n",
       "      <th>loc_altitude</th>\n",
       "      <th>km2</th>\n",
       "      <th>aspect</th>\n",
       "      <th>dist_trunk</th>\n",
       "      <th>...</th>\n",
       "      <th>dist_secondary</th>\n",
       "      <th>dist_tertiary</th>\n",
       "      <th>dist_unclassified</th>\n",
       "      <th>dist_residential</th>\n",
       "      <th>popn</th>\n",
       "      <th>hh</th>\n",
       "      <th>hh_cook_charcoal</th>\n",
       "      <th>hh_cook_firewood</th>\n",
       "      <th>hh_burn_waste</th>\n",
       "      <th>loc</th>\n",
       "    </tr>\n",
       "  </thead>\n",
       "  <tbody>\n",
       "    <tr>\n",
       "      <th>0</th>\n",
       "      <td>[22.299526514375, 22.299526514375, 22.29952651...</td>\n",
       "      <td>[0.0, 0.0, 0.0, 0.0, 0.0]</td>\n",
       "      <td>[0.758530303, 0.758530303, 0.758530303, 0.7585...</td>\n",
       "      <td>[209.57465462812502, 209.57465462812502, 209.5...</td>\n",
       "      <td>[0.677348484875, 0.677348484875, 0.67734848487...</td>\n",
       "      <td>[87.75243371187499, 87.75243371187499, 87.7524...</td>\n",
       "      <td>[1178.3, 1178.3, 1178.3, 1178.3, 1178.3]</td>\n",
       "      <td>[8.5, 8.5, 8.5, 8.5, 8.5]</td>\n",
       "      <td>[168.7, 168.7, 168.7, 168.7, 168.7]</td>\n",
       "      <td>[32.88551954, 32.88551954, 32.88551954, 32.885...</td>\n",
       "      <td>...</td>\n",
       "      <td>[12.73048852, 12.73048852, 12.73048852, 12.730...</td>\n",
       "      <td>[72.45934032, 72.45934032, 72.45934032, 72.459...</td>\n",
       "      <td>[406.9678152, 406.9678152, 406.9678152, 406.96...</td>\n",
       "      <td>[13.93134954, 13.93134954, 13.93134954, 13.931...</td>\n",
       "      <td>[97895, 97895, 97895, 97895, 97895]</td>\n",
       "      <td>[26873, 26873, 26873, 26873, 26873]</td>\n",
       "      <td>[21316, 21316, 21316, 21316, 21316]</td>\n",
       "      <td>[751, 751, 751, 751, 751]</td>\n",
       "      <td>[9835, 9835, 9835, 9835, 9835]</td>\n",
       "      <td>[3, 3, 3, 3, 3]</td>\n",
       "    </tr>\n",
       "    <tr>\n",
       "      <th>1</th>\n",
       "      <td>[24.5983333332, 25.682000000000002, 25.0643333...</td>\n",
       "      <td>[0.00884, 0.0, 0.00272, 0.0, 0.02244]</td>\n",
       "      <td>[0.7689733332799998, 0.7005400001200001, 0.747...</td>\n",
       "      <td>[179.55315947440002, 172.66441776759999, 167.2...</td>\n",
       "      <td>[0.78643333332, 1.01683333336, 0.8164666666799...</td>\n",
       "      <td>[90.36050000000002, 90.37163333279999, 90.4401...</td>\n",
       "      <td>[980.8, 980.8, 980.8, 980.8, 980.8]</td>\n",
       "      <td>[0.8, 0.8, 0.8, 0.8, 0.8]</td>\n",
       "      <td>[90.0, 90.0, 90.0, 90.0, 90.0]</td>\n",
       "      <td>[5000.0, 5000.0, 5000.0, 5000.0, 5000.0]</td>\n",
       "      <td>...</td>\n",
       "      <td>[5000.0, 5000.0, 5000.0, 5000.0, 5000.0]</td>\n",
       "      <td>[339.6939077, 339.6939077, 339.6939077, 339.69...</td>\n",
       "      <td>[76.02438885, 76.02438885, 76.02438885, 76.024...</td>\n",
       "      <td>[11.60144208, 11.60144208, 11.60144208, 11.601...</td>\n",
       "      <td>[3596, 3596, 3596, 3596, 3596]</td>\n",
       "      <td>[663, 663, 663, 663, 663]</td>\n",
       "      <td>[7, 7, 7, 7, 7]</td>\n",
       "      <td>[651, 651, 651, 651, 651]</td>\n",
       "      <td>[99, 99, 99, 99, 99]</td>\n",
       "      <td>[4, 4, 4, 4, 4]</td>\n",
       "    </tr>\n",
       "    <tr>\n",
       "      <th>2</th>\n",
       "      <td>[22.3073333336, 22.031376263333332, 25.4629999...</td>\n",
       "      <td>[0.41088, 0.33083333333333326, 0.0, 0.0, 0.0]</td>\n",
       "      <td>[0.80059333332, 0.7871328913750001, 0.65393000...</td>\n",
       "      <td>[318.5086036333334, 318.5086036333334, 195.511...</td>\n",
       "      <td>[1.167222222, 1.167222222, 0.9616333333999999,...</td>\n",
       "      <td>[88.58496666639999, 88.49565972291667, 88.3588...</td>\n",
       "      <td>[1122.4, 1122.4, 1122.4, 1122.4, 1122.4]</td>\n",
       "      <td>[1.9, 1.9, 1.9, 1.9, 1.9]</td>\n",
       "      <td>[194.0, 194.0, 194.0, 194.0, 194.0]</td>\n",
       "      <td>[5000.0, 5000.0, 5000.0, 5000.0, 5000.0]</td>\n",
       "      <td>...</td>\n",
       "      <td>[343.5950389, 343.5950389, 343.5950389, 343.59...</td>\n",
       "      <td>[575.9174216, 575.9174216, 575.9174216, 575.91...</td>\n",
       "      <td>[330.6097755, 330.6097755, 330.6097755, 330.60...</td>\n",
       "      <td>[254.3074148, 254.3074148, 254.3074148, 254.30...</td>\n",
       "      <td>[4763, 4763, 4763, 4763, 4763]</td>\n",
       "      <td>[809, 809, 809, 809, 809]</td>\n",
       "      <td>[508, 508, 508, 508, 508]</td>\n",
       "      <td>[43, 43, 43, 43, 43]</td>\n",
       "      <td>[142, 142, 142, 142, 142]</td>\n",
       "      <td>[1, 1, 1, 1, 1]</td>\n",
       "    </tr>\n",
       "    <tr>\n",
       "      <th>3</th>\n",
       "      <td>[20.900333334000003, 21.3174545468, 21.3466666...</td>\n",
       "      <td>[0.47547999999999996, 0.13463999999999998, 0.9...</td>\n",
       "      <td>[0.88293333336, 0.9111854545999999, 0.89851060...</td>\n",
       "      <td>[274.33062135, 279.80904280448, 321.2934881777...</td>\n",
       "      <td>[1.4232500001, 1.3421, 1.9958333335555558, 1.9...</td>\n",
       "      <td>[88.4010000008, 88.2620333332, 88.355233333199...</td>\n",
       "      <td>[1122.4, 1122.4, 1122.4, 1122.4, 1122.4]</td>\n",
       "      <td>[1.9, 1.9, 1.9, 1.9, 1.9]</td>\n",
       "      <td>[194.0, 194.0, 194.0, 194.0, 194.0]</td>\n",
       "      <td>[5000.0, 5000.0, 5000.0, 5000.0, 5000.0]</td>\n",
       "      <td>...</td>\n",
       "      <td>[343.5950389, 343.5950389, 343.5950389, 343.59...</td>\n",
       "      <td>[575.9174216, 575.9174216, 575.9174216, 575.91...</td>\n",
       "      <td>[330.6097755, 330.6097755, 330.6097755, 330.60...</td>\n",
       "      <td>[254.3074148, 254.3074148, 254.3074148, 254.30...</td>\n",
       "      <td>[4763, 4763, 4763, 4763, 4763]</td>\n",
       "      <td>[809, 809, 809, 809, 809]</td>\n",
       "      <td>[508, 508, 508, 508, 508]</td>\n",
       "      <td>[43, 43, 43, 43, 43]</td>\n",
       "      <td>[142, 142, 142, 142, 142]</td>\n",
       "      <td>[1, 1, 1, 1, 1]</td>\n",
       "    </tr>\n",
       "    <tr>\n",
       "      <th>4</th>\n",
       "      <td>[22.172333333600005, 20.135416665, 20.94015151...</td>\n",
       "      <td>[0.006120000000000001, 0.0, 0.0, 0.0, 0.0]</td>\n",
       "      <td>[0.77601, 0.8424583335, 0.8092992425000001, 0....</td>\n",
       "      <td>[172.75364167520002, 229.04084504000002, 127.3...</td>\n",
       "      <td>[0.76280000012, 0.5222916665, 0.6297727275, 0....</td>\n",
       "      <td>[88.54163333320001, 88.5364583325, 88.48155303...</td>\n",
       "      <td>[1122.4, 1122.4, 1122.4, 1122.4, 1122.4]</td>\n",
       "      <td>[1.9, 1.9, 1.9, 1.9, 1.9]</td>\n",
       "      <td>[194.0, 194.0, 194.0, 194.0, 194.0]</td>\n",
       "      <td>[5000.0, 5000.0, 5000.0, 5000.0, 5000.0]</td>\n",
       "      <td>...</td>\n",
       "      <td>[343.5950389, 343.5950389, 343.5950389, 343.59...</td>\n",
       "      <td>[575.9174216, 575.9174216, 575.9174216, 575.91...</td>\n",
       "      <td>[330.6097755, 330.6097755, 330.6097755, 330.60...</td>\n",
       "      <td>[254.3074148, 254.3074148, 254.3074148, 254.30...</td>\n",
       "      <td>[4763, 4763, 4763, 4763, 4763]</td>\n",
       "      <td>[809, 809, 809, 809, 809]</td>\n",
       "      <td>[508, 508, 508, 508, 508]</td>\n",
       "      <td>[43, 43, 43, 43, 43]</td>\n",
       "      <td>[142, 142, 142, 142, 142]</td>\n",
       "      <td>[1, 1, 1, 1, 1]</td>\n",
       "    </tr>\n",
       "  </tbody>\n",
       "</table>\n",
       "<p>5 rows × 21 columns</p>\n",
       "</div>"
      ],
      "text/plain": [
       "                                                temp  \\\n",
       "0  [22.299526514375, 22.299526514375, 22.29952651...   \n",
       "1  [24.5983333332, 25.682000000000002, 25.0643333...   \n",
       "2  [22.3073333336, 22.031376263333332, 25.4629999...   \n",
       "3  [20.900333334000003, 21.3174545468, 21.3466666...   \n",
       "4  [22.172333333600005, 20.135416665, 20.94015151...   \n",
       "\n",
       "                                              precip  \\\n",
       "0                          [0.0, 0.0, 0.0, 0.0, 0.0]   \n",
       "1              [0.00884, 0.0, 0.00272, 0.0, 0.02244]   \n",
       "2      [0.41088, 0.33083333333333326, 0.0, 0.0, 0.0]   \n",
       "3  [0.47547999999999996, 0.13463999999999998, 0.9...   \n",
       "4         [0.006120000000000001, 0.0, 0.0, 0.0, 0.0]   \n",
       "\n",
       "                                        rel_humidity  \\\n",
       "0  [0.758530303, 0.758530303, 0.758530303, 0.7585...   \n",
       "1  [0.7689733332799998, 0.7005400001200001, 0.747...   \n",
       "2  [0.80059333332, 0.7871328913750001, 0.65393000...   \n",
       "3  [0.88293333336, 0.9111854545999999, 0.89851060...   \n",
       "4  [0.77601, 0.8424583335, 0.8092992425000001, 0....   \n",
       "\n",
       "                                            wind_dir  \\\n",
       "0  [209.57465462812502, 209.57465462812502, 209.5...   \n",
       "1  [179.55315947440002, 172.66441776759999, 167.2...   \n",
       "2  [318.5086036333334, 318.5086036333334, 195.511...   \n",
       "3  [274.33062135, 279.80904280448, 321.2934881777...   \n",
       "4  [172.75364167520002, 229.04084504000002, 127.3...   \n",
       "\n",
       "                                            wind_spd  \\\n",
       "0  [0.677348484875, 0.677348484875, 0.67734848487...   \n",
       "1  [0.78643333332, 1.01683333336, 0.8164666666799...   \n",
       "2  [1.167222222, 1.167222222, 0.9616333333999999,...   \n",
       "3  [1.4232500001, 1.3421, 1.9958333335555558, 1.9...   \n",
       "4  [0.76280000012, 0.5222916665, 0.6297727275, 0....   \n",
       "\n",
       "                                         atmos_press  \\\n",
       "0  [87.75243371187499, 87.75243371187499, 87.7524...   \n",
       "1  [90.36050000000002, 90.37163333279999, 90.4401...   \n",
       "2  [88.58496666639999, 88.49565972291667, 88.3588...   \n",
       "3  [88.4010000008, 88.2620333332, 88.355233333199...   \n",
       "4  [88.54163333320001, 88.5364583325, 88.48155303...   \n",
       "\n",
       "                               loc_altitude                        km2  \\\n",
       "0  [1178.3, 1178.3, 1178.3, 1178.3, 1178.3]  [8.5, 8.5, 8.5, 8.5, 8.5]   \n",
       "1       [980.8, 980.8, 980.8, 980.8, 980.8]  [0.8, 0.8, 0.8, 0.8, 0.8]   \n",
       "2  [1122.4, 1122.4, 1122.4, 1122.4, 1122.4]  [1.9, 1.9, 1.9, 1.9, 1.9]   \n",
       "3  [1122.4, 1122.4, 1122.4, 1122.4, 1122.4]  [1.9, 1.9, 1.9, 1.9, 1.9]   \n",
       "4  [1122.4, 1122.4, 1122.4, 1122.4, 1122.4]  [1.9, 1.9, 1.9, 1.9, 1.9]   \n",
       "\n",
       "                                aspect  \\\n",
       "0  [168.7, 168.7, 168.7, 168.7, 168.7]   \n",
       "1       [90.0, 90.0, 90.0, 90.0, 90.0]   \n",
       "2  [194.0, 194.0, 194.0, 194.0, 194.0]   \n",
       "3  [194.0, 194.0, 194.0, 194.0, 194.0]   \n",
       "4  [194.0, 194.0, 194.0, 194.0, 194.0]   \n",
       "\n",
       "                                          dist_trunk  ...  \\\n",
       "0  [32.88551954, 32.88551954, 32.88551954, 32.885...  ...   \n",
       "1           [5000.0, 5000.0, 5000.0, 5000.0, 5000.0]  ...   \n",
       "2           [5000.0, 5000.0, 5000.0, 5000.0, 5000.0]  ...   \n",
       "3           [5000.0, 5000.0, 5000.0, 5000.0, 5000.0]  ...   \n",
       "4           [5000.0, 5000.0, 5000.0, 5000.0, 5000.0]  ...   \n",
       "\n",
       "                                      dist_secondary  \\\n",
       "0  [12.73048852, 12.73048852, 12.73048852, 12.730...   \n",
       "1           [5000.0, 5000.0, 5000.0, 5000.0, 5000.0]   \n",
       "2  [343.5950389, 343.5950389, 343.5950389, 343.59...   \n",
       "3  [343.5950389, 343.5950389, 343.5950389, 343.59...   \n",
       "4  [343.5950389, 343.5950389, 343.5950389, 343.59...   \n",
       "\n",
       "                                       dist_tertiary  \\\n",
       "0  [72.45934032, 72.45934032, 72.45934032, 72.459...   \n",
       "1  [339.6939077, 339.6939077, 339.6939077, 339.69...   \n",
       "2  [575.9174216, 575.9174216, 575.9174216, 575.91...   \n",
       "3  [575.9174216, 575.9174216, 575.9174216, 575.91...   \n",
       "4  [575.9174216, 575.9174216, 575.9174216, 575.91...   \n",
       "\n",
       "                                   dist_unclassified  \\\n",
       "0  [406.9678152, 406.9678152, 406.9678152, 406.96...   \n",
       "1  [76.02438885, 76.02438885, 76.02438885, 76.024...   \n",
       "2  [330.6097755, 330.6097755, 330.6097755, 330.60...   \n",
       "3  [330.6097755, 330.6097755, 330.6097755, 330.60...   \n",
       "4  [330.6097755, 330.6097755, 330.6097755, 330.60...   \n",
       "\n",
       "                                    dist_residential  \\\n",
       "0  [13.93134954, 13.93134954, 13.93134954, 13.931...   \n",
       "1  [11.60144208, 11.60144208, 11.60144208, 11.601...   \n",
       "2  [254.3074148, 254.3074148, 254.3074148, 254.30...   \n",
       "3  [254.3074148, 254.3074148, 254.3074148, 254.30...   \n",
       "4  [254.3074148, 254.3074148, 254.3074148, 254.30...   \n",
       "\n",
       "                                  popn                                   hh  \\\n",
       "0  [97895, 97895, 97895, 97895, 97895]  [26873, 26873, 26873, 26873, 26873]   \n",
       "1       [3596, 3596, 3596, 3596, 3596]            [663, 663, 663, 663, 663]   \n",
       "2       [4763, 4763, 4763, 4763, 4763]            [809, 809, 809, 809, 809]   \n",
       "3       [4763, 4763, 4763, 4763, 4763]            [809, 809, 809, 809, 809]   \n",
       "4       [4763, 4763, 4763, 4763, 4763]            [809, 809, 809, 809, 809]   \n",
       "\n",
       "                      hh_cook_charcoal           hh_cook_firewood  \\\n",
       "0  [21316, 21316, 21316, 21316, 21316]  [751, 751, 751, 751, 751]   \n",
       "1                      [7, 7, 7, 7, 7]  [651, 651, 651, 651, 651]   \n",
       "2            [508, 508, 508, 508, 508]       [43, 43, 43, 43, 43]   \n",
       "3            [508, 508, 508, 508, 508]       [43, 43, 43, 43, 43]   \n",
       "4            [508, 508, 508, 508, 508]       [43, 43, 43, 43, 43]   \n",
       "\n",
       "                    hh_burn_waste              loc  \n",
       "0  [9835, 9835, 9835, 9835, 9835]  [3, 3, 3, 3, 3]  \n",
       "1            [99, 99, 99, 99, 99]  [4, 4, 4, 4, 4]  \n",
       "2       [142, 142, 142, 142, 142]  [1, 1, 1, 1, 1]  \n",
       "3       [142, 142, 142, 142, 142]  [1, 1, 1, 1, 1]  \n",
       "4       [142, 142, 142, 142, 142]  [1, 1, 1, 1, 1]  \n",
       "\n",
       "[5 rows x 21 columns]"
      ]
     },
     "execution_count": 18,
     "metadata": {},
     "output_type": "execute_result"
    }
   ],
   "source": [
    "X.head()"
   ]
  },
  {
   "cell_type": "code",
   "execution_count": 19,
   "metadata": {},
   "outputs": [
    {
     "data": {
      "text/html": [
       "<div>\n",
       "<style scoped>\n",
       "    .dataframe tbody tr th:only-of-type {\n",
       "        vertical-align: middle;\n",
       "    }\n",
       "\n",
       "    .dataframe tbody tr th {\n",
       "        vertical-align: top;\n",
       "    }\n",
       "\n",
       "    .dataframe thead th {\n",
       "        text-align: right;\n",
       "    }\n",
       "</style>\n",
       "<table border=\"1\" class=\"dataframe\">\n",
       "  <thead>\n",
       "    <tr style=\"text-align: right;\">\n",
       "      <th></th>\n",
       "      <th>target</th>\n",
       "    </tr>\n",
       "  </thead>\n",
       "  <tbody>\n",
       "    <tr>\n",
       "      <th>15534</th>\n",
       "      <td>44.850286</td>\n",
       "    </tr>\n",
       "    <tr>\n",
       "      <th>15535</th>\n",
       "      <td>24.330455</td>\n",
       "    </tr>\n",
       "    <tr>\n",
       "      <th>15536</th>\n",
       "      <td>38.972128</td>\n",
       "    </tr>\n",
       "    <tr>\n",
       "      <th>15537</th>\n",
       "      <td>41.720952</td>\n",
       "    </tr>\n",
       "    <tr>\n",
       "      <th>15538</th>\n",
       "      <td>127.983333</td>\n",
       "    </tr>\n",
       "  </tbody>\n",
       "</table>\n",
       "</div>"
      ],
      "text/plain": [
       "           target\n",
       "15534   44.850286\n",
       "15535   24.330455\n",
       "15536   38.972128\n",
       "15537   41.720952\n",
       "15538  127.983333"
      ]
     },
     "execution_count": 19,
     "metadata": {},
     "output_type": "execute_result"
    }
   ],
   "source": [
    "Y.tail()"
   ]
  },
  {
   "cell_type": "markdown",
   "metadata": {},
   "source": [
    "### Convert to numpy"
   ]
  },
  {
   "cell_type": "code",
   "execution_count": 23,
   "metadata": {},
   "outputs": [],
   "source": [
    "# OUTPUT\n",
    "np_Y = Y.to_numpy()"
   ]
  },
  {
   "cell_type": "code",
   "execution_count": 24,
   "metadata": {},
   "outputs": [
    {
     "data": {
      "text/plain": [
       "(15539, 1)"
      ]
     },
     "execution_count": 24,
     "metadata": {},
     "output_type": "execute_result"
    }
   ],
   "source": [
    "np_Y.shape"
   ]
  },
  {
   "cell_type": "code",
   "execution_count": 27,
   "metadata": {},
   "outputs": [
    {
     "name": "stderr",
     "output_type": "stream",
     "text": [
      "100%|██████████████████████████████████████████████████████████████████████████████████| 21/21 [00:54<00:00,  2.61s/it]\n"
     ]
    },
    {
     "data": {
      "text/html": [
       "<div>\n",
       "<style scoped>\n",
       "    .dataframe tbody tr th:only-of-type {\n",
       "        vertical-align: middle;\n",
       "    }\n",
       "\n",
       "    .dataframe tbody tr th {\n",
       "        vertical-align: top;\n",
       "    }\n",
       "\n",
       "    .dataframe thead th {\n",
       "        text-align: right;\n",
       "    }\n",
       "</style>\n",
       "<table border=\"1\" class=\"dataframe\">\n",
       "  <thead>\n",
       "    <tr style=\"text-align: right;\">\n",
       "      <th></th>\n",
       "      <th>temp</th>\n",
       "      <th>precip</th>\n",
       "      <th>rel_humidity</th>\n",
       "      <th>wind_dir</th>\n",
       "      <th>wind_spd</th>\n",
       "      <th>atmos_press</th>\n",
       "      <th>loc_altitude</th>\n",
       "      <th>km2</th>\n",
       "      <th>aspect</th>\n",
       "      <th>dist_trunk</th>\n",
       "      <th>...</th>\n",
       "      <th>dist_secondary</th>\n",
       "      <th>dist_tertiary</th>\n",
       "      <th>dist_unclassified</th>\n",
       "      <th>dist_residential</th>\n",
       "      <th>popn</th>\n",
       "      <th>hh</th>\n",
       "      <th>hh_cook_charcoal</th>\n",
       "      <th>hh_cook_firewood</th>\n",
       "      <th>hh_burn_waste</th>\n",
       "      <th>loc</th>\n",
       "    </tr>\n",
       "  </thead>\n",
       "  <tbody>\n",
       "    <tr>\n",
       "      <th>0</th>\n",
       "      <td>22.299526514375,22.299526514375,22.29952651437...</td>\n",
       "      <td>0.0,0.0,0.0,0.0,0.0</td>\n",
       "      <td>0.758530303,0.758530303,0.758530303,0.75853030...</td>\n",
       "      <td>209.57465462812502,209.57465462812502,209.5746...</td>\n",
       "      <td>0.677348484875,0.677348484875,0.677348484875,0...</td>\n",
       "      <td>87.75243371187499,87.75243371187499,87.7524337...</td>\n",
       "      <td>1178.3,1178.3,1178.3,1178.3,1178.3</td>\n",
       "      <td>8.5,8.5,8.5,8.5,8.5</td>\n",
       "      <td>168.7,168.7,168.7,168.7,168.7</td>\n",
       "      <td>32.88551954,32.88551954,32.88551954,32.8855195...</td>\n",
       "      <td>...</td>\n",
       "      <td>12.73048852,12.73048852,12.73048852,12.7304885...</td>\n",
       "      <td>72.45934032,72.45934032,72.45934032,72.4593403...</td>\n",
       "      <td>406.9678152,406.9678152,406.9678152,406.967815...</td>\n",
       "      <td>13.93134954,13.93134954,13.93134954,13.9313495...</td>\n",
       "      <td>97895,97895,97895,97895,97895</td>\n",
       "      <td>26873,26873,26873,26873,26873</td>\n",
       "      <td>21316,21316,21316,21316,21316</td>\n",
       "      <td>751,751,751,751,751</td>\n",
       "      <td>9835,9835,9835,9835,9835</td>\n",
       "      <td>3,3,3,3,3</td>\n",
       "    </tr>\n",
       "    <tr>\n",
       "      <th>1</th>\n",
       "      <td>24.5983333332,25.682000000000002,25.0643333324...</td>\n",
       "      <td>0.00884,0.0,0.00272,0.0,0.02244</td>\n",
       "      <td>0.7689733332799998,0.7005400001200001,0.747066...</td>\n",
       "      <td>179.55315947440002,172.66441776759999,167.2581...</td>\n",
       "      <td>0.78643333332,1.01683333336,0.8164666666799999...</td>\n",
       "      <td>90.36050000000002,90.37163333279999,90.4401,90...</td>\n",
       "      <td>980.8,980.8,980.8,980.8,980.8</td>\n",
       "      <td>0.8,0.8,0.8,0.8,0.8</td>\n",
       "      <td>90.0,90.0,90.0,90.0,90.0</td>\n",
       "      <td>5000.0,5000.0,5000.0,5000.0,5000.0</td>\n",
       "      <td>...</td>\n",
       "      <td>5000.0,5000.0,5000.0,5000.0,5000.0</td>\n",
       "      <td>339.6939077,339.6939077,339.6939077,339.693907...</td>\n",
       "      <td>76.02438885,76.02438885,76.02438885,76.0243888...</td>\n",
       "      <td>11.60144208,11.60144208,11.60144208,11.6014420...</td>\n",
       "      <td>3596,3596,3596,3596,3596</td>\n",
       "      <td>663,663,663,663,663</td>\n",
       "      <td>7,7,7,7,7</td>\n",
       "      <td>651,651,651,651,651</td>\n",
       "      <td>99,99,99,99,99</td>\n",
       "      <td>4,4,4,4,4</td>\n",
       "    </tr>\n",
       "    <tr>\n",
       "      <th>2</th>\n",
       "      <td>22.3073333336,22.031376263333332,25.4629999992...</td>\n",
       "      <td>0.41088,0.33083333333333326,0.0,0.0,0.0</td>\n",
       "      <td>0.80059333332,0.7871328913750001,0.65393000003...</td>\n",
       "      <td>318.5086036333334,318.5086036333334,195.511537...</td>\n",
       "      <td>1.167222222,1.167222222,0.9616333333999999,1.1...</td>\n",
       "      <td>88.58496666639999,88.49565972291667,88.3588333...</td>\n",
       "      <td>1122.4,1122.4,1122.4,1122.4,1122.4</td>\n",
       "      <td>1.9,1.9,1.9,1.9,1.9</td>\n",
       "      <td>194.0,194.0,194.0,194.0,194.0</td>\n",
       "      <td>5000.0,5000.0,5000.0,5000.0,5000.0</td>\n",
       "      <td>...</td>\n",
       "      <td>343.5950389,343.5950389,343.5950389,343.595038...</td>\n",
       "      <td>575.9174216,575.9174216,575.9174216,575.917421...</td>\n",
       "      <td>330.6097755,330.6097755,330.6097755,330.609775...</td>\n",
       "      <td>254.3074148,254.3074148,254.3074148,254.307414...</td>\n",
       "      <td>4763,4763,4763,4763,4763</td>\n",
       "      <td>809,809,809,809,809</td>\n",
       "      <td>508,508,508,508,508</td>\n",
       "      <td>43,43,43,43,43</td>\n",
       "      <td>142,142,142,142,142</td>\n",
       "      <td>1,1,1,1,1</td>\n",
       "    </tr>\n",
       "    <tr>\n",
       "      <th>3</th>\n",
       "      <td>20.900333334000003,21.3174545468,21.3466666668...</td>\n",
       "      <td>0.47547999999999996,0.13463999999999998,0.9623...</td>\n",
       "      <td>0.88293333336,0.9111854545999999,0.89851060604...</td>\n",
       "      <td>274.33062135,279.80904280448,321.2934881777777...</td>\n",
       "      <td>1.4232500001,1.3421,1.9958333335555558,1.91183...</td>\n",
       "      <td>88.4010000008,88.2620333332,88.35523333319999,...</td>\n",
       "      <td>1122.4,1122.4,1122.4,1122.4,1122.4</td>\n",
       "      <td>1.9,1.9,1.9,1.9,1.9</td>\n",
       "      <td>194.0,194.0,194.0,194.0,194.0</td>\n",
       "      <td>5000.0,5000.0,5000.0,5000.0,5000.0</td>\n",
       "      <td>...</td>\n",
       "      <td>343.5950389,343.5950389,343.5950389,343.595038...</td>\n",
       "      <td>575.9174216,575.9174216,575.9174216,575.917421...</td>\n",
       "      <td>330.6097755,330.6097755,330.6097755,330.609775...</td>\n",
       "      <td>254.3074148,254.3074148,254.3074148,254.307414...</td>\n",
       "      <td>4763,4763,4763,4763,4763</td>\n",
       "      <td>809,809,809,809,809</td>\n",
       "      <td>508,508,508,508,508</td>\n",
       "      <td>43,43,43,43,43</td>\n",
       "      <td>142,142,142,142,142</td>\n",
       "      <td>1,1,1,1,1</td>\n",
       "    </tr>\n",
       "    <tr>\n",
       "      <th>4</th>\n",
       "      <td>22.172333333600005,20.135416665,20.940151515,2...</td>\n",
       "      <td>0.006120000000000001,0.0,0.0,0.0,0.0</td>\n",
       "      <td>0.77601,0.8424583335,0.8092992425000001,0.8092...</td>\n",
       "      <td>172.75364167520002,229.04084504000002,127.3059...</td>\n",
       "      <td>0.76280000012,0.5222916665,0.6297727275,0.6297...</td>\n",
       "      <td>88.54163333320001,88.5364583325,88.48155303,88...</td>\n",
       "      <td>1122.4,1122.4,1122.4,1122.4,1122.4</td>\n",
       "      <td>1.9,1.9,1.9,1.9,1.9</td>\n",
       "      <td>194.0,194.0,194.0,194.0,194.0</td>\n",
       "      <td>5000.0,5000.0,5000.0,5000.0,5000.0</td>\n",
       "      <td>...</td>\n",
       "      <td>343.5950389,343.5950389,343.5950389,343.595038...</td>\n",
       "      <td>575.9174216,575.9174216,575.9174216,575.917421...</td>\n",
       "      <td>330.6097755,330.6097755,330.6097755,330.609775...</td>\n",
       "      <td>254.3074148,254.3074148,254.3074148,254.307414...</td>\n",
       "      <td>4763,4763,4763,4763,4763</td>\n",
       "      <td>809,809,809,809,809</td>\n",
       "      <td>508,508,508,508,508</td>\n",
       "      <td>43,43,43,43,43</td>\n",
       "      <td>142,142,142,142,142</td>\n",
       "      <td>1,1,1,1,1</td>\n",
       "    </tr>\n",
       "    <tr>\n",
       "      <th>...</th>\n",
       "      <td>...</td>\n",
       "      <td>...</td>\n",
       "      <td>...</td>\n",
       "      <td>...</td>\n",
       "      <td>...</td>\n",
       "      <td>...</td>\n",
       "      <td>...</td>\n",
       "      <td>...</td>\n",
       "      <td>...</td>\n",
       "      <td>...</td>\n",
       "      <td>...</td>\n",
       "      <td>...</td>\n",
       "      <td>...</td>\n",
       "      <td>...</td>\n",
       "      <td>...</td>\n",
       "      <td>...</td>\n",
       "      <td>...</td>\n",
       "      <td>...</td>\n",
       "      <td>...</td>\n",
       "      <td>...</td>\n",
       "      <td>...</td>\n",
       "    </tr>\n",
       "    <tr>\n",
       "      <th>15534</th>\n",
       "      <td>19.9873333328,22.5463333332,20.9776666664,18.9...</td>\n",
       "      <td>2.747359999999999,0.43668,1.39616,0.2906,0.060...</td>\n",
       "      <td>0.9464836363600001,0.856819444375,0.9044833333...</td>\n",
       "      <td>248.33663615000006,205.1943057126667,241.61325...</td>\n",
       "      <td>1.143125,1.0004444445333334,1.323125,0.9765666...</td>\n",
       "      <td>88.3473666664,88.22136666639999,88.3113999992,...</td>\n",
       "      <td>1122.4,1122.4,1122.4,1122.4,1122.4</td>\n",
       "      <td>1.9,1.9,1.9,1.9,1.9</td>\n",
       "      <td>194.0,194.0,194.0,194.0,194.0</td>\n",
       "      <td>5000.0,5000.0,5000.0,5000.0,5000.0</td>\n",
       "      <td>...</td>\n",
       "      <td>343.5950389,343.5950389,343.5950389,343.595038...</td>\n",
       "      <td>575.9174216,575.9174216,575.9174216,575.917421...</td>\n",
       "      <td>330.6097755,330.6097755,330.6097755,330.609775...</td>\n",
       "      <td>254.3074148,254.3074148,254.3074148,254.307414...</td>\n",
       "      <td>4763,4763,4763,4763,4763</td>\n",
       "      <td>809,809,809,809,809</td>\n",
       "      <td>508,508,508,508,508</td>\n",
       "      <td>43,43,43,43,43</td>\n",
       "      <td>142,142,142,142,142</td>\n",
       "      <td>1,1,1,1,1</td>\n",
       "    </tr>\n",
       "    <tr>\n",
       "      <th>15535</th>\n",
       "      <td>22.836666666400003,22.659333333200003,24.22766...</td>\n",
       "      <td>0.05371999999999999,0.17675999999999997,0.3672...</td>\n",
       "      <td>0.7797199999600001,0.8170400000400001,0.772666...</td>\n",
       "      <td>171.11569088880003,186.2345556556,163.80908584...</td>\n",
       "      <td>1.3158999999599998,1.24849999992,1.01000000005...</td>\n",
       "      <td>88.4887333336,88.5194333332,88.4115999996,88.3...</td>\n",
       "      <td>1186.5,1186.5,1186.5,1186.5,1186.5</td>\n",
       "      <td>1.6,1.6,1.6,1.6,1.6</td>\n",
       "      <td>121.0,121.0,121.0,121.0,121.0</td>\n",
       "      <td>850.4231312999998,850.4231312999998,850.423131...</td>\n",
       "      <td>...</td>\n",
       "      <td>1738.8729420000002,1738.8729420000002,1738.872...</td>\n",
       "      <td>137.72208740000002,137.72208740000002,137.7220...</td>\n",
       "      <td>449.59188539999985,449.59188539999985,449.5918...</td>\n",
       "      <td>3.836588765,3.836588765,3.836588765,3.83658876...</td>\n",
       "      <td>6064,6064,6064,6064,6064</td>\n",
       "      <td>1297,1297,1297,1297,1297</td>\n",
       "      <td>985,985,985,985,985</td>\n",
       "      <td>26,26,26,26,26</td>\n",
       "      <td>43,43,43,43,43</td>\n",
       "      <td>5,5,5,5,5</td>\n",
       "    </tr>\n",
       "    <tr>\n",
       "      <th>15536</th>\n",
       "      <td>24.3100000004,23.2476666676,25.417666667600002...</td>\n",
       "      <td>0.0,0.00068,0.0,0.0,0.19387999999999997</td>\n",
       "      <td>0.7781833332399999,0.7623733332399999,0.63466,...</td>\n",
       "      <td>140.7833605096,166.24049198012,192.2216754424,...</td>\n",
       "      <td>0.8565333333199999,0.95576666656,1.08756666676...</td>\n",
       "      <td>90.5702333332,90.62556666639999,90.54113333320...</td>\n",
       "      <td>980.8,980.8,980.8,980.8,980.8</td>\n",
       "      <td>0.8,0.8,0.8,0.8,0.8</td>\n",
       "      <td>90.0,90.0,90.0,90.0,90.0</td>\n",
       "      <td>5000.0,5000.0,5000.0,5000.0,5000.0</td>\n",
       "      <td>...</td>\n",
       "      <td>5000.0,5000.0,5000.0,5000.0,5000.0</td>\n",
       "      <td>339.6939077,339.6939077,339.6939077,339.693907...</td>\n",
       "      <td>76.02438885,76.02438885,76.02438885,76.0243888...</td>\n",
       "      <td>11.60144208,11.60144208,11.60144208,11.6014420...</td>\n",
       "      <td>3596,3596,3596,3596,3596</td>\n",
       "      <td>663,663,663,663,663</td>\n",
       "      <td>7,7,7,7,7</td>\n",
       "      <td>651,651,651,651,651</td>\n",
       "      <td>99,99,99,99,99</td>\n",
       "      <td>4,4,4,4,4</td>\n",
       "    </tr>\n",
       "    <tr>\n",
       "      <th>15537</th>\n",
       "      <td>23.426666666799996,24.809,23.653333332800003,2...</td>\n",
       "      <td>0.0,0.0,0.0,0.00136,0.00068</td>\n",
       "      <td>0.7777333333199999,0.7565999999599999,0.634333...</td>\n",
       "      <td>171.10704719080002,142.34830831559998,187.6969...</td>\n",
       "      <td>0.86976666664,1.2838,1.2074333334,0.7442181818...</td>\n",
       "      <td>90.44510000080001,90.440133334,90.503966666,90...</td>\n",
       "      <td>980.8,980.8,980.8,980.8,980.8</td>\n",
       "      <td>0.8,0.8,0.8,0.8,0.8</td>\n",
       "      <td>90.0,90.0,90.0,90.0,90.0</td>\n",
       "      <td>5000.0,5000.0,5000.0,5000.0,5000.0</td>\n",
       "      <td>...</td>\n",
       "      <td>5000.0,5000.0,5000.0,5000.0,5000.0</td>\n",
       "      <td>339.6939077,339.6939077,339.6939077,339.693907...</td>\n",
       "      <td>76.02438885,76.02438885,76.02438885,76.0243888...</td>\n",
       "      <td>11.60144208,11.60144208,11.60144208,11.6014420...</td>\n",
       "      <td>3596,3596,3596,3596,3596</td>\n",
       "      <td>663,663,663,663,663</td>\n",
       "      <td>7,7,7,7,7</td>\n",
       "      <td>651,651,651,651,651</td>\n",
       "      <td>99,99,99,99,99</td>\n",
       "      <td>4,4,4,4,4</td>\n",
       "    </tr>\n",
       "    <tr>\n",
       "      <th>15538</th>\n",
       "      <td>23.2780000004,23.6543333332,23.842000000000002...</td>\n",
       "      <td>0.013600000000000003,0.00272,0.0,0.00612000000...</td>\n",
       "      <td>0.82303333332,0.7703666666800001,0.6613939394,...</td>\n",
       "      <td>159.18377496,151.1610713448,157.95999484764,16...</td>\n",
       "      <td>0.5879333333600001,0.70063333328,0.6362333334,...</td>\n",
       "      <td>87.8485333324,87.83713333400001,87.83426666800...</td>\n",
       "      <td>1178.3,1178.3,1178.3,1178.3,1178.3</td>\n",
       "      <td>8.5,8.5,8.5,8.5,8.5</td>\n",
       "      <td>168.7,168.7,168.7,168.7,168.7</td>\n",
       "      <td>32.88551954,32.88551954,32.88551954,32.8855195...</td>\n",
       "      <td>...</td>\n",
       "      <td>12.73048852,12.73048852,12.73048852,12.7304885...</td>\n",
       "      <td>72.45934032,72.45934032,72.45934032,72.4593403...</td>\n",
       "      <td>406.9678152,406.9678152,406.9678152,406.967815...</td>\n",
       "      <td>13.93134954,13.93134954,13.93134954,13.9313495...</td>\n",
       "      <td>97895,97895,97895,97895,97895</td>\n",
       "      <td>26873,26873,26873,26873,26873</td>\n",
       "      <td>21316,21316,21316,21316,21316</td>\n",
       "      <td>751,751,751,751,751</td>\n",
       "      <td>9835,9835,9835,9835,9835</td>\n",
       "      <td>3,3,3,3,3</td>\n",
       "    </tr>\n",
       "  </tbody>\n",
       "</table>\n",
       "<p>15539 rows × 21 columns</p>\n",
       "</div>"
      ],
      "text/plain": [
       "                                                    temp  \\\n",
       "0      22.299526514375,22.299526514375,22.29952651437...   \n",
       "1      24.5983333332,25.682000000000002,25.0643333324...   \n",
       "2      22.3073333336,22.031376263333332,25.4629999992...   \n",
       "3      20.900333334000003,21.3174545468,21.3466666668...   \n",
       "4      22.172333333600005,20.135416665,20.940151515,2...   \n",
       "...                                                  ...   \n",
       "15534  19.9873333328,22.5463333332,20.9776666664,18.9...   \n",
       "15535  22.836666666400003,22.659333333200003,24.22766...   \n",
       "15536  24.3100000004,23.2476666676,25.417666667600002...   \n",
       "15537  23.426666666799996,24.809,23.653333332800003,2...   \n",
       "15538  23.2780000004,23.6543333332,23.842000000000002...   \n",
       "\n",
       "                                                  precip  \\\n",
       "0                                    0.0,0.0,0.0,0.0,0.0   \n",
       "1                        0.00884,0.0,0.00272,0.0,0.02244   \n",
       "2                0.41088,0.33083333333333326,0.0,0.0,0.0   \n",
       "3      0.47547999999999996,0.13463999999999998,0.9623...   \n",
       "4                   0.006120000000000001,0.0,0.0,0.0,0.0   \n",
       "...                                                  ...   \n",
       "15534  2.747359999999999,0.43668,1.39616,0.2906,0.060...   \n",
       "15535  0.05371999999999999,0.17675999999999997,0.3672...   \n",
       "15536            0.0,0.00068,0.0,0.0,0.19387999999999997   \n",
       "15537                        0.0,0.0,0.0,0.00136,0.00068   \n",
       "15538  0.013600000000000003,0.00272,0.0,0.00612000000...   \n",
       "\n",
       "                                            rel_humidity  \\\n",
       "0      0.758530303,0.758530303,0.758530303,0.75853030...   \n",
       "1      0.7689733332799998,0.7005400001200001,0.747066...   \n",
       "2      0.80059333332,0.7871328913750001,0.65393000003...   \n",
       "3      0.88293333336,0.9111854545999999,0.89851060604...   \n",
       "4      0.77601,0.8424583335,0.8092992425000001,0.8092...   \n",
       "...                                                  ...   \n",
       "15534  0.9464836363600001,0.856819444375,0.9044833333...   \n",
       "15535  0.7797199999600001,0.8170400000400001,0.772666...   \n",
       "15536  0.7781833332399999,0.7623733332399999,0.63466,...   \n",
       "15537  0.7777333333199999,0.7565999999599999,0.634333...   \n",
       "15538  0.82303333332,0.7703666666800001,0.6613939394,...   \n",
       "\n",
       "                                                wind_dir  \\\n",
       "0      209.57465462812502,209.57465462812502,209.5746...   \n",
       "1      179.55315947440002,172.66441776759999,167.2581...   \n",
       "2      318.5086036333334,318.5086036333334,195.511537...   \n",
       "3      274.33062135,279.80904280448,321.2934881777777...   \n",
       "4      172.75364167520002,229.04084504000002,127.3059...   \n",
       "...                                                  ...   \n",
       "15534  248.33663615000006,205.1943057126667,241.61325...   \n",
       "15535  171.11569088880003,186.2345556556,163.80908584...   \n",
       "15536  140.7833605096,166.24049198012,192.2216754424,...   \n",
       "15537  171.10704719080002,142.34830831559998,187.6969...   \n",
       "15538  159.18377496,151.1610713448,157.95999484764,16...   \n",
       "\n",
       "                                                wind_spd  \\\n",
       "0      0.677348484875,0.677348484875,0.677348484875,0...   \n",
       "1      0.78643333332,1.01683333336,0.8164666666799999...   \n",
       "2      1.167222222,1.167222222,0.9616333333999999,1.1...   \n",
       "3      1.4232500001,1.3421,1.9958333335555558,1.91183...   \n",
       "4      0.76280000012,0.5222916665,0.6297727275,0.6297...   \n",
       "...                                                  ...   \n",
       "15534  1.143125,1.0004444445333334,1.323125,0.9765666...   \n",
       "15535  1.3158999999599998,1.24849999992,1.01000000005...   \n",
       "15536  0.8565333333199999,0.95576666656,1.08756666676...   \n",
       "15537  0.86976666664,1.2838,1.2074333334,0.7442181818...   \n",
       "15538  0.5879333333600001,0.70063333328,0.6362333334,...   \n",
       "\n",
       "                                             atmos_press  \\\n",
       "0      87.75243371187499,87.75243371187499,87.7524337...   \n",
       "1      90.36050000000002,90.37163333279999,90.4401,90...   \n",
       "2      88.58496666639999,88.49565972291667,88.3588333...   \n",
       "3      88.4010000008,88.2620333332,88.35523333319999,...   \n",
       "4      88.54163333320001,88.5364583325,88.48155303,88...   \n",
       "...                                                  ...   \n",
       "15534  88.3473666664,88.22136666639999,88.3113999992,...   \n",
       "15535  88.4887333336,88.5194333332,88.4115999996,88.3...   \n",
       "15536  90.5702333332,90.62556666639999,90.54113333320...   \n",
       "15537  90.44510000080001,90.440133334,90.503966666,90...   \n",
       "15538  87.8485333324,87.83713333400001,87.83426666800...   \n",
       "\n",
       "                             loc_altitude                  km2  \\\n",
       "0      1178.3,1178.3,1178.3,1178.3,1178.3  8.5,8.5,8.5,8.5,8.5   \n",
       "1           980.8,980.8,980.8,980.8,980.8  0.8,0.8,0.8,0.8,0.8   \n",
       "2      1122.4,1122.4,1122.4,1122.4,1122.4  1.9,1.9,1.9,1.9,1.9   \n",
       "3      1122.4,1122.4,1122.4,1122.4,1122.4  1.9,1.9,1.9,1.9,1.9   \n",
       "4      1122.4,1122.4,1122.4,1122.4,1122.4  1.9,1.9,1.9,1.9,1.9   \n",
       "...                                   ...                  ...   \n",
       "15534  1122.4,1122.4,1122.4,1122.4,1122.4  1.9,1.9,1.9,1.9,1.9   \n",
       "15535  1186.5,1186.5,1186.5,1186.5,1186.5  1.6,1.6,1.6,1.6,1.6   \n",
       "15536       980.8,980.8,980.8,980.8,980.8  0.8,0.8,0.8,0.8,0.8   \n",
       "15537       980.8,980.8,980.8,980.8,980.8  0.8,0.8,0.8,0.8,0.8   \n",
       "15538  1178.3,1178.3,1178.3,1178.3,1178.3  8.5,8.5,8.5,8.5,8.5   \n",
       "\n",
       "                              aspect  \\\n",
       "0      168.7,168.7,168.7,168.7,168.7   \n",
       "1           90.0,90.0,90.0,90.0,90.0   \n",
       "2      194.0,194.0,194.0,194.0,194.0   \n",
       "3      194.0,194.0,194.0,194.0,194.0   \n",
       "4      194.0,194.0,194.0,194.0,194.0   \n",
       "...                              ...   \n",
       "15534  194.0,194.0,194.0,194.0,194.0   \n",
       "15535  121.0,121.0,121.0,121.0,121.0   \n",
       "15536       90.0,90.0,90.0,90.0,90.0   \n",
       "15537       90.0,90.0,90.0,90.0,90.0   \n",
       "15538  168.7,168.7,168.7,168.7,168.7   \n",
       "\n",
       "                                              dist_trunk  ...  \\\n",
       "0      32.88551954,32.88551954,32.88551954,32.8855195...  ...   \n",
       "1                     5000.0,5000.0,5000.0,5000.0,5000.0  ...   \n",
       "2                     5000.0,5000.0,5000.0,5000.0,5000.0  ...   \n",
       "3                     5000.0,5000.0,5000.0,5000.0,5000.0  ...   \n",
       "4                     5000.0,5000.0,5000.0,5000.0,5000.0  ...   \n",
       "...                                                  ...  ...   \n",
       "15534                 5000.0,5000.0,5000.0,5000.0,5000.0  ...   \n",
       "15535  850.4231312999998,850.4231312999998,850.423131...  ...   \n",
       "15536                 5000.0,5000.0,5000.0,5000.0,5000.0  ...   \n",
       "15537                 5000.0,5000.0,5000.0,5000.0,5000.0  ...   \n",
       "15538  32.88551954,32.88551954,32.88551954,32.8855195...  ...   \n",
       "\n",
       "                                          dist_secondary  \\\n",
       "0      12.73048852,12.73048852,12.73048852,12.7304885...   \n",
       "1                     5000.0,5000.0,5000.0,5000.0,5000.0   \n",
       "2      343.5950389,343.5950389,343.5950389,343.595038...   \n",
       "3      343.5950389,343.5950389,343.5950389,343.595038...   \n",
       "4      343.5950389,343.5950389,343.5950389,343.595038...   \n",
       "...                                                  ...   \n",
       "15534  343.5950389,343.5950389,343.5950389,343.595038...   \n",
       "15535  1738.8729420000002,1738.8729420000002,1738.872...   \n",
       "15536                 5000.0,5000.0,5000.0,5000.0,5000.0   \n",
       "15537                 5000.0,5000.0,5000.0,5000.0,5000.0   \n",
       "15538  12.73048852,12.73048852,12.73048852,12.7304885...   \n",
       "\n",
       "                                           dist_tertiary  \\\n",
       "0      72.45934032,72.45934032,72.45934032,72.4593403...   \n",
       "1      339.6939077,339.6939077,339.6939077,339.693907...   \n",
       "2      575.9174216,575.9174216,575.9174216,575.917421...   \n",
       "3      575.9174216,575.9174216,575.9174216,575.917421...   \n",
       "4      575.9174216,575.9174216,575.9174216,575.917421...   \n",
       "...                                                  ...   \n",
       "15534  575.9174216,575.9174216,575.9174216,575.917421...   \n",
       "15535  137.72208740000002,137.72208740000002,137.7220...   \n",
       "15536  339.6939077,339.6939077,339.6939077,339.693907...   \n",
       "15537  339.6939077,339.6939077,339.6939077,339.693907...   \n",
       "15538  72.45934032,72.45934032,72.45934032,72.4593403...   \n",
       "\n",
       "                                       dist_unclassified  \\\n",
       "0      406.9678152,406.9678152,406.9678152,406.967815...   \n",
       "1      76.02438885,76.02438885,76.02438885,76.0243888...   \n",
       "2      330.6097755,330.6097755,330.6097755,330.609775...   \n",
       "3      330.6097755,330.6097755,330.6097755,330.609775...   \n",
       "4      330.6097755,330.6097755,330.6097755,330.609775...   \n",
       "...                                                  ...   \n",
       "15534  330.6097755,330.6097755,330.6097755,330.609775...   \n",
       "15535  449.59188539999985,449.59188539999985,449.5918...   \n",
       "15536  76.02438885,76.02438885,76.02438885,76.0243888...   \n",
       "15537  76.02438885,76.02438885,76.02438885,76.0243888...   \n",
       "15538  406.9678152,406.9678152,406.9678152,406.967815...   \n",
       "\n",
       "                                        dist_residential  \\\n",
       "0      13.93134954,13.93134954,13.93134954,13.9313495...   \n",
       "1      11.60144208,11.60144208,11.60144208,11.6014420...   \n",
       "2      254.3074148,254.3074148,254.3074148,254.307414...   \n",
       "3      254.3074148,254.3074148,254.3074148,254.307414...   \n",
       "4      254.3074148,254.3074148,254.3074148,254.307414...   \n",
       "...                                                  ...   \n",
       "15534  254.3074148,254.3074148,254.3074148,254.307414...   \n",
       "15535  3.836588765,3.836588765,3.836588765,3.83658876...   \n",
       "15536  11.60144208,11.60144208,11.60144208,11.6014420...   \n",
       "15537  11.60144208,11.60144208,11.60144208,11.6014420...   \n",
       "15538  13.93134954,13.93134954,13.93134954,13.9313495...   \n",
       "\n",
       "                                popn                             hh  \\\n",
       "0      97895,97895,97895,97895,97895  26873,26873,26873,26873,26873   \n",
       "1           3596,3596,3596,3596,3596            663,663,663,663,663   \n",
       "2           4763,4763,4763,4763,4763            809,809,809,809,809   \n",
       "3           4763,4763,4763,4763,4763            809,809,809,809,809   \n",
       "4           4763,4763,4763,4763,4763            809,809,809,809,809   \n",
       "...                              ...                            ...   \n",
       "15534       4763,4763,4763,4763,4763            809,809,809,809,809   \n",
       "15535       6064,6064,6064,6064,6064       1297,1297,1297,1297,1297   \n",
       "15536       3596,3596,3596,3596,3596            663,663,663,663,663   \n",
       "15537       3596,3596,3596,3596,3596            663,663,663,663,663   \n",
       "15538  97895,97895,97895,97895,97895  26873,26873,26873,26873,26873   \n",
       "\n",
       "                    hh_cook_charcoal     hh_cook_firewood  \\\n",
       "0      21316,21316,21316,21316,21316  751,751,751,751,751   \n",
       "1                          7,7,7,7,7  651,651,651,651,651   \n",
       "2                508,508,508,508,508       43,43,43,43,43   \n",
       "3                508,508,508,508,508       43,43,43,43,43   \n",
       "4                508,508,508,508,508       43,43,43,43,43   \n",
       "...                              ...                  ...   \n",
       "15534            508,508,508,508,508       43,43,43,43,43   \n",
       "15535            985,985,985,985,985       26,26,26,26,26   \n",
       "15536                      7,7,7,7,7  651,651,651,651,651   \n",
       "15537                      7,7,7,7,7  651,651,651,651,651   \n",
       "15538  21316,21316,21316,21316,21316  751,751,751,751,751   \n",
       "\n",
       "                  hh_burn_waste        loc  \n",
       "0      9835,9835,9835,9835,9835  3,3,3,3,3  \n",
       "1                99,99,99,99,99  4,4,4,4,4  \n",
       "2           142,142,142,142,142  1,1,1,1,1  \n",
       "3           142,142,142,142,142  1,1,1,1,1  \n",
       "4           142,142,142,142,142  1,1,1,1,1  \n",
       "...                         ...        ...  \n",
       "15534       142,142,142,142,142  1,1,1,1,1  \n",
       "15535            43,43,43,43,43  5,5,5,5,5  \n",
       "15536            99,99,99,99,99  4,4,4,4,4  \n",
       "15537            99,99,99,99,99  4,4,4,4,4  \n",
       "15538  9835,9835,9835,9835,9835  3,3,3,3,3  \n",
       "\n",
       "[15539 rows x 21 columns]"
      ]
     },
     "execution_count": 27,
     "metadata": {},
     "output_type": "execute_result"
    }
   ],
   "source": [
    "# INPUT\n",
    "# convert lists to strings\n",
    "features=[\"temp\",\"precip\",\"rel_humidity\",\"wind_dir\",\"wind_spd\",\"atmos_press\",\"loc_altitude\", \"km2\", \"aspect\", \"dist_trunk\", \"dist_primary\", \"dist_secondary\", \"dist_tertiary\", \"dist_unclassified\", \"dist_residential\", \"popn\", \"hh\", \"hh_cook_charcoal\", \"hh_cook_firewood\", \"hh_burn_waste\", \"loc\"]\n",
    "\n",
    "for feature in tqdm(features):\n",
    "    for i in range(X.shape[0]):\n",
    "        X[feature][i] = ','.join([str(elem) for elem in X[feature][i]])\n",
    "X"
   ]
  },
  {
   "cell_type": "code",
   "execution_count": 28,
   "metadata": {},
   "outputs": [
    {
     "data": {
      "text/plain": [
       "array([['22.299526514375,22.299526514375,22.299526514375,22.299526514375,22.299526514375',\n",
       "        '0.0,0.0,0.0,0.0,0.0',\n",
       "        '0.758530303,0.758530303,0.758530303,0.758530303,0.758530303',\n",
       "        ..., '751,751,751,751,751', '9835,9835,9835,9835,9835',\n",
       "        '3,3,3,3,3'],\n",
       "       ['24.5983333332,25.682000000000002,25.0643333324,24.2713333332,24.091000000000005',\n",
       "        '0.00884,0.0,0.00272,0.0,0.02244',\n",
       "        '0.7689733332799998,0.7005400001200001,0.7470666666400001,0.7738499999599999,0.7848899999600001',\n",
       "        ..., '651,651,651,651,651', '99,99,99,99,99', '4,4,4,4,4'],\n",
       "       ['22.3073333336,22.031376263333332,25.4629999992,25.263333333200002,26.0826666668',\n",
       "        '0.41088,0.33083333333333326,0.0,0.0,0.0',\n",
       "        '0.80059333332,0.7871328913750001,0.6539300000399999,0.6558799999599999,0.63602666664',\n",
       "        ..., '43,43,43,43,43', '142,142,142,142,142', '1,1,1,1,1'],\n",
       "       ...,\n",
       "       ['24.3100000004,23.2476666676,25.417666667600002,26.6333333332,24.47222222166666',\n",
       "        '0.0,0.00068,0.0,0.0,0.19387999999999997',\n",
       "        '0.7781833332399999,0.7623733332399999,0.63466,0.55805636372,0.7539160353333334',\n",
       "        ..., '651,651,651,651,651', '99,99,99,99,99', '4,4,4,4,4'],\n",
       "       ['23.426666666799996,24.809,23.653333332800003,23.214939394800002,23.308060605999994',\n",
       "        '0.0,0.0,0.0,0.00136,0.00068',\n",
       "        '0.7777333333199999,0.7565999999599999,0.6343333333200001,0.7434393939599999,0.7549696968799999',\n",
       "        ..., '651,651,651,651,651', '99,99,99,99,99', '4,4,4,4,4'],\n",
       "       ['23.2780000004,23.6543333332,23.842000000000002,24.042999999599996,24.890666666799998',\n",
       "        '0.013600000000000003,0.00272,0.0,0.006120000000000001,0.00068',\n",
       "        '0.82303333332,0.7703666666800001,0.6613939394,0.7424666666000002,0.6777000000000001',\n",
       "        ..., '751,751,751,751,751', '9835,9835,9835,9835,9835',\n",
       "        '3,3,3,3,3']], dtype=object)"
      ]
     },
     "execution_count": 28,
     "metadata": {},
     "output_type": "execute_result"
    }
   ],
   "source": [
    "# convert pandas dataframe to numpy array\n",
    "npX = X.to_numpy()\n",
    "npX"
   ]
  },
  {
   "cell_type": "code",
   "execution_count": 29,
   "metadata": {},
   "outputs": [
    {
     "name": "stderr",
     "output_type": "stream",
     "text": [
      "100%|██████████████████████████████████████████████████████████████████████████████████| 21/21 [00:01<00:00, 12.04it/s]\n"
     ]
    },
    {
     "data": {
      "text/plain": [
       "array([[array([22.29952651, 22.29952651, 22.29952651, 22.29952651, 22.29952651]),\n",
       "        array([0., 0., 0., 0., 0.]),\n",
       "        array([0.7585303, 0.7585303, 0.7585303, 0.7585303, 0.7585303]),\n",
       "        ..., array([751., 751., 751., 751., 751.]),\n",
       "        array([9835., 9835., 9835., 9835., 9835.]),\n",
       "        array([3., 3., 3., 3., 3.])],\n",
       "       [array([24.59833333, 25.682     , 25.06433333, 24.27133333, 24.091     ]),\n",
       "        array([0.00884, 0.     , 0.00272, 0.     , 0.02244]),\n",
       "        array([0.76897333, 0.70054   , 0.74706667, 0.77385   , 0.78489   ]),\n",
       "        ..., array([651., 651., 651., 651., 651.]),\n",
       "        array([99., 99., 99., 99., 99.]), array([4., 4., 4., 4., 4.])],\n",
       "       [array([22.30733333, 22.03137626, 25.463     , 25.26333333, 26.08266667]),\n",
       "        array([0.41088   , 0.33083333, 0.        , 0.        , 0.        ]),\n",
       "        array([0.80059333, 0.78713289, 0.65393   , 0.65588   , 0.63602667]),\n",
       "        ..., array([43., 43., 43., 43., 43.]),\n",
       "        array([142., 142., 142., 142., 142.]),\n",
       "        array([1., 1., 1., 1., 1.])],\n",
       "       ...,\n",
       "       [array([24.31      , 23.24766667, 25.41766667, 26.63333333, 24.47222222]),\n",
       "        array([0.     , 0.00068, 0.     , 0.     , 0.19388]),\n",
       "        array([0.77818333, 0.76237333, 0.63466   , 0.55805636, 0.75391604]),\n",
       "        ..., array([651., 651., 651., 651., 651.]),\n",
       "        array([99., 99., 99., 99., 99.]), array([4., 4., 4., 4., 4.])],\n",
       "       [array([23.42666667, 24.809     , 23.65333333, 23.21493939, 23.30806061]),\n",
       "        array([0.     , 0.     , 0.     , 0.00136, 0.00068]),\n",
       "        array([0.77773333, 0.7566    , 0.63433333, 0.74343939, 0.7549697 ]),\n",
       "        ..., array([651., 651., 651., 651., 651.]),\n",
       "        array([99., 99., 99., 99., 99.]), array([4., 4., 4., 4., 4.])],\n",
       "       [array([23.278     , 23.65433333, 23.842     , 24.043     , 24.89066667]),\n",
       "        array([0.0136 , 0.00272, 0.     , 0.00612, 0.00068]),\n",
       "        array([0.82303333, 0.77036667, 0.66139394, 0.74246667, 0.6777    ]),\n",
       "        ..., array([751., 751., 751., 751., 751.]),\n",
       "        array([9835., 9835., 9835., 9835., 9835.]),\n",
       "        array([3., 3., 3., 3., 3.])]], dtype=object)"
      ]
     },
     "execution_count": 29,
     "metadata": {},
     "output_type": "execute_result"
    }
   ],
   "source": [
    "# convert strings into nested numpy array\n",
    "for j in tqdm(range(npX.shape[1])):\n",
    "    for i in range(npX.shape[0]):\n",
    "        npX[i,j] = np.fromstring(npX[i,j], sep = ',')\n",
    "npX"
   ]
  },
  {
   "cell_type": "code",
   "execution_count": 30,
   "metadata": {},
   "outputs": [
    {
     "data": {
      "text/plain": [
       "array([[[2.22995265e+01, 2.22995265e+01, 2.22995265e+01, 2.22995265e+01,\n",
       "         2.22995265e+01],\n",
       "        [0.00000000e+00, 0.00000000e+00, 0.00000000e+00, 0.00000000e+00,\n",
       "         0.00000000e+00],\n",
       "        [7.58530303e-01, 7.58530303e-01, 7.58530303e-01, 7.58530303e-01,\n",
       "         7.58530303e-01],\n",
       "        ...,\n",
       "        [7.51000000e+02, 7.51000000e+02, 7.51000000e+02, 7.51000000e+02,\n",
       "         7.51000000e+02],\n",
       "        [9.83500000e+03, 9.83500000e+03, 9.83500000e+03, 9.83500000e+03,\n",
       "         9.83500000e+03],\n",
       "        [3.00000000e+00, 3.00000000e+00, 3.00000000e+00, 3.00000000e+00,\n",
       "         3.00000000e+00]],\n",
       "\n",
       "       [[2.45983333e+01, 2.56820000e+01, 2.50643333e+01, 2.42713333e+01,\n",
       "         2.40910000e+01],\n",
       "        [8.84000000e-03, 0.00000000e+00, 2.72000000e-03, 0.00000000e+00,\n",
       "         2.24400000e-02],\n",
       "        [7.68973333e-01, 7.00540000e-01, 7.47066667e-01, 7.73850000e-01,\n",
       "         7.84890000e-01],\n",
       "        ...,\n",
       "        [6.51000000e+02, 6.51000000e+02, 6.51000000e+02, 6.51000000e+02,\n",
       "         6.51000000e+02],\n",
       "        [9.90000000e+01, 9.90000000e+01, 9.90000000e+01, 9.90000000e+01,\n",
       "         9.90000000e+01],\n",
       "        [4.00000000e+00, 4.00000000e+00, 4.00000000e+00, 4.00000000e+00,\n",
       "         4.00000000e+00]],\n",
       "\n",
       "       [[2.23073333e+01, 2.20313763e+01, 2.54630000e+01, 2.52633333e+01,\n",
       "         2.60826667e+01],\n",
       "        [4.10880000e-01, 3.30833333e-01, 0.00000000e+00, 0.00000000e+00,\n",
       "         0.00000000e+00],\n",
       "        [8.00593333e-01, 7.87132891e-01, 6.53930000e-01, 6.55880000e-01,\n",
       "         6.36026667e-01],\n",
       "        ...,\n",
       "        [4.30000000e+01, 4.30000000e+01, 4.30000000e+01, 4.30000000e+01,\n",
       "         4.30000000e+01],\n",
       "        [1.42000000e+02, 1.42000000e+02, 1.42000000e+02, 1.42000000e+02,\n",
       "         1.42000000e+02],\n",
       "        [1.00000000e+00, 1.00000000e+00, 1.00000000e+00, 1.00000000e+00,\n",
       "         1.00000000e+00]],\n",
       "\n",
       "       ...,\n",
       "\n",
       "       [[2.43100000e+01, 2.32476667e+01, 2.54176667e+01, 2.66333333e+01,\n",
       "         2.44722222e+01],\n",
       "        [0.00000000e+00, 6.80000000e-04, 0.00000000e+00, 0.00000000e+00,\n",
       "         1.93880000e-01],\n",
       "        [7.78183333e-01, 7.62373333e-01, 6.34660000e-01, 5.58056364e-01,\n",
       "         7.53916035e-01],\n",
       "        ...,\n",
       "        [6.51000000e+02, 6.51000000e+02, 6.51000000e+02, 6.51000000e+02,\n",
       "         6.51000000e+02],\n",
       "        [9.90000000e+01, 9.90000000e+01, 9.90000000e+01, 9.90000000e+01,\n",
       "         9.90000000e+01],\n",
       "        [4.00000000e+00, 4.00000000e+00, 4.00000000e+00, 4.00000000e+00,\n",
       "         4.00000000e+00]],\n",
       "\n",
       "       [[2.34266667e+01, 2.48090000e+01, 2.36533333e+01, 2.32149394e+01,\n",
       "         2.33080606e+01],\n",
       "        [0.00000000e+00, 0.00000000e+00, 0.00000000e+00, 1.36000000e-03,\n",
       "         6.80000000e-04],\n",
       "        [7.77733333e-01, 7.56600000e-01, 6.34333333e-01, 7.43439394e-01,\n",
       "         7.54969697e-01],\n",
       "        ...,\n",
       "        [6.51000000e+02, 6.51000000e+02, 6.51000000e+02, 6.51000000e+02,\n",
       "         6.51000000e+02],\n",
       "        [9.90000000e+01, 9.90000000e+01, 9.90000000e+01, 9.90000000e+01,\n",
       "         9.90000000e+01],\n",
       "        [4.00000000e+00, 4.00000000e+00, 4.00000000e+00, 4.00000000e+00,\n",
       "         4.00000000e+00]],\n",
       "\n",
       "       [[2.32780000e+01, 2.36543333e+01, 2.38420000e+01, 2.40430000e+01,\n",
       "         2.48906667e+01],\n",
       "        [1.36000000e-02, 2.72000000e-03, 0.00000000e+00, 6.12000000e-03,\n",
       "         6.80000000e-04],\n",
       "        [8.23033333e-01, 7.70366667e-01, 6.61393939e-01, 7.42466667e-01,\n",
       "         6.77700000e-01],\n",
       "        ...,\n",
       "        [7.51000000e+02, 7.51000000e+02, 7.51000000e+02, 7.51000000e+02,\n",
       "         7.51000000e+02],\n",
       "        [9.83500000e+03, 9.83500000e+03, 9.83500000e+03, 9.83500000e+03,\n",
       "         9.83500000e+03],\n",
       "        [3.00000000e+00, 3.00000000e+00, 3.00000000e+00, 3.00000000e+00,\n",
       "         3.00000000e+00]]])"
      ]
     },
     "execution_count": 30,
     "metadata": {},
     "output_type": "execute_result"
    }
   ],
   "source": [
    "# create 3D shape\n",
    "npX3D = np.array([e.tolist() for e in npX.flatten()]).reshape(npX.shape[0],npX.shape[1],-1)\n",
    "npX3D"
   ]
  },
  {
   "cell_type": "code",
   "execution_count": 31,
   "metadata": {},
   "outputs": [
    {
     "name": "stdout",
     "output_type": "stream",
     "text": [
      "(15539, 21, 5)\n"
     ]
    }
   ],
   "source": [
    "print(npX3D.shape)"
   ]
  },
  {
   "cell_type": "code",
   "execution_count": 32,
   "metadata": {},
   "outputs": [
    {
     "data": {
      "text/plain": [
       "array([[[2.22995265e+01, 0.00000000e+00, 7.58530303e-01, ...,\n",
       "         7.51000000e+02, 9.83500000e+03, 3.00000000e+00],\n",
       "        [2.22995265e+01, 0.00000000e+00, 7.58530303e-01, ...,\n",
       "         7.51000000e+02, 9.83500000e+03, 3.00000000e+00],\n",
       "        [2.22995265e+01, 0.00000000e+00, 7.58530303e-01, ...,\n",
       "         7.51000000e+02, 9.83500000e+03, 3.00000000e+00],\n",
       "        [2.22995265e+01, 0.00000000e+00, 7.58530303e-01, ...,\n",
       "         7.51000000e+02, 9.83500000e+03, 3.00000000e+00],\n",
       "        [2.22995265e+01, 0.00000000e+00, 7.58530303e-01, ...,\n",
       "         7.51000000e+02, 9.83500000e+03, 3.00000000e+00]],\n",
       "\n",
       "       [[2.45983333e+01, 8.84000000e-03, 7.68973333e-01, ...,\n",
       "         6.51000000e+02, 9.90000000e+01, 4.00000000e+00],\n",
       "        [2.56820000e+01, 0.00000000e+00, 7.00540000e-01, ...,\n",
       "         6.51000000e+02, 9.90000000e+01, 4.00000000e+00],\n",
       "        [2.50643333e+01, 2.72000000e-03, 7.47066667e-01, ...,\n",
       "         6.51000000e+02, 9.90000000e+01, 4.00000000e+00],\n",
       "        [2.42713333e+01, 0.00000000e+00, 7.73850000e-01, ...,\n",
       "         6.51000000e+02, 9.90000000e+01, 4.00000000e+00],\n",
       "        [2.40910000e+01, 2.24400000e-02, 7.84890000e-01, ...,\n",
       "         6.51000000e+02, 9.90000000e+01, 4.00000000e+00]],\n",
       "\n",
       "       [[2.23073333e+01, 4.10880000e-01, 8.00593333e-01, ...,\n",
       "         4.30000000e+01, 1.42000000e+02, 1.00000000e+00],\n",
       "        [2.20313763e+01, 3.30833333e-01, 7.87132891e-01, ...,\n",
       "         4.30000000e+01, 1.42000000e+02, 1.00000000e+00],\n",
       "        [2.54630000e+01, 0.00000000e+00, 6.53930000e-01, ...,\n",
       "         4.30000000e+01, 1.42000000e+02, 1.00000000e+00],\n",
       "        [2.52633333e+01, 0.00000000e+00, 6.55880000e-01, ...,\n",
       "         4.30000000e+01, 1.42000000e+02, 1.00000000e+00],\n",
       "        [2.60826667e+01, 0.00000000e+00, 6.36026667e-01, ...,\n",
       "         4.30000000e+01, 1.42000000e+02, 1.00000000e+00]],\n",
       "\n",
       "       ...,\n",
       "\n",
       "       [[2.43100000e+01, 0.00000000e+00, 7.78183333e-01, ...,\n",
       "         6.51000000e+02, 9.90000000e+01, 4.00000000e+00],\n",
       "        [2.32476667e+01, 6.80000000e-04, 7.62373333e-01, ...,\n",
       "         6.51000000e+02, 9.90000000e+01, 4.00000000e+00],\n",
       "        [2.54176667e+01, 0.00000000e+00, 6.34660000e-01, ...,\n",
       "         6.51000000e+02, 9.90000000e+01, 4.00000000e+00],\n",
       "        [2.66333333e+01, 0.00000000e+00, 5.58056364e-01, ...,\n",
       "         6.51000000e+02, 9.90000000e+01, 4.00000000e+00],\n",
       "        [2.44722222e+01, 1.93880000e-01, 7.53916035e-01, ...,\n",
       "         6.51000000e+02, 9.90000000e+01, 4.00000000e+00]],\n",
       "\n",
       "       [[2.34266667e+01, 0.00000000e+00, 7.77733333e-01, ...,\n",
       "         6.51000000e+02, 9.90000000e+01, 4.00000000e+00],\n",
       "        [2.48090000e+01, 0.00000000e+00, 7.56600000e-01, ...,\n",
       "         6.51000000e+02, 9.90000000e+01, 4.00000000e+00],\n",
       "        [2.36533333e+01, 0.00000000e+00, 6.34333333e-01, ...,\n",
       "         6.51000000e+02, 9.90000000e+01, 4.00000000e+00],\n",
       "        [2.32149394e+01, 1.36000000e-03, 7.43439394e-01, ...,\n",
       "         6.51000000e+02, 9.90000000e+01, 4.00000000e+00],\n",
       "        [2.33080606e+01, 6.80000000e-04, 7.54969697e-01, ...,\n",
       "         6.51000000e+02, 9.90000000e+01, 4.00000000e+00]],\n",
       "\n",
       "       [[2.32780000e+01, 1.36000000e-02, 8.23033333e-01, ...,\n",
       "         7.51000000e+02, 9.83500000e+03, 3.00000000e+00],\n",
       "        [2.36543333e+01, 2.72000000e-03, 7.70366667e-01, ...,\n",
       "         7.51000000e+02, 9.83500000e+03, 3.00000000e+00],\n",
       "        [2.38420000e+01, 0.00000000e+00, 6.61393939e-01, ...,\n",
       "         7.51000000e+02, 9.83500000e+03, 3.00000000e+00],\n",
       "        [2.40430000e+01, 6.12000000e-03, 7.42466667e-01, ...,\n",
       "         7.51000000e+02, 9.83500000e+03, 3.00000000e+00],\n",
       "        [2.48906667e+01, 6.80000000e-04, 6.77700000e-01, ...,\n",
       "         7.51000000e+02, 9.83500000e+03, 3.00000000e+00]]])"
      ]
     },
     "execution_count": 32,
     "metadata": {},
     "output_type": "execute_result"
    }
   ],
   "source": [
    "#reshape 3D shape \n",
    "re_npX3D = npX3D.swapaxes(1,2)\n",
    "re_npX3D"
   ]
  },
  {
   "cell_type": "code",
   "execution_count": 33,
   "metadata": {},
   "outputs": [
    {
     "data": {
      "text/plain": [
       "(15539, 5, 21)"
      ]
     },
     "execution_count": 33,
     "metadata": {},
     "output_type": "execute_result"
    }
   ],
   "source": [
    "re_npX3D.shape"
   ]
  },
  {
   "cell_type": "markdown",
   "metadata": {},
   "source": [
    "### Plotting variable distributions"
   ]
  },
  {
   "cell_type": "markdown",
   "metadata": {},
   "source": [
    "##### Input"
   ]
  },
  {
   "cell_type": "code",
   "execution_count": 34,
   "metadata": {},
   "outputs": [],
   "source": [
    "temp = np.array([])\n",
    "precip = np.array([])\n",
    "re_humidity = np.array([])\n",
    "wind_dir = np.array([])\n",
    "wind_spd = np.array([])\n",
    "atmos_press = np.array([])\n",
    "for j in range(0,6):\n",
    "    for i in range (re_npX3D.shape[0]):\n",
    "        lys = list(re_npX3D[:,:,j][i])\n",
    "        if j == 0:\n",
    "            temp = np.append(temp, lys)\n",
    "        if j == 1:\n",
    "            precip = np.append(precip, lys)\n",
    "        if j == 2:\n",
    "            re_humidity = np.append(re_humidity, lys)\n",
    "        if j == 3:\n",
    "            wind_dir = np.append(wind_dir, lys)\n",
    "        if j == 4:\n",
    "            wind_spd = np.append(wind_spd, lys)\n",
    "        if j == 5:\n",
    "            atmos_press = np.append(atmos_press, lys)"
   ]
  },
  {
   "cell_type": "code",
   "execution_count": 35,
   "metadata": {},
   "outputs": [
    {
     "name": "stdout",
     "output_type": "stream",
     "text": [
      "False\n"
     ]
    }
   ],
   "source": [
    "# testing if there are still any Nan values in the list\n",
    "array_sum = np.sum(temp)\n",
    "arra_has_nan = np.isnan(array_sum)\n",
    "print(arra_has_nan)"
   ]
  },
  {
   "cell_type": "code",
   "execution_count": 36,
   "metadata": {},
   "outputs": [
    {
     "data": {
      "text/plain": [
       "<function matplotlib.pyplot.show(*args, **kw)>"
      ]
     },
     "execution_count": 36,
     "metadata": {},
     "output_type": "execute_result"
    },
    {
     "data": {
      "image/png": "[encoded data removed]",
      "text/plain": [
       "<Figure size 432x288 with 1 Axes>"
      ]
     },
     "metadata": {},
     "output_type": "display_data"
    }
   ],
   "source": [
    "plt.hist(temp, bins = 9)\n",
    "plt.show"
   ]
  },
  {
   "cell_type": "code",
   "execution_count": 37,
   "metadata": {},
   "outputs": [
    {
     "data": {
      "text/plain": [
       "<function matplotlib.pyplot.show(*args, **kw)>"
      ]
     },
     "execution_count": 37,
     "metadata": {},
     "output_type": "execute_result"
    },
    {
     "data": {
      "image/png": "[encoded data removed]",
      "text/plain": [
       "<Figure size 432x288 with 1 Axes>"
      ]
     },
     "metadata": {},
     "output_type": "display_data"
    }
   ],
   "source": [
    "plt.hist(precip, bins = 9)\n",
    "plt.show"
   ]
  },
  {
   "cell_type": "code",
   "execution_count": 38,
   "metadata": {},
   "outputs": [
    {
     "data": {
      "text/plain": [
       "<function matplotlib.pyplot.show(*args, **kw)>"
      ]
     },
     "execution_count": 38,
     "metadata": {},
     "output_type": "execute_result"
    },
    {
     "data": {
      "image/png": "[encoded data removed]",
      "text/plain": [
       "<Figure size 432x288 with 1 Axes>"
      ]
     },
     "metadata": {},
     "output_type": "display_data"
    }
   ],
   "source": [
    "plt.hist(re_humidity, bins = 9)\n",
    "plt.show"
   ]
  },
  {
   "cell_type": "code",
   "execution_count": 39,
   "metadata": {},
   "outputs": [
    {
     "data": {
      "text/plain": [
       "<function matplotlib.pyplot.show(*args, **kw)>"
      ]
     },
     "execution_count": 39,
     "metadata": {},
     "output_type": "execute_result"
    },
    {
     "data": {
      "image/png": "[encoded data removed]",
      "text/plain": [
       "<Figure size 432x288 with 1 Axes>"
      ]
     },
     "metadata": {},
     "output_type": "display_data"
    }
   ],
   "source": [
    "plt.hist(wind_dir, bins = 9)\n",
    "plt.show"
   ]
  },
  {
   "cell_type": "code",
   "execution_count": 40,
   "metadata": {},
   "outputs": [
    {
     "data": {
      "text/plain": [
       "<function matplotlib.pyplot.show(*args, **kw)>"
      ]
     },
     "execution_count": 40,
     "metadata": {},
     "output_type": "execute_result"
    },
    {
     "data": {
      "image/png": "[encoded data removed]",
      "text/plain": [
       "<Figure size 432x288 with 1 Axes>"
      ]
     },
     "metadata": {},
     "output_type": "display_data"
    }
   ],
   "source": [
    "plt.hist(wind_spd, bins = 9)\n",
    "plt.show"
   ]
  },
  {
   "cell_type": "code",
   "execution_count": 41,
   "metadata": {},
   "outputs": [
    {
     "data": {
      "text/plain": [
       "<function matplotlib.pyplot.show(*args, **kw)>"
      ]
     },
     "execution_count": 41,
     "metadata": {},
     "output_type": "execute_result"
    },
    {
     "data": {
      "image/png": "[encoded data removed]",
      "text/plain": [
       "<Figure size 432x288 with 1 Axes>"
      ]
     },
     "metadata": {},
     "output_type": "display_data"
    }
   ],
   "source": [
    "plt.hist(atmos_press, bins = 9)\n",
    "plt.show"
   ]
  },
  {
   "cell_type": "markdown",
   "metadata": {},
   "source": [
    "### Split into train and test data sets"
   ]
  },
  {
   "cell_type": "markdown",
   "metadata": {},
   "source": [
    "##### Regression"
   ]
  },
  {
   "cell_type": "code",
   "execution_count": 44,
   "metadata": {},
   "outputs": [],
   "source": [
    "x_train, x_test, y_train, y_test = train_test_split(re_npX3D,np_Y,test_size=0.2, random_state=1)"
   ]
  },
  {
   "cell_type": "code",
   "execution_count": 142,
   "metadata": {},
   "outputs": [
    {
     "data": {
      "text/plain": [
       "array([[42.09787234],\n",
       "       [80.65170213]])"
      ]
     },
     "execution_count": 142,
     "metadata": {},
     "output_type": "execute_result"
    }
   ],
   "source": [
    "y_train[0:2,]"
   ]
  },
  {
   "cell_type": "code",
   "execution_count": 327,
   "metadata": {},
   "outputs": [
    {
     "data": {
      "text/plain": [
       "<function matplotlib.pyplot.show(*args, **kw)>"
      ]
     },
     "execution_count": 327,
     "metadata": {},
     "output_type": "execute_result"
    },
    {
     "data": {
      "image/png": "[encoded data removed]",
      "text/plain": [
       "<Figure size 432x288 with 1 Axes>"
      ]
     },
     "metadata": {},
     "output_type": "display_data"
    }
   ],
   "source": [
    "plt.hist(list(y_train[:,0]), bins = 20)\n",
    "plt.show"
   ]
  },
  {
   "cell_type": "code",
   "execution_count": 137,
   "metadata": {},
   "outputs": [
    {
     "data": {
      "text/plain": [
       "array([[81.6723913 ],\n",
       "       [73.04893617]])"
      ]
     },
     "execution_count": 137,
     "metadata": {},
     "output_type": "execute_result"
    }
   ],
   "source": [
    "y_test[0:2,:]"
   ]
  },
  {
   "cell_type": "code",
   "execution_count": 143,
   "metadata": {},
   "outputs": [
    {
     "data": {
      "text/plain": [
       "<function matplotlib.pyplot.show(*args, **kw)>"
      ]
     },
     "execution_count": 143,
     "metadata": {},
     "output_type": "execute_result"
    },
    {
     "data": {
      "image/png": "[encoded data removed]",
      "text/plain": [
       "<Figure size 432x288 with 1 Axes>"
      ]
     },
     "metadata": {},
     "output_type": "display_data"
    }
   ],
   "source": [
    "# check to see if the smapling is somewhat alike\n",
    "plt.hist(list(y_test[:,0]), bins = 20)\n",
    "plt.show"
   ]
  },
  {
   "cell_type": "code",
   "execution_count": 45,
   "metadata": {},
   "outputs": [
    {
     "name": "stdout",
     "output_type": "stream",
     "text": [
      "(12431, 5, 21)\n",
      "(12431, 1)\n",
      "(3108, 5, 21)\n",
      "(3108, 1)\n"
     ]
    }
   ],
   "source": [
    "print(x_train.shape)\n",
    "print(y_train.shape)\n",
    "print(x_test.shape)\n",
    "print(y_test.shape)"
   ]
  },
  {
   "cell_type": "markdown",
   "metadata": {},
   "source": [
    "##### Classification"
   ]
  },
  {
   "cell_type": "code",
   "execution_count": 220,
   "metadata": {},
   "outputs": [
    {
     "name": "stdout",
     "output_type": "stream",
     "text": [
      "475.82\n"
     ]
    }
   ],
   "source": [
    "# convert training set to classes\n",
    "y_train_class = np.empty((y_train.shape[0],1), dtype = 'O')\n",
    "\n",
    "maxi = max(y_train[:,0])\n",
    "print(maxi)\n",
    "\n",
    "for c in range(y_train.shape[0]):\n",
    "    if 0 <= y_train[c,0] <= 12:\n",
    "        y_train_class[c,0] = \"good\"\n",
    "    if 12 < y_train[c,0] <= 35:\n",
    "        y_train_class[c,0] = \"moderate\"\n",
    "    if 35 < y_train[c,0] <= 55:\n",
    "        y_train_class[c,0] = \"unhealthy for sensitive groups\"\n",
    "    if 55 < y_train[c,0] <= 150:\n",
    "        y_train_class[c,0] = \"unhealthy\"\n",
    "    if 150 < y_train[c,0] <= 250:\n",
    "        y_train_class[c,0] = \"very unhealthy\"\n",
    "    if 250 < y_train[c,0] <= maxi:\n",
    "        y_train_class[c,0] = \"hazardous\""
   ]
  },
  {
   "cell_type": "code",
   "execution_count": 221,
   "metadata": {},
   "outputs": [
    {
     "data": {
      "text/plain": [
       "array([['unhealthy for sensitive groups'],\n",
       "       ['unhealthy']], dtype=object)"
      ]
     },
     "execution_count": 221,
     "metadata": {},
     "output_type": "execute_result"
    }
   ],
   "source": [
    "y_train_class[0:2,]"
   ]
  },
  {
   "cell_type": "code",
   "execution_count": 222,
   "metadata": {},
   "outputs": [],
   "source": [
    "# convert test set to classes\n",
    "\n",
    "y_test_class = np.empty((y_test.shape[0],y_test.shape[1]), dtype = 'O')\n",
    "\n",
    "maxi = max(y_test[:,0])\n",
    "\n",
    "for c in range(y_test_class.shape[0]):\n",
    "    if 0 <= y_test[c,0] <= 12:\n",
    "        y_test_class[c,0] = \"good\"\n",
    "    if 12 < y_test[c,0] <= 35:\n",
    "        y_test_class[c,0] = \"moderate\"\n",
    "    if 35 < y_test[c,0] <= 55:\n",
    "        y_test_class[c,0] = \"unhealthy for sensitive groups\"\n",
    "    if 55 < y_test[c,0] <= 150:\n",
    "        y_test_class[c,0] = \"unhealthy\"\n",
    "    if 150 < y_test[c,0] <= 250:\n",
    "        y_test_class[c,0] = \"very unhealthy\"\n",
    "    if 250 < y_test[c,0] <= maxi:\n",
    "        y_test_class[c,0] = \"hazardous\""
   ]
  },
  {
   "cell_type": "code",
   "execution_count": 223,
   "metadata": {},
   "outputs": [
    {
     "data": {
      "text/plain": [
       "array([['unhealthy'],\n",
       "       ['unhealthy']], dtype=object)"
      ]
     },
     "execution_count": 223,
     "metadata": {},
     "output_type": "execute_result"
    }
   ],
   "source": [
    "y_test_class[0:2,]"
   ]
  },
  {
   "cell_type": "markdown",
   "metadata": {},
   "source": [
    "### Target value imbalance"
   ]
  },
  {
   "cell_type": "markdown",
   "metadata": {},
   "source": [
    "##### Regression"
   ]
  },
  {
   "cell_type": "code",
   "execution_count": 50,
   "metadata": {},
   "outputs": [
    {
     "data": {
      "text/plain": [
       "(12431, 105)"
      ]
     },
     "execution_count": 50,
     "metadata": {},
     "output_type": "execute_result"
    }
   ],
   "source": [
    "# prepare data for smote technique\n",
    "y_train_sm = y_train.copy()\n",
    "x_train_sm = np.reshape(x_train, (x_train.shape[0],x_train.shape[1]*x_train.shape[2]))\n",
    "x_train_sm.shape"
   ]
  },
  {
   "cell_type": "code",
   "execution_count": 51,
   "metadata": {},
   "outputs": [
    {
     "data": {
      "text/plain": [
       "(12431, 106)"
      ]
     },
     "execution_count": 51,
     "metadata": {},
     "output_type": "execute_result"
    }
   ],
   "source": [
    "# combine training dataset\n",
    "com_train_sm = np.concatenate((x_train_sm, y_train_sm), axis = 1)\n",
    "com_train_sm.shape"
   ]
  },
  {
   "cell_type": "code",
   "execution_count": 52,
   "metadata": {},
   "outputs": [
    {
     "data": {
      "text/plain": [
       "False"
      ]
     },
     "execution_count": 52,
     "metadata": {},
     "output_type": "execute_result"
    }
   ],
   "source": [
    "# checking nan/missing values\n",
    "array_sum = np.sum(com_train_sm)\n",
    "array_has_nan = np.isnan(array_sum)\n",
    "array_has_nan"
   ]
  },
  {
   "cell_type": "code",
   "execution_count": 53,
   "metadata": {},
   "outputs": [
    {
     "data": {
      "text/html": [
       "<div>\n",
       "<style scoped>\n",
       "    .dataframe tbody tr th:only-of-type {\n",
       "        vertical-align: middle;\n",
       "    }\n",
       "\n",
       "    .dataframe tbody tr th {\n",
       "        vertical-align: top;\n",
       "    }\n",
       "\n",
       "    .dataframe thead th {\n",
       "        text-align: right;\n",
       "    }\n",
       "</style>\n",
       "<table border=\"1\" class=\"dataframe\">\n",
       "  <thead>\n",
       "    <tr style=\"text-align: right;\">\n",
       "      <th></th>\n",
       "      <th>0</th>\n",
       "      <th>1</th>\n",
       "      <th>2</th>\n",
       "      <th>3</th>\n",
       "      <th>4</th>\n",
       "      <th>5</th>\n",
       "      <th>6</th>\n",
       "      <th>7</th>\n",
       "      <th>8</th>\n",
       "      <th>9</th>\n",
       "      <th>...</th>\n",
       "      <th>96</th>\n",
       "      <th>97</th>\n",
       "      <th>98</th>\n",
       "      <th>99</th>\n",
       "      <th>100</th>\n",
       "      <th>101</th>\n",
       "      <th>102</th>\n",
       "      <th>103</th>\n",
       "      <th>104</th>\n",
       "      <th>target</th>\n",
       "    </tr>\n",
       "  </thead>\n",
       "  <tbody>\n",
       "    <tr>\n",
       "      <th>0</th>\n",
       "      <td>23.141333</td>\n",
       "      <td>0.00000</td>\n",
       "      <td>0.782383</td>\n",
       "      <td>180.658964</td>\n",
       "      <td>0.991300</td>\n",
       "      <td>90.556433</td>\n",
       "      <td>980.8</td>\n",
       "      <td>0.8</td>\n",
       "      <td>90.0</td>\n",
       "      <td>5000.0</td>\n",
       "      <td>...</td>\n",
       "      <td>339.693908</td>\n",
       "      <td>76.024389</td>\n",
       "      <td>11.601442</td>\n",
       "      <td>3596.0</td>\n",
       "      <td>663.0</td>\n",
       "      <td>7.0</td>\n",
       "      <td>651.0</td>\n",
       "      <td>99.0</td>\n",
       "      <td>4.0</td>\n",
       "      <td>42.097872</td>\n",
       "    </tr>\n",
       "    <tr>\n",
       "      <th>1</th>\n",
       "      <td>23.093000</td>\n",
       "      <td>1.31196</td>\n",
       "      <td>0.842410</td>\n",
       "      <td>177.216407</td>\n",
       "      <td>0.829108</td>\n",
       "      <td>90.707100</td>\n",
       "      <td>980.8</td>\n",
       "      <td>0.8</td>\n",
       "      <td>90.0</td>\n",
       "      <td>5000.0</td>\n",
       "      <td>...</td>\n",
       "      <td>339.693908</td>\n",
       "      <td>76.024389</td>\n",
       "      <td>11.601442</td>\n",
       "      <td>3596.0</td>\n",
       "      <td>663.0</td>\n",
       "      <td>7.0</td>\n",
       "      <td>651.0</td>\n",
       "      <td>99.0</td>\n",
       "      <td>4.0</td>\n",
       "      <td>80.651702</td>\n",
       "    </tr>\n",
       "    <tr>\n",
       "      <th>2</th>\n",
       "      <td>23.039182</td>\n",
       "      <td>0.07076</td>\n",
       "      <td>0.834061</td>\n",
       "      <td>178.520783</td>\n",
       "      <td>1.090239</td>\n",
       "      <td>90.502185</td>\n",
       "      <td>980.8</td>\n",
       "      <td>0.8</td>\n",
       "      <td>90.0</td>\n",
       "      <td>5000.0</td>\n",
       "      <td>...</td>\n",
       "      <td>339.693908</td>\n",
       "      <td>76.024389</td>\n",
       "      <td>11.601442</td>\n",
       "      <td>3596.0</td>\n",
       "      <td>663.0</td>\n",
       "      <td>7.0</td>\n",
       "      <td>651.0</td>\n",
       "      <td>99.0</td>\n",
       "      <td>4.0</td>\n",
       "      <td>127.972766</td>\n",
       "    </tr>\n",
       "    <tr>\n",
       "      <th>3</th>\n",
       "      <td>21.619333</td>\n",
       "      <td>0.00136</td>\n",
       "      <td>0.835660</td>\n",
       "      <td>225.310836</td>\n",
       "      <td>1.200133</td>\n",
       "      <td>88.359933</td>\n",
       "      <td>1122.4</td>\n",
       "      <td>1.9</td>\n",
       "      <td>194.0</td>\n",
       "      <td>5000.0</td>\n",
       "      <td>...</td>\n",
       "      <td>575.917422</td>\n",
       "      <td>330.609776</td>\n",
       "      <td>254.307415</td>\n",
       "      <td>4763.0</td>\n",
       "      <td>809.0</td>\n",
       "      <td>508.0</td>\n",
       "      <td>43.0</td>\n",
       "      <td>142.0</td>\n",
       "      <td>1.0</td>\n",
       "      <td>56.209767</td>\n",
       "    </tr>\n",
       "    <tr>\n",
       "      <th>4</th>\n",
       "      <td>22.678667</td>\n",
       "      <td>0.00136</td>\n",
       "      <td>0.759857</td>\n",
       "      <td>112.767697</td>\n",
       "      <td>0.981733</td>\n",
       "      <td>90.668400</td>\n",
       "      <td>980.8</td>\n",
       "      <td>0.8</td>\n",
       "      <td>90.0</td>\n",
       "      <td>5000.0</td>\n",
       "      <td>...</td>\n",
       "      <td>339.693908</td>\n",
       "      <td>76.024389</td>\n",
       "      <td>11.601442</td>\n",
       "      <td>3596.0</td>\n",
       "      <td>663.0</td>\n",
       "      <td>7.0</td>\n",
       "      <td>651.0</td>\n",
       "      <td>99.0</td>\n",
       "      <td>4.0</td>\n",
       "      <td>39.465319</td>\n",
       "    </tr>\n",
       "  </tbody>\n",
       "</table>\n",
       "<p>5 rows × 106 columns</p>\n",
       "</div>"
      ],
      "text/plain": [
       "           0        1         2           3         4          5       6    7  \\\n",
       "0  23.141333  0.00000  0.782383  180.658964  0.991300  90.556433   980.8  0.8   \n",
       "1  23.093000  1.31196  0.842410  177.216407  0.829108  90.707100   980.8  0.8   \n",
       "2  23.039182  0.07076  0.834061  178.520783  1.090239  90.502185   980.8  0.8   \n",
       "3  21.619333  0.00136  0.835660  225.310836  1.200133  88.359933  1122.4  1.9   \n",
       "4  22.678667  0.00136  0.759857  112.767697  0.981733  90.668400   980.8  0.8   \n",
       "\n",
       "       8       9  ...          96          97          98      99    100  \\\n",
       "0   90.0  5000.0  ...  339.693908   76.024389   11.601442  3596.0  663.0   \n",
       "1   90.0  5000.0  ...  339.693908   76.024389   11.601442  3596.0  663.0   \n",
       "2   90.0  5000.0  ...  339.693908   76.024389   11.601442  3596.0  663.0   \n",
       "3  194.0  5000.0  ...  575.917422  330.609776  254.307415  4763.0  809.0   \n",
       "4   90.0  5000.0  ...  339.693908   76.024389   11.601442  3596.0  663.0   \n",
       "\n",
       "     101    102    103  104      target  \n",
       "0    7.0  651.0   99.0  4.0   42.097872  \n",
       "1    7.0  651.0   99.0  4.0   80.651702  \n",
       "2    7.0  651.0   99.0  4.0  127.972766  \n",
       "3  508.0   43.0  142.0  1.0   56.209767  \n",
       "4    7.0  651.0   99.0  4.0   39.465319  \n",
       "\n",
       "[5 rows x 106 columns]"
      ]
     },
     "execution_count": 53,
     "metadata": {},
     "output_type": "execute_result"
    }
   ],
   "source": [
    "pd_train_sm = pd.DataFrame(com_train_sm)\n",
    "pd_train_sm = pd_train_sm.rename(columns={105:'target'})\n",
    "pd_train_sm.head()"
   ]
  },
  {
   "cell_type": "code",
   "execution_count": 110,
   "metadata": {},
   "outputs": [
    {
     "data": {
      "text/plain": [
       "<function matplotlib.pyplot.show(*args, **kw)>"
      ]
     },
     "execution_count": 110,
     "metadata": {},
     "output_type": "execute_result"
    },
    {
     "data": {
      "image/png": "[encoded data removed]",
      "text/plain": [
       "<Figure size 432x288 with 1 Axes>"
      ]
     },
     "metadata": {},
     "output_type": "display_data"
    }
   ],
   "source": [
    "# plot imbalanced output\n",
    "\n",
    "plt.hist(pd_train_sm['target'], bins = 80)\n",
    "plt.title('Histogram of training dataset target values')\n",
    "plt.show"
   ]
  },
  {
   "cell_type": "code",
   "execution_count": 376,
   "metadata": {},
   "outputs": [],
   "source": [
    "rg_mtrx = [\n",
    "    [400,  1, 0],  ## over-sample (\"minority\")\n",
    "    [50, 0, 0],  ## under-sample (\"majority\")\n",
    "]"
   ]
  },
  {
   "cell_type": "code",
   "execution_count": 377,
   "metadata": {},
   "outputs": [
    {
     "name": "stderr",
     "output_type": "stream",
     "text": [
      "dist_matrix: 100%|###############################################################| 1675/1675 [2:36:23<00:00,  5.60s/it]\n",
      "synth_matrix: 100%|################################################################| 1675/1675 [00:36<00:00, 45.98it/s]\n",
      "r_index: 100%|######################################################################| 670/670 [00:03<00:00, 220.30it/s]\n"
     ]
    }
   ],
   "source": [
    "# tuning SMOGN for regression\n",
    "final_train_sm3 = smogn.smoter(data = pd_train_sm, y = 'target', samp_method = 'extreme', rel_thres = 0.7, rel_ctrl_pts_rg = rg_mtrx)"
   ]
  },
  {
   "cell_type": "code",
   "execution_count": 378,
   "metadata": {},
   "outputs": [
    {
     "data": {
      "text/plain": [
       "<function matplotlib.pyplot.show(*args, **kw)>"
      ]
     },
     "execution_count": 378,
     "metadata": {},
     "output_type": "execute_result"
    },
    {
     "data": {
      "image/png": "[encoded data removed]",
      "text/plain": [
       "<Figure size 432x288 with 1 Axes>"
      ]
     },
     "metadata": {},
     "output_type": "display_data"
    }
   ],
   "source": [
    "# plot balanced classes\n",
    "plt.hist(final_train_sm3['target'], bins = 80)\n",
    "plt.title('Histogram of transformed training dataset target values')\n",
    "plt.show"
   ]
  },
  {
   "cell_type": "code",
   "execution_count": 382,
   "metadata": {},
   "outputs": [
    {
     "name": "stdout",
     "output_type": "stream",
     "text": [
      "(19325, 5, 21)\n",
      "(19325, 1)\n"
     ]
    }
   ],
   "source": [
    "# split input and output again\n",
    "x_train_sm3 = final_train_sm3.iloc[:,0:105]\n",
    "y_train_sm3 = final_train_sm3.iloc[:,105:106]\n",
    "x_train_sm3 = x_train_sm3.to_numpy()\n",
    "y_train_sm3 = y_train_sm3.to_numpy()\n",
    "x_train_sm3 = np.reshape(x_train_sm3, (x_train_sm3.shape[0], x_train.shape[1], x_train.shape[2]))\n",
    "print(x_train_sm3.shape)\n",
    "print(y_train_sm3.shape)"
   ]
  },
  {
   "cell_type": "code",
   "execution_count": 54,
   "metadata": {},
   "outputs": [
    {
     "name": "stderr",
     "output_type": "stream",
     "text": [
      "dist_matrix: 100%|###############################################################| 2107/2107 [4:10:20<00:00,  7.13s/it]\n",
      "synth_matrix: 100%|###############################################################| 2107/2107 [00:10<00:00, 204.17it/s]\n",
      "r_index: 100%|####################################################################| 2001/2001 [00:08<00:00, 236.46it/s]\n"
     ]
    }
   ],
   "source": [
    "# apply SMOTE for regression\n",
    "final_train_sm = smogn.smoter(data = pd_train_sm, y = 'target')"
   ]
  },
  {
   "cell_type": "code",
   "execution_count": 328,
   "metadata": {},
   "outputs": [
    {
     "data": {
      "text/plain": [
       "<function matplotlib.pyplot.show(*args, **kw)>"
      ]
     },
     "execution_count": 328,
     "metadata": {},
     "output_type": "execute_result"
    },
    {
     "data": {
      "image/png": "[encoded data removed]",
      "text/plain": [
       "<Figure size 432x288 with 1 Axes>"
      ]
     },
     "metadata": {},
     "output_type": "display_data"
    }
   ],
   "source": [
    "# plot balanced classes\n",
    "plt.hist(final_train_sm['target'], bins = 80)\n",
    "plt.title('Histogram of transformed training dataset target values')\n",
    "plt.show"
   ]
  },
  {
   "cell_type": "code",
   "execution_count": 371,
   "metadata": {},
   "outputs": [
    {
     "data": {
      "text/html": [
       "<div>\n",
       "<style scoped>\n",
       "    .dataframe tbody tr th:only-of-type {\n",
       "        vertical-align: middle;\n",
       "    }\n",
       "\n",
       "    .dataframe tbody tr th {\n",
       "        vertical-align: top;\n",
       "    }\n",
       "\n",
       "    .dataframe thead th {\n",
       "        text-align: right;\n",
       "    }\n",
       "</style>\n",
       "<table border=\"1\" class=\"dataframe\">\n",
       "  <thead>\n",
       "    <tr style=\"text-align: right;\">\n",
       "      <th></th>\n",
       "      <th>0</th>\n",
       "      <th>1</th>\n",
       "      <th>2</th>\n",
       "      <th>3</th>\n",
       "      <th>4</th>\n",
       "      <th>5</th>\n",
       "      <th>6</th>\n",
       "      <th>7</th>\n",
       "      <th>8</th>\n",
       "      <th>9</th>\n",
       "      <th>...</th>\n",
       "      <th>96</th>\n",
       "      <th>97</th>\n",
       "      <th>98</th>\n",
       "      <th>99</th>\n",
       "      <th>100</th>\n",
       "      <th>101</th>\n",
       "      <th>102</th>\n",
       "      <th>103</th>\n",
       "      <th>104</th>\n",
       "      <th>target</th>\n",
       "    </tr>\n",
       "  </thead>\n",
       "  <tbody>\n",
       "    <tr>\n",
       "      <th>0</th>\n",
       "      <td>21.923731</td>\n",
       "      <td>1.425761</td>\n",
       "      <td>0.811239</td>\n",
       "      <td>164.313633</td>\n",
       "      <td>1.214795</td>\n",
       "      <td>88.408956</td>\n",
       "      <td>1186.5</td>\n",
       "      <td>1.6</td>\n",
       "      <td>121.0</td>\n",
       "      <td>850.423131</td>\n",
       "      <td>...</td>\n",
       "      <td>137.722087</td>\n",
       "      <td>449.591885</td>\n",
       "      <td>3.836589</td>\n",
       "      <td>6064.0</td>\n",
       "      <td>1297.0</td>\n",
       "      <td>985.0</td>\n",
       "      <td>26.0</td>\n",
       "      <td>43.0</td>\n",
       "      <td>5.0</td>\n",
       "      <td>83.300396</td>\n",
       "    </tr>\n",
       "    <tr>\n",
       "      <th>1</th>\n",
       "      <td>24.650515</td>\n",
       "      <td>0.000000</td>\n",
       "      <td>0.666988</td>\n",
       "      <td>144.867250</td>\n",
       "      <td>1.252161</td>\n",
       "      <td>90.385674</td>\n",
       "      <td>980.8</td>\n",
       "      <td>0.8</td>\n",
       "      <td>90.0</td>\n",
       "      <td>5000.000000</td>\n",
       "      <td>...</td>\n",
       "      <td>339.693908</td>\n",
       "      <td>76.024389</td>\n",
       "      <td>11.601442</td>\n",
       "      <td>3596.0</td>\n",
       "      <td>663.0</td>\n",
       "      <td>7.0</td>\n",
       "      <td>651.0</td>\n",
       "      <td>99.0</td>\n",
       "      <td>4.0</td>\n",
       "      <td>86.991952</td>\n",
       "    </tr>\n",
       "    <tr>\n",
       "      <th>2</th>\n",
       "      <td>23.628857</td>\n",
       "      <td>0.085991</td>\n",
       "      <td>0.732593</td>\n",
       "      <td>192.737504</td>\n",
       "      <td>1.872326</td>\n",
       "      <td>88.390391</td>\n",
       "      <td>1186.5</td>\n",
       "      <td>1.6</td>\n",
       "      <td>121.0</td>\n",
       "      <td>850.423131</td>\n",
       "      <td>...</td>\n",
       "      <td>137.722087</td>\n",
       "      <td>449.591885</td>\n",
       "      <td>3.836589</td>\n",
       "      <td>6064.0</td>\n",
       "      <td>1297.0</td>\n",
       "      <td>985.0</td>\n",
       "      <td>26.0</td>\n",
       "      <td>43.0</td>\n",
       "      <td>5.0</td>\n",
       "      <td>83.315182</td>\n",
       "    </tr>\n",
       "    <tr>\n",
       "      <th>3</th>\n",
       "      <td>22.150148</td>\n",
       "      <td>0.000000</td>\n",
       "      <td>0.841801</td>\n",
       "      <td>156.923376</td>\n",
       "      <td>0.869431</td>\n",
       "      <td>90.698794</td>\n",
       "      <td>980.8</td>\n",
       "      <td>0.8</td>\n",
       "      <td>90.0</td>\n",
       "      <td>5000.000000</td>\n",
       "      <td>...</td>\n",
       "      <td>339.693908</td>\n",
       "      <td>76.024389</td>\n",
       "      <td>11.601442</td>\n",
       "      <td>3596.0</td>\n",
       "      <td>663.0</td>\n",
       "      <td>7.0</td>\n",
       "      <td>651.0</td>\n",
       "      <td>99.0</td>\n",
       "      <td>4.0</td>\n",
       "      <td>87.226934</td>\n",
       "    </tr>\n",
       "    <tr>\n",
       "      <th>4</th>\n",
       "      <td>21.463425</td>\n",
       "      <td>0.003798</td>\n",
       "      <td>0.868426</td>\n",
       "      <td>217.286898</td>\n",
       "      <td>0.681980</td>\n",
       "      <td>87.653102</td>\n",
       "      <td>1178.3</td>\n",
       "      <td>8.5</td>\n",
       "      <td>168.7</td>\n",
       "      <td>32.885520</td>\n",
       "      <td>...</td>\n",
       "      <td>72.459340</td>\n",
       "      <td>406.967815</td>\n",
       "      <td>13.931350</td>\n",
       "      <td>97895.0</td>\n",
       "      <td>26873.0</td>\n",
       "      <td>21316.0</td>\n",
       "      <td>751.0</td>\n",
       "      <td>9835.0</td>\n",
       "      <td>3.0</td>\n",
       "      <td>87.987548</td>\n",
       "    </tr>\n",
       "  </tbody>\n",
       "</table>\n",
       "<p>5 rows × 106 columns</p>\n",
       "</div>"
      ],
      "text/plain": [
       "           0         1         2           3         4          5       6  \\\n",
       "0  21.923731  1.425761  0.811239  164.313633  1.214795  88.408956  1186.5   \n",
       "1  24.650515  0.000000  0.666988  144.867250  1.252161  90.385674   980.8   \n",
       "2  23.628857  0.085991  0.732593  192.737504  1.872326  88.390391  1186.5   \n",
       "3  22.150148  0.000000  0.841801  156.923376  0.869431  90.698794   980.8   \n",
       "4  21.463425  0.003798  0.868426  217.286898  0.681980  87.653102  1178.3   \n",
       "\n",
       "     7      8            9  ...          96          97         98       99  \\\n",
       "0  1.6  121.0   850.423131  ...  137.722087  449.591885   3.836589   6064.0   \n",
       "1  0.8   90.0  5000.000000  ...  339.693908   76.024389  11.601442   3596.0   \n",
       "2  1.6  121.0   850.423131  ...  137.722087  449.591885   3.836589   6064.0   \n",
       "3  0.8   90.0  5000.000000  ...  339.693908   76.024389  11.601442   3596.0   \n",
       "4  8.5  168.7    32.885520  ...   72.459340  406.967815  13.931350  97895.0   \n",
       "\n",
       "       100      101    102     103  104     target  \n",
       "0   1297.0    985.0   26.0    43.0  5.0  83.300396  \n",
       "1    663.0      7.0  651.0    99.0  4.0  86.991952  \n",
       "2   1297.0    985.0   26.0    43.0  5.0  83.315182  \n",
       "3    663.0      7.0  651.0    99.0  4.0  87.226934  \n",
       "4  26873.0  21316.0  751.0  9835.0  3.0  87.987548  \n",
       "\n",
       "[5 rows x 106 columns]"
      ]
     },
     "execution_count": 371,
     "metadata": {},
     "output_type": "execute_result"
    }
   ],
   "source": [
    "final_train_sm.head()"
   ]
  },
  {
   "cell_type": "code",
   "execution_count": 355,
   "metadata": {},
   "outputs": [],
   "source": [
    "# split input and output again\n",
    "x_train_sm2 = final_train_sm.iloc[:,0:105]\n",
    "y_train_sm2 = final_train_sm.iloc[:,105:106]"
   ]
  },
  {
   "cell_type": "code",
   "execution_count": 356,
   "metadata": {},
   "outputs": [],
   "source": [
    "x_train_sm2 = x_train_sm2.to_numpy()\n",
    "y_train_sm2 = y_train_sm2.to_numpy()"
   ]
  },
  {
   "cell_type": "code",
   "execution_count": 357,
   "metadata": {},
   "outputs": [
    {
     "data": {
      "text/plain": [
       "(10323, 5, 21)"
      ]
     },
     "execution_count": 357,
     "metadata": {},
     "output_type": "execute_result"
    }
   ],
   "source": [
    "x_train_sm2 = np.reshape(x_train_sm2, (x_train_sm2.shape[0], x_train.shape[1], x_train.shape[2]))\n",
    "x_train_sm2.shape"
   ]
  },
  {
   "cell_type": "code",
   "execution_count": 358,
   "metadata": {},
   "outputs": [
    {
     "data": {
      "text/plain": [
       "(10323, 1)"
      ]
     },
     "execution_count": 358,
     "metadata": {},
     "output_type": "execute_result"
    }
   ],
   "source": [
    "y_train_sm2.shape"
   ]
  },
  {
   "cell_type": "markdown",
   "metadata": {},
   "source": [
    "###### Classification"
   ]
  },
  {
   "cell_type": "code",
   "execution_count": 317,
   "metadata": {},
   "outputs": [
    {
     "name": "stdout",
     "output_type": "stream",
     "text": [
      "475.82\n"
     ]
    }
   ],
   "source": [
    "# transform smote regression dataset into classes\n",
    "\n",
    "y_train_sm_c = np.empty((y_train_sm2.shape[0],1), dtype = 'O')\n",
    "\n",
    "maxi = max(y_train_sm2[:,0])\n",
    "print(maxi)\n",
    "\n",
    "for c in range(y_train_sm2.shape[0]):\n",
    "    if 0 <= y_train_sm2[c,0] <= 12:\n",
    "        y_train_sm_c[c,0] = \"good\"\n",
    "    if 12 < y_train_sm2[c,0] <= 35:\n",
    "        y_train_sm_c[c,0] = \"moderate\"\n",
    "    if 35 < y_train_sm2[c,0] <= 55:\n",
    "        y_train_sm_c[c,0] = \"unhealthy for sensitive groups\"\n",
    "    if 55 < y_train_sm2[c,0] <= 150:\n",
    "        y_train_sm_c[c,0] = \"unhealthy\"\n",
    "    if 150 < y_train_sm2[c,0] <= 250:\n",
    "        y_train_sm_c[c,0] = \"very unhealthy\"\n",
    "    if 250 < y_train_sm2[c,0] <= maxi:\n",
    "        y_train_sm_c[c,0] = \"hazardous\""
   ]
  },
  {
   "cell_type": "code",
   "execution_count": 159,
   "metadata": {},
   "outputs": [
    {
     "data": {
      "text/plain": [
       "(12431, 105)"
      ]
     },
     "execution_count": 159,
     "metadata": {},
     "output_type": "execute_result"
    }
   ],
   "source": [
    "# prep dataset for smote classification\n",
    "re_x_train_class = np.reshape(x_train, (x_train.shape[0],x_train.shape[1]*x_train.shape[2]))\n",
    "re_x_train_class.shape"
   ]
  },
  {
   "cell_type": "code",
   "execution_count": 224,
   "metadata": {},
   "outputs": [
    {
     "data": {
      "text/plain": [
       "<function matplotlib.pyplot.show(*args, **kw)>"
      ]
     },
     "execution_count": 224,
     "metadata": {},
     "output_type": "execute_result"
    },
    {
     "data": {
      "image/png": "[encoded data removed]",
      "text/plain": [
       "<Figure size 432x288 with 1 Axes>"
      ]
     },
     "metadata": {},
     "output_type": "display_data"
    }
   ],
   "source": [
    "# plot imbalanced classes\n",
    "classification_train = list(y_train_class[:,0])\n",
    "plt.hist(classification_train, bins = 6)\n",
    "plt.title('Training dataset target classification distribution')\n",
    "plt.xticks(rotation = 90)\n",
    "plt.show"
   ]
  },
  {
   "cell_type": "code",
   "execution_count": 226,
   "metadata": {},
   "outputs": [],
   "source": [
    "x_sm = re_x_train_class.copy()\n",
    "y_sm = y_train_class.copy()"
   ]
  },
  {
   "cell_type": "code",
   "execution_count": 227,
   "metadata": {},
   "outputs": [
    {
     "name": "stdout",
     "output_type": "stream",
     "text": [
      "(16754, 105) (16754,)\n"
     ]
    },
    {
     "name": "stderr",
     "output_type": "stream",
     "text": [
      "C:\\ProgramData\\Anaconda3\\lib\\site-packages\\imblearn\\utils\\_validation.py:638: FutureWarning: Pass sampling_strategy=minority as keyword args. From version 0.9 passing these as positional arguments will result in an error\n",
      "  FutureWarning)\n"
     ]
    }
   ],
   "source": [
    "# apply SMOTE for the 3 minority classes\n",
    "#1\n",
    "smote = SMOTE('minority')\n",
    "x_sm, y_sm = smote.fit_sample(x_sm, y_sm)\n",
    "print(x_sm.shape, y_sm.shape)"
   ]
  },
  {
   "cell_type": "code",
   "execution_count": 228,
   "metadata": {},
   "outputs": [
    {
     "name": "stdout",
     "output_type": "stream",
     "text": [
      "(20931, 105) (20931,)\n"
     ]
    },
    {
     "name": "stderr",
     "output_type": "stream",
     "text": [
      "C:\\ProgramData\\Anaconda3\\lib\\site-packages\\imblearn\\utils\\_validation.py:638: FutureWarning: Pass sampling_strategy=minority as keyword args. From version 0.9 passing these as positional arguments will result in an error\n",
      "  FutureWarning)\n"
     ]
    }
   ],
   "source": [
    "#2\n",
    "smote = SMOTE('minority')\n",
    "x_sm, y_sm = smote.fit_sample(x_sm, y_sm)\n",
    "print(x_sm.shape, y_sm.shape)"
   ]
  },
  {
   "cell_type": "code",
   "execution_count": 229,
   "metadata": {},
   "outputs": [
    {
     "name": "stdout",
     "output_type": "stream",
     "text": [
      "(24939, 105) (24939,)\n"
     ]
    },
    {
     "name": "stderr",
     "output_type": "stream",
     "text": [
      "C:\\ProgramData\\Anaconda3\\lib\\site-packages\\imblearn\\utils\\_validation.py:638: FutureWarning: Pass sampling_strategy=minority as keyword args. From version 0.9 passing these as positional arguments will result in an error\n",
      "  FutureWarning)\n"
     ]
    }
   ],
   "source": [
    "#3\n",
    "smote = SMOTE('minority')\n",
    "x_sm, y_sm = smote.fit_sample(x_sm, y_sm)\n",
    "print(x_sm.shape, y_sm.shape)"
   ]
  },
  {
   "cell_type": "code",
   "execution_count": 230,
   "metadata": {},
   "outputs": [
    {
     "data": {
      "text/plain": [
       "(24939, 1)"
      ]
     },
     "execution_count": 230,
     "metadata": {},
     "output_type": "execute_result"
    }
   ],
   "source": [
    "y_train_class_sm = np.reshape(y_sm, (y_sm.shape[0],1))\n",
    "y_train_class_sm.shape"
   ]
  },
  {
   "cell_type": "code",
   "execution_count": 231,
   "metadata": {},
   "outputs": [
    {
     "data": {
      "text/plain": [
       "<function matplotlib.pyplot.show(*args, **kw)>"
      ]
     },
     "execution_count": 231,
     "metadata": {},
     "output_type": "execute_result"
    },
    {
     "data": {
      "image/png": "[encoded data removed]",
      "text/plain": [
       "<Figure size 432x288 with 1 Axes>"
      ]
     },
     "metadata": {},
     "output_type": "display_data"
    }
   ],
   "source": [
    "# plot balanced classes\n",
    "sm_classification = list(y_train_class_sm[:,0])\n",
    "plt.hist(sm_classification, bins = 6)\n",
    "plt.title('Transformed training dataset target classification distribution')\n",
    "plt.xticks(rotation = 90)\n",
    "plt.show"
   ]
  },
  {
   "cell_type": "code",
   "execution_count": 232,
   "metadata": {},
   "outputs": [
    {
     "data": {
      "text/plain": [
       "(24939, 5, 21)"
      ]
     },
     "execution_count": 232,
     "metadata": {},
     "output_type": "execute_result"
    }
   ],
   "source": [
    "x_train_class_sm = np.reshape(x_sm, (x_sm.shape[0], x_train_class.shape[1], x_train_class.shape[2]))\n",
    "x_train_class_sm.shape"
   ]
  },
  {
   "cell_type": "markdown",
   "metadata": {},
   "source": [
    "### Min-max input data scaling"
   ]
  },
  {
   "cell_type": "markdown",
   "metadata": {},
   "source": [
    "#### Input scaling"
   ]
  },
  {
   "cell_type": "code",
   "execution_count": 359,
   "metadata": {},
   "outputs": [],
   "source": [
    "sc_x_train = x_train.astype(float)\n",
    "sc_x_test = x_test.astype(float)\n",
    "sc_x_train_sm = x_train_sm2.astype(float)\n",
    "sc_x_train_class_sm = x_train_class_sm.astype(float)"
   ]
  },
  {
   "cell_type": "code",
   "execution_count": 360,
   "metadata": {},
   "outputs": [
    {
     "data": {
      "text/plain": [
       "array([[[5.20913702e-01, 0.00000000e+00, 6.22650274e-01, ...,\n",
       "         5.59033989e-01, 5.71895425e-03, 7.50000000e-01],\n",
       "        [5.52109596e-01, 1.53429603e-04, 6.16292838e-01, ...,\n",
       "         5.59033989e-01, 5.71895425e-03, 7.50000000e-01],\n",
       "        [6.88557456e-01, 0.00000000e+00, 5.19946995e-01, ...,\n",
       "         5.59033989e-01, 5.71895425e-03, 7.50000000e-01],\n",
       "        [5.99678017e-01, 5.11432010e-05, 5.85449430e-01, ...,\n",
       "         5.59033989e-01, 5.71895425e-03, 7.50000000e-01],\n",
       "        [4.24258072e-01, 2.82882070e-02, 7.47847759e-01, ...,\n",
       "         5.59033989e-01, 5.71895425e-03, 7.50000000e-01]],\n",
       "\n",
       "       [[5.16509219e-01, 9.86732852e-02, 7.26916857e-01, ...,\n",
       "         5.59033989e-01, 5.71895425e-03, 7.50000000e-01],\n",
       "        [3.74107712e-01, 1.53429603e-04, 7.00190149e-01, ...,\n",
       "         5.59033989e-01, 5.71895425e-03, 7.50000000e-01],\n",
       "        [5.55876189e-01, 5.11432010e-05, 4.75636013e-01, ...,\n",
       "         5.59033989e-01, 5.71895425e-03, 7.50000000e-01],\n",
       "        [5.54995292e-01, 0.00000000e+00, 4.19890805e-01, ...,\n",
       "         5.59033989e-01, 5.71895425e-03, 7.50000000e-01],\n",
       "        [6.78168950e-01, 0.00000000e+00, 4.71490363e-01, ...,\n",
       "         5.59033989e-01, 5.71895425e-03, 7.50000000e-01]],\n",
       "\n",
       "       [[5.11604916e-01, 5.32190132e-03, 7.12413923e-01, ...,\n",
       "         5.59033989e-01, 5.71895425e-03, 7.50000000e-01],\n",
       "        [4.88969461e-01, 4.09145608e-04, 7.28368045e-01, ...,\n",
       "         5.59033989e-01, 5.71895425e-03, 7.50000000e-01],\n",
       "        [5.01188796e-01, 0.00000000e+00, 5.38802967e-01, ...,\n",
       "         5.59033989e-01, 5.71895425e-03, 7.50000000e-01],\n",
       "        [3.83394407e-01, 0.00000000e+00, 7.12340232e-01, ...,\n",
       "         5.59033989e-01, 5.71895425e-03, 7.50000000e-01],\n",
       "        [4.71856870e-01, 0.00000000e+00, 6.79384521e-01, ...,\n",
       "         5.59033989e-01, 5.71895425e-03, 7.50000000e-01]],\n",
       "\n",
       "       ...,\n",
       "\n",
       "       [[5.76603494e-01, 2.31046931e-02, 6.20826419e-01, ...,\n",
       "         1.52057245e-02, 1.01102941e-02, 0.00000000e+00],\n",
       "        [4.93909662e-01, 9.71720818e-04, 6.92821632e-01, ...,\n",
       "         1.52057245e-02, 1.01102941e-02, 0.00000000e+00],\n",
       "        [6.08881869e-01, 5.11432010e-05, 5.30982763e-01, ...,\n",
       "         1.52057245e-02, 1.01102941e-02, 0.00000000e+00],\n",
       "        [4.98410796e-01, 2.03640193e-02, 6.95610248e-01, ...,\n",
       "         1.52057245e-02, 1.01102941e-02, 0.00000000e+00],\n",
       "        [6.48886729e-01, 3.34025271e-02, 5.23316783e-01, ...,\n",
       "         1.52057245e-02, 1.01102941e-02, 0.00000000e+00]],\n",
       "\n",
       "       [[4.16208499e-01, 3.21811071e-02, 7.69351874e-01, ...,\n",
       "         6.48479428e-01, 1.00000000e+00, 5.00000000e-01],\n",
       "        [2.15546308e-01, 3.83694344e-02, 8.83947842e-01, ...,\n",
       "         6.48479428e-01, 1.00000000e+00, 5.00000000e-01],\n",
       "        [2.41639075e-01, 1.64320096e-02, 8.85939607e-01, ...,\n",
       "         6.48479428e-01, 1.00000000e+00, 5.00000000e-01],\n",
       "        [2.73533611e-01, 5.01203369e-03, 8.74984900e-01, ...,\n",
       "         6.48479428e-01, 1.00000000e+00, 5.00000000e-01],\n",
       "        [3.92879925e-01, 3.42659446e-03, 7.55206868e-01, ...,\n",
       "         6.48479428e-01, 1.00000000e+00, 5.00000000e-01]],\n",
       "\n",
       "       [[1.94007831e-01, 0.00000000e+00, 8.68375862e-01, ...,\n",
       "         1.52057245e-02, 1.01102941e-02, 0.00000000e+00],\n",
       "        [1.36872085e-01, 1.11875752e-03, 9.39321634e-01, ...,\n",
       "         1.52057245e-02, 1.01102941e-02, 0.00000000e+00],\n",
       "        [5.19875404e-01, 1.97081829e-02, 5.36629957e-01, ...,\n",
       "         1.52057245e-02, 1.01102941e-02, 0.00000000e+00],\n",
       "        [3.31490538e-01, 1.38086643e-03, 6.75665753e-01, ...,\n",
       "         1.52057245e-02, 1.01102941e-02, 0.00000000e+00],\n",
       "        [4.42787279e-01, 1.58543923e-03, 5.91025214e-01, ...,\n",
       "         1.52057245e-02, 1.01102941e-02, 0.00000000e+00]]])"
      ]
     },
     "execution_count": 360,
     "metadata": {},
     "output_type": "execute_result"
    }
   ],
   "source": [
    "# normalize each training input feature between 0 and 1\n",
    "for s in range(0,sc_x_train.shape[2]):\n",
    "    n = sc_x_train[:,:,s].flatten()\n",
    "    n = n.reshape(len(n),1)\n",
    "    scaler_in = MinMaxScaler()\n",
    "    n = scaler_in.fit_transform(n)\n",
    "    n = n.reshape(sc_x_train.shape[0],sc_x_train.shape[1])\n",
    "    sc_x_train[:,:,s] = n\n",
    "sc_x_train"
   ]
  },
  {
   "cell_type": "code",
   "execution_count": 361,
   "metadata": {},
   "outputs": [],
   "source": [
    "# normalize each input testing feature between 0 and 1 (with training paramters)\n",
    "for s in range(0,sc_x_test.shape[2]):\n",
    "    n = sc_x_test[:,:,s].flatten()\n",
    "    n = n.reshape(len(n),1)\n",
    "    n = scaler_in.fit_transform(n)\n",
    "    n = n.reshape(sc_x_test.shape[0],sc_x_test.shape[1])\n",
    "    sc_x_test[:,:,s] = n"
   ]
  },
  {
   "cell_type": "code",
   "execution_count": 362,
   "metadata": {},
   "outputs": [],
   "source": [
    "# normalize each input classification input feature between 0 and 1\n",
    "for s in range(0,sc_x_train_class_sm.shape[2]):\n",
    "    n = sc_x_train_class_sm[:,:,s].flatten()\n",
    "    n = n.reshape(len(n),1)\n",
    "    scaler_in = MinMaxScaler()\n",
    "    n = scaler_in.fit_transform(n)\n",
    "    n = n.reshape(sc_x_train_class_sm.shape[0],sc_x_train_class_sm.shape[1])\n",
    "    sc_x_train_class_sm[:,:,s] = n"
   ]
  },
  {
   "cell_type": "code",
   "execution_count": 363,
   "metadata": {},
   "outputs": [],
   "source": [
    "# normalize each input smoted training input feature between 0 and 1\n",
    "for s in range(0,sc_x_train_sm.shape[2]):\n",
    "    n = sc_x_train_sm[:,:,s].flatten()\n",
    "    n = n.reshape(len(n),1)\n",
    "    scaler_in = MinMaxScaler()\n",
    "    n = scaler_in.fit_transform(n)\n",
    "    n = n.reshape(sc_x_train_sm.shape[0],sc_x_train_sm.shape[1])\n",
    "    sc_x_train_sm[:,:,s] = n"
   ]
  },
  {
   "cell_type": "code",
   "execution_count": 383,
   "metadata": {},
   "outputs": [],
   "source": [
    "# nuutste\n",
    "# normalize each input smoted training input feature between 0 and 1\n",
    "sc_x_train_sm3 = x_train_sm3.astype(float)\n",
    "for s in range(0,sc_x_train_sm3.shape[2]):\n",
    "    n = sc_x_train_sm3[:,:,s].flatten()\n",
    "    n = n.reshape(len(n),1)\n",
    "    scaler_in = MinMaxScaler()\n",
    "    n = scaler_in.fit_transform(n)\n",
    "    n = n.reshape(sc_x_train_sm3.shape[0],sc_x_train_sm3.shape[1])\n",
    "    sc_x_train_sm3[:,:,s] = n"
   ]
  },
  {
   "cell_type": "markdown",
   "metadata": {},
   "source": [
    "#### Output scaling"
   ]
  },
  {
   "cell_type": "code",
   "execution_count": 336,
   "metadata": {},
   "outputs": [
    {
     "data": {
      "text/plain": [
       "array([[0.08568307],\n",
       "       [0.16695727],\n",
       "       [0.26671342],\n",
       "       ...,\n",
       "       [0.26931872],\n",
       "       [0.45120319],\n",
       "       [0.50563305]])"
      ]
     },
     "execution_count": 336,
     "metadata": {},
     "output_type": "execute_result"
    }
   ],
   "source": [
    "# normalize train output variables\n",
    "\n",
    "scaler_out = MinMaxScaler()\n",
    "sc_y_train = scaler_out.fit_transform(y_train)\n",
    "sc_y_train"
   ]
  },
  {
   "cell_type": "code",
   "execution_count": 337,
   "metadata": {},
   "outputs": [
    {
     "data": {
      "text/plain": [
       "array([[0.21947815],\n",
       "       [0.19523716],\n",
       "       [0.20767695],\n",
       "       ...,\n",
       "       [0.1662945 ],\n",
       "       [0.39118168],\n",
       "       [0.38364397]])"
      ]
     },
     "execution_count": 337,
     "metadata": {},
     "output_type": "execute_result"
    }
   ],
   "source": [
    "# normalize test output variables\n",
    "\n",
    "sc_y_test = scaler_out.fit_transform(y_test)\n",
    "sc_y_test"
   ]
  },
  {
   "cell_type": "code",
   "execution_count": 338,
   "metadata": {},
   "outputs": [
    {
     "data": {
      "text/plain": [
       "array(['unhealthy for sensitive groups', 'unhealthy', 'unhealthy', ...,\n",
       "       'very unhealthy', 'very unhealthy', 'very unhealthy'], dtype=object)"
      ]
     },
     "execution_count": 338,
     "metadata": {},
     "output_type": "execute_result"
    }
   ],
   "source": [
    "y_train_class_sm"
   ]
  },
  {
   "cell_type": "code",
   "execution_count": 339,
   "metadata": {},
   "outputs": [
    {
     "data": {
      "text/plain": [
       "array([[0., 0., 0., 0., 1., 0.],\n",
       "       [0., 0., 0., 1., 0., 0.],\n",
       "       [0., 0., 0., 1., 0., 0.],\n",
       "       ...,\n",
       "       [0., 0., 0., 0., 0., 1.],\n",
       "       [0., 0., 0., 0., 0., 1.],\n",
       "       [0., 0., 0., 0., 0., 1.]], dtype=float32)"
      ]
     },
     "execution_count": 339,
     "metadata": {},
     "output_type": "execute_result"
    }
   ],
   "source": [
    "# format train smoted classification output\n",
    "y_train_class_sm = np.reshape(y_train_class_sm, (y_train_class_sm.shape[0],))\n",
    "\n",
    "# encode class values as integers\n",
    "encoder = LabelEncoder()\n",
    "encoder.fit(y_train_class_sm)\n",
    "sc_y_train_class_sm = encoder.transform(y_train_class_sm)\n",
    "# convert integers to dummy variables (i.e. one hot encoded)\n",
    "sc_y_train_class_sm = np_utils.to_categorical(sc_y_train_class_sm)\n",
    "sc_y_train_class_sm"
   ]
  },
  {
   "cell_type": "code",
   "execution_count": 340,
   "metadata": {},
   "outputs": [
    {
     "data": {
      "text/plain": [
       "array(['unhealthy', 'unhealthy', 'unhealthy', ..., 'unhealthy',\n",
       "       'very unhealthy', 'very unhealthy'], dtype=object)"
      ]
     },
     "execution_count": 340,
     "metadata": {},
     "output_type": "execute_result"
    }
   ],
   "source": [
    "y_train_sm_c"
   ]
  },
  {
   "cell_type": "code",
   "execution_count": 341,
   "metadata": {},
   "outputs": [
    {
     "data": {
      "text/plain": [
       "array([[0., 0., 0., 1., 0., 0.],\n",
       "       [0., 0., 0., 1., 0., 0.],\n",
       "       [0., 0., 0., 1., 0., 0.],\n",
       "       ...,\n",
       "       [0., 0., 0., 1., 0., 0.],\n",
       "       [0., 0., 0., 0., 0., 1.],\n",
       "       [0., 0., 0., 0., 0., 1.]], dtype=float32)"
      ]
     },
     "execution_count": 341,
     "metadata": {},
     "output_type": "execute_result"
    }
   ],
   "source": [
    "# format train regression smoted classification output\n",
    "y_train_sm_c = np.reshape(y_train_sm_c, (y_train_sm_c.shape[0],))\n",
    "\n",
    "# encode class values as integers\n",
    "encoder = LabelEncoder()\n",
    "encoder.fit(y_train_sm_c)\n",
    "sc_y_train_sm_c = encoder.transform(y_train_sm_c)\n",
    "# convert integers to dummy variables (i.e. one hot encoded)\n",
    "sc_y_train_sm_c = np_utils.to_categorical(sc_y_train_sm_c)\n",
    "sc_y_train_sm_c"
   ]
  },
  {
   "cell_type": "code",
   "execution_count": 342,
   "metadata": {},
   "outputs": [
    {
     "data": {
      "text/plain": [
       "array(['unhealthy', 'unhealthy', 'unhealthy', ..., 'unhealthy',\n",
       "       'unhealthy', 'unhealthy'], dtype=object)"
      ]
     },
     "execution_count": 342,
     "metadata": {},
     "output_type": "execute_result"
    }
   ],
   "source": [
    "y_test_class"
   ]
  },
  {
   "cell_type": "code",
   "execution_count": 343,
   "metadata": {},
   "outputs": [
    {
     "data": {
      "text/plain": [
       "array([[0., 0., 0., 1., 0., 0.],\n",
       "       [0., 0., 0., 1., 0., 0.],\n",
       "       [0., 0., 0., 1., 0., 0.],\n",
       "       ...,\n",
       "       [0., 0., 0., 1., 0., 0.],\n",
       "       [0., 0., 0., 1., 0., 0.],\n",
       "       [0., 0., 0., 1., 0., 0.]], dtype=float32)"
      ]
     },
     "execution_count": 343,
     "metadata": {},
     "output_type": "execute_result"
    }
   ],
   "source": [
    "# format test classification output\n",
    "y_test_class = np.reshape(y_test_class, (y_test_class.shape[0],))\n",
    "\n",
    "# encode class values as integers\n",
    "encoder = LabelEncoder()\n",
    "encoder.fit(y_test_class)\n",
    "sc_y_test_class = encoder.transform(y_test_class)\n",
    "\n",
    "# convert integers to dummy variables (i.e. one hot encoded)\n",
    "sc_y_test_class = np_utils.to_categorical(sc_y_test_class)\n",
    "sc_y_test_class"
   ]
  },
  {
   "cell_type": "code",
   "execution_count": 344,
   "metadata": {},
   "outputs": [
    {
     "data": {
      "text/plain": [
       "array(['good', 'hazardous', 'moderate', 'unhealthy',\n",
       "       'unhealthy for sensitive groups', 'very unhealthy'], dtype=object)"
      ]
     },
     "execution_count": 344,
     "metadata": {},
     "output_type": "execute_result"
    }
   ],
   "source": [
    "encoder.inverse_transform([0,1,2,3,4,5])"
   ]
  },
  {
   "cell_type": "code",
   "execution_count": 364,
   "metadata": {},
   "outputs": [
    {
     "data": {
      "text/plain": [
       "array([[0.17104107],\n",
       "       [0.17883724],\n",
       "       [0.1710723 ],\n",
       "       ...,\n",
       "       [0.26799431],\n",
       "       [0.45020846],\n",
       "       [0.50473697]])"
      ]
     },
     "execution_count": 364,
     "metadata": {},
     "output_type": "execute_result"
    }
   ],
   "source": [
    "# normalize smoted train output variables\n",
    "\n",
    "scaler_out = MinMaxScaler()\n",
    "sc_y_train_sm = scaler_out.fit_transform(y_train_sm2)\n",
    "sc_y_train_sm"
   ]
  },
  {
   "cell_type": "code",
   "execution_count": 384,
   "metadata": {},
   "outputs": [
    {
     "data": {
      "text/plain": [
       "array([[0.19457869],\n",
       "       [0.2216046 ],\n",
       "       [0.20981727],\n",
       "       ...,\n",
       "       [0.26931872],\n",
       "       [0.45120319],\n",
       "       [0.50563305]])"
      ]
     },
     "execution_count": 384,
     "metadata": {},
     "output_type": "execute_result"
    }
   ],
   "source": [
    "# normalize smoted train output variables\n",
    "\n",
    "scaler_out = MinMaxScaler()\n",
    "sc_y_train_sm3 = scaler_out.fit_transform(y_train_sm3)\n",
    "sc_y_train_sm3"
   ]
  },
  {
   "cell_type": "markdown",
   "metadata": {},
   "source": [
    "# Save Datasets"
   ]
  },
  {
   "cell_type": "code",
   "execution_count": 365,
   "metadata": {},
   "outputs": [],
   "source": [
    "#Column representation: 0(temp), 1(precip), 2(rel_humidity),3(wind_dir), 4(wind_spd), 5(atmos_press) 6(loc_altitude), 7(km2), 8(aspect), 9(dist_trunk), 10(dist_primary), 11(dist_secondary), 12(dist_tertiary), 13(dist_unclassified), 14(dist_residential), 15(popn), 16(hh), 17(hh_cook_charcoal), 18(hh_cook_firewood), 19(hh_burn_waste), 20(loc)\n",
    "\n",
    "# Saving the datasets\n",
    "# normal regression\n",
    "np.save('sc_x_train.npy', sc_x_train)\n",
    "np.save('sc_y_train.npy', sc_y_train)\n",
    "np.save('sc_x_test.npy', sc_x_test)\n",
    "np.save('sc_y_test.npy', sc_y_test)\n",
    "np.save('y_train.npy', y_train)\n",
    "np.save('y_test.npy', y_test)\n",
    "# smote classification\n",
    "np.save('sc_x_train_class.npy', sc_x_train_class_sm)\n",
    "np.save('sc_y_train_class.npy', sc_y_train_class_sm)\n",
    "np.save('sc_y_test_class.npy', sc_y_test_class)\n",
    "np.save('y_test_class.npy', y_test_class)\n",
    "# smote regression\n",
    "np.save('sc_x_train_sm.npy', sc_x_train_sm)\n",
    "np.save('sc_y_train_sm.npy', sc_y_train_sm)\n",
    "# smote regression for classification data\n",
    "np.save('sc_y_train_sm_c.npy', sc_y_train_sm_c)"
   ]
  },
  {
   "cell_type": "code",
   "execution_count": 385,
   "metadata": {},
   "outputs": [],
   "source": [
    "# smote regression\n",
    "np.save('sc_x_train_sm3.npy', sc_x_train_sm3)\n",
    "np.save('sc_y_train_sm3.npy', sc_y_train_sm3)"
   ]
  },
  {
   "cell_type": "code",
   "execution_count": null,
   "metadata": {},
   "outputs": [],
   "source": []
  }
 ],
 "metadata": {
  "kernelspec": {
   "display_name": "Python 3",
   "language": "python",
   "name": "python3"
  },
  "language_info": {
   "codemirror_mode": {
    "name": "ipython",
    "version": 3
   },
   "file_extension": ".py",
   "mimetype": "text/x-python",
   "name": "python",
   "nbconvert_exporter": "python",
   "pygments_lexer": "ipython3",
   "version": "3.6.5"
  }
 },
 "nbformat": 4,
 "nbformat_minor": 4
}
