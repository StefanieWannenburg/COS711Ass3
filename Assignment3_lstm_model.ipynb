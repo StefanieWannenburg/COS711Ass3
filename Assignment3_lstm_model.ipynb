{
 "cells": [
  {
   "cell_type": "code",
   "execution_count": 1,
   "metadata": {},
   "outputs": [
    {
     "name": "stderr",
     "output_type": "stream",
     "text": [
      "C:\\ProgramData\\Anaconda3\\lib\\site-packages\\tensorflow\\python\\framework\\dtypes.py:526: FutureWarning: Passing (type, 1) or '1type' as a synonym of type is deprecated; in a future version of numpy, it will be understood as (type, (1,)) / '(1,)type'.\n",
      "  _np_qint8 = np.dtype([(\"qint8\", np.int8, 1)])\n",
      "C:\\ProgramData\\Anaconda3\\lib\\site-packages\\tensorflow\\python\\framework\\dtypes.py:527: FutureWarning: Passing (type, 1) or '1type' as a synonym of type is deprecated; in a future version of numpy, it will be understood as (type, (1,)) / '(1,)type'.\n",
      "  _np_quint8 = np.dtype([(\"quint8\", np.uint8, 1)])\n",
      "C:\\ProgramData\\Anaconda3\\lib\\site-packages\\tensorflow\\python\\framework\\dtypes.py:528: FutureWarning: Passing (type, 1) or '1type' as a synonym of type is deprecated; in a future version of numpy, it will be understood as (type, (1,)) / '(1,)type'.\n",
      "  _np_qint16 = np.dtype([(\"qint16\", np.int16, 1)])\n",
      "C:\\ProgramData\\Anaconda3\\lib\\site-packages\\tensorflow\\python\\framework\\dtypes.py:529: FutureWarning: Passing (type, 1) or '1type' as a synonym of type is deprecated; in a future version of numpy, it will be understood as (type, (1,)) / '(1,)type'.\n",
      "  _np_quint16 = np.dtype([(\"quint16\", np.uint16, 1)])\n",
      "C:\\ProgramData\\Anaconda3\\lib\\site-packages\\tensorflow\\python\\framework\\dtypes.py:530: FutureWarning: Passing (type, 1) or '1type' as a synonym of type is deprecated; in a future version of numpy, it will be understood as (type, (1,)) / '(1,)type'.\n",
      "  _np_qint32 = np.dtype([(\"qint32\", np.int32, 1)])\n",
      "C:\\ProgramData\\Anaconda3\\lib\\site-packages\\tensorflow\\python\\framework\\dtypes.py:535: FutureWarning: Passing (type, 1) or '1type' as a synonym of type is deprecated; in a future version of numpy, it will be understood as (type, (1,)) / '(1,)type'.\n",
      "  np_resource = np.dtype([(\"resource\", np.ubyte, 1)])\n",
      "C:\\ProgramData\\Anaconda3\\lib\\site-packages\\h5py\\__init__.py:36: FutureWarning: Conversion of the second argument of issubdtype from `float` to `np.floating` is deprecated. In future, it will be treated as `np.float64 == np.dtype(float).type`.\n",
      "  from ._conv import register_converters as _register_converters\n",
      "Using TensorFlow backend.\n"
     ]
    }
   ],
   "source": [
    "import pandas as pd\n",
    "import numpy as np\n",
    "from tqdm import tqdm\n",
    "import math\n",
    "import matplotlib.pyplot as plt\n",
    "import tensorflow as tf\n",
    "from keras.models import Sequential\n",
    "from keras.layers import Dense\n",
    "from keras.layers import Flatten\n",
    "from keras.layers import LSTM\n",
    "from keras.callbacks import CSVLogger\n",
    "from keras.callbacks import ProgbarLogger\n",
    "from numpy import mean\n",
    "from numpy import std\n",
    "from keras import backend as K\n",
    "from keras.models import load_model\n",
    "from sklearn.preprocessing import MinMaxScaler\n",
    "from tensorflow.keras.callbacks import Callback\n",
    "import six, csv\n",
    "from collections import OrderedDict, Iterable\n",
    "from keras import optimizers\n",
    "from keras.layers import Dropout\n",
    "from sklearn.metrics import precision_score "
   ]
  },
  {
   "cell_type": "markdown",
   "metadata": {},
   "source": [
    "# LSTM Model (Regession)"
   ]
  },
  {
   "cell_type": "markdown",
   "metadata": {},
   "source": [
    "### Import dataset"
   ]
  },
  {
   "cell_type": "code",
   "execution_count": 2,
   "metadata": {},
   "outputs": [],
   "source": [
    "# loading the datasets\n",
    "sc_x_train = np.load('sc_x_train_sm3.npy')\n",
    "sc_y_train = np.load('sc_y_train_sm3.npy')\n",
    "sc_x_test = np.load('sc_x_test.npy')\n",
    "sc_y_test = np.load('sc_y_test.npy')\n",
    "y_test = np.load('y_test.npy')\n",
    "y_train = np.load('y_train.npy')\n",
    "y_test_class = np.load('y_test_class.npy', allow_pickle = True)"
   ]
  },
  {
   "cell_type": "code",
   "execution_count": 3,
   "metadata": {},
   "outputs": [
    {
     "name": "stdout",
     "output_type": "stream",
     "text": [
      "(19325,)\n",
      "(3108,)\n"
     ]
    }
   ],
   "source": [
    "# formatting target values for model\n",
    "sc_y_train = sc_y_train.flatten()\n",
    "sc_y_test = sc_y_test.flatten()\n",
    "print(sc_y_train.shape)\n",
    "print(sc_y_test.shape)"
   ]
  },
  {
   "cell_type": "markdown",
   "metadata": {},
   "source": [
    "### Define model"
   ]
  },
  {
   "cell_type": "code",
   "execution_count": 4,
   "metadata": {},
   "outputs": [],
   "source": [
    "# Metric def RMSE\n",
    "def rmse(y_true, y_pred):\n",
    "    return K.sqrt(K.mean(K.square(y_pred - y_true)))"
   ]
  },
  {
   "cell_type": "code",
   "execution_count": 5,
   "metadata": {},
   "outputs": [],
   "source": [
    "# saving results per batch\n",
    "class NBatchCSVLogger(Callback):\n",
    "    \"\"\"Callback that streams every batch results to a csv file.\n",
    "    \"\"\"\n",
    "    def __init__(self, filename, separator=',', append=False):\n",
    "        self.sep = separator\n",
    "        self.filename = filename\n",
    "        self.append = append\n",
    "        self.writer = None\n",
    "        self.keys = None\n",
    "        self.append_header = True\n",
    "        self.file_flags = 'b' if six.PY2 and os.name == 'nt' else ''\n",
    "        super(NBatchCSVLogger, self).__init__()\n",
    "    def on_train_begin(self, logs=None):\n",
    "        if self.append:\n",
    "            if os.path.exists(self.filename):\n",
    "                with open(self.filename, 'r' + self.file_flags) as f:\n",
    "                    self.append_header = not bool(len(f.readline()))\n",
    "            self.csv_file = open(self.filename, 'a' + self.file_flags)\n",
    "        else:\n",
    "            self.csv_file = open(self.filename, 'w' + self.file_flags)\n",
    "    def on_batch_end(self, batch, logs=None):\n",
    "        logs = logs or {}\n",
    "        def handle_value(k):\n",
    "            is_zero_dim_ndarray = isinstance(k, np.ndarray) and k.ndim == 0\n",
    "            if isinstance(k, six.string_types):\n",
    "                return k\n",
    "            elif isinstance(k, Iterable) and not is_zero_dim_ndarray:\n",
    "                return '\"[%s]\"' % (', '.join(map(str, k)))\n",
    "            else:\n",
    "                return k\n",
    "        if self.keys is None:\n",
    "            self.keys = sorted(logs.keys())\n",
    "        if self.model.stop_training:\n",
    "            logs = dict([(k, logs[k]) if k in logs else (k, 'NA') for k in self.keys])\n",
    "        if not self.writer:\n",
    "            class CustomDialect(csv.excel):\n",
    "                delimiter = self.sep\n",
    "            self.writer = csv.DictWriter(self.csv_file,\n",
    "                                         fieldnames=['batch'] + self.keys, dialect=CustomDialect)\n",
    "            if self.append_header:\n",
    "                self.writer.writeheader()\n",
    "        row_dict = OrderedDict({'batch': batch})\n",
    "        row_dict.update((key, handle_value(logs[key])) for key in self.keys)\n",
    "        self.writer.writerow(row_dict)\n",
    "        self.csv_file.flush()\n",
    "    def on_train_end(self, logs=None):\n",
    "        self.csv_file.close()\n",
    "        self.writer = None"
   ]
  },
  {
   "cell_type": "code",
   "execution_count": 6,
   "metadata": {},
   "outputs": [],
   "source": [
    "# fit and evaluate a model\n",
    "def evaluate_model(trainX, trainy, testX, testy):\n",
    "    #define model\n",
    "    verbose, epochs, batch_size = 0, 100, 100 #trainX.shape[0]\n",
    "    n_timesteps, n_features = trainX.shape[1], trainX.shape[2]\n",
    "    model2 = Sequential()\n",
    "    model2.add(LSTM(units = 20, activation='relu', return_sequences = True, input_shape=(n_timesteps,n_features), kernel_initializer = 'he_normal'))\n",
    "    model2.add(Dropout(0.5))\n",
    "    model2.add(LSTM(units = 10, activation='relu', kernel_initializer = 'he_normal'))\n",
    "    model2.add(Dense(1))\n",
    "    #opt = optimizers.Adam(learning_rate=0.1)\n",
    "    model2.compile(loss='mse', metrics =[rmse], optimizer='adam')\n",
    "    \n",
    "    # fit network\n",
    "    csv_logger = CSVLogger('training_data2.log')\n",
    "    history = model2.fit(trainX, trainy, epochs=epochs, batch_size=batch_size, validation_data = (testX, testy), callbacks=[csv_logger], verbose=verbose)\n",
    "    out_batch = NBatchCSVLogger(\"batch_logs2.csv\", separator=',', append=False)\n",
    "    #historyb = model2.fit(trainX, trainy, epochs=epochs, batch_size=batch_size, callbacks=[out_batch], verbose=verbose)\n",
    "    \n",
    "    # save everyhting for later\n",
    "    wfname = \"weights2.hdf5\"\n",
    "    fname = \"model2.hdf5\"\n",
    "    model2.save_weights(wfname,overwrite = True)\n",
    "    model2.save(fname, overwrite = True)\n",
    "    \n",
    "    # evaluate model\n",
    "    mse = model2.evaluate(testX, testy, batch_size=batch_size, verbose=verbose)\n",
    "    return mse"
   ]
  },
  {
   "cell_type": "markdown",
   "metadata": {},
   "source": [
    "### Evalutation"
   ]
  },
  {
   "cell_type": "code",
   "execution_count": 7,
   "metadata": {},
   "outputs": [],
   "source": [
    "def summarize_results(scores):\n",
    "    print(scores)\n",
    "    m, s = mean(scores), std(scores)\n",
    "    print('RMSE:mean',m,'std+/-',s)"
   ]
  },
  {
   "cell_type": "code",
   "execution_count": 8,
   "metadata": {
    "scrolled": true
   },
   "outputs": [
    {
     "name": "stdout",
     "output_type": "stream",
     "text": [
      "WARNING:tensorflow:From C:\\ProgramData\\Anaconda3\\lib\\site-packages\\tensorflow\\python\\ops\\resource_variable_ops.py:435: colocate_with (from tensorflow.python.framework.ops) is deprecated and will be removed in a future version.\n",
      "Instructions for updating:\n",
      "Colocations handled automatically by placer.\n",
      "WARNING:tensorflow:From C:\\ProgramData\\Anaconda3\\lib\\site-packages\\tensorflow\\python\\ops\\math_ops.py:3066: to_int32 (from tensorflow.python.ops.math_ops) is deprecated and will be removed in a future version.\n",
      "Instructions for updating:\n",
      "Use tf.cast instead.\n",
      ">#1: 0.115\n",
      ">#2: 0.126\n",
      ">#3: 0.113\n",
      ">#4: 0.113\n",
      ">#5: 0.112\n",
      ">#6: 0.123\n",
      ">#7: 0.114\n",
      ">#8: 0.115\n",
      ">#9: 0.118\n",
      ">#10: 0.120\n"
     ]
    }
   ],
   "source": [
    "# running evaluation for a nunmber of times to summarize the results\n",
    "scores = list()\n",
    "def run_experiment(repeats=10):\n",
    "    # repeat experiment\n",
    "    for r in range(repeats):\n",
    "        score = evaluate_model(sc_x_train, sc_y_train, sc_x_test, sc_y_test)\n",
    "        #ensure that the metrics is rmse\n",
    "        print('>#%d: %.3f' % (r+1, score[1]))\n",
    "        scores.append(score[1])\n",
    "\n",
    "run_experiment()"
   ]
  },
  {
   "cell_type": "code",
   "execution_count": 9,
   "metadata": {},
   "outputs": [
    {
     "data": {
      "text/plain": [
       "array([[0.11488893],\n",
       "       [0.12605947],\n",
       "       [0.11259723],\n",
       "       [0.11313444],\n",
       "       [0.11220828],\n",
       "       [0.1231207 ],\n",
       "       [0.11390182],\n",
       "       [0.11517711],\n",
       "       [0.11795484],\n",
       "       [0.12009753]])"
      ]
     },
     "execution_count": 9,
     "metadata": {},
     "output_type": "execute_result"
    }
   ],
   "source": [
    "re_scores = np.reshape(scores, (len(scores),1))\n",
    "re_scores"
   ]
  },
  {
   "cell_type": "code",
   "execution_count": 10,
   "metadata": {},
   "outputs": [],
   "source": [
    "# rescale the results\n",
    "# inverse transform model predictions\n",
    "\n",
    "scaler_out = MinMaxScaler()\n",
    "scaler_out.fit(y_train)\n",
    "rmse1 = scaler_out.inverse_transform(re_scores)"
   ]
  },
  {
   "cell_type": "code",
   "execution_count": 11,
   "metadata": {},
   "outputs": [
    {
     "name": "stdout",
     "output_type": "stream",
     "text": [
      "[[55.95217932]\n",
      " [61.25112089]\n",
      " [54.86507077]\n",
      " [55.1199053 ]\n",
      " [54.68056906]\n",
      " [59.85706438]\n",
      " [55.48392887]\n",
      " [56.08888299]\n",
      " [57.40654887]\n",
      " [58.42297117]]\n",
      "RMSE:mean 56.91282416078111 std+/- 2.1458786369734764\n"
     ]
    }
   ],
   "source": [
    "# summarize results\n",
    "summarize_results(rmse1)"
   ]
  },
  {
   "cell_type": "markdown",
   "metadata": {},
   "source": [
    "### Plotting last fitting results"
   ]
  },
  {
   "cell_type": "code",
   "execution_count": 12,
   "metadata": {},
   "outputs": [],
   "source": [
    "# loading last repetition of model\n",
    "fname = \"model2.hdf5\"\n",
    "model2 = load_model(fname, custom_objects={\"rmse\":rmse})\n",
    "\n",
    "# Loading model training history \n",
    "history=pd.read_csv(\"training_data2.log\")\n",
    "historyb=pd.read_csv(\"batch_logs2.csv\")"
   ]
  },
  {
   "cell_type": "code",
   "execution_count": 13,
   "metadata": {},
   "outputs": [
    {
     "data": {
      "text/html": [
       "<div>\n",
       "<style scoped>\n",
       "    .dataframe tbody tr th:only-of-type {\n",
       "        vertical-align: middle;\n",
       "    }\n",
       "\n",
       "    .dataframe tbody tr th {\n",
       "        vertical-align: top;\n",
       "    }\n",
       "\n",
       "    .dataframe thead th {\n",
       "        text-align: right;\n",
       "    }\n",
       "</style>\n",
       "<table border=\"1\" class=\"dataframe\">\n",
       "  <thead>\n",
       "    <tr style=\"text-align: right;\">\n",
       "      <th></th>\n",
       "      <th>epoch</th>\n",
       "      <th>loss</th>\n",
       "      <th>rmse</th>\n",
       "      <th>val_loss</th>\n",
       "      <th>val_rmse</th>\n",
       "    </tr>\n",
       "  </thead>\n",
       "  <tbody>\n",
       "    <tr>\n",
       "      <th>0</th>\n",
       "      <td>0</td>\n",
       "      <td>0.022086</td>\n",
       "      <td>0.140803</td>\n",
       "      <td>0.014177</td>\n",
       "      <td>0.118281</td>\n",
       "    </tr>\n",
       "    <tr>\n",
       "      <th>1</th>\n",
       "      <td>1</td>\n",
       "      <td>0.014231</td>\n",
       "      <td>0.118780</td>\n",
       "      <td>0.013605</td>\n",
       "      <td>0.115933</td>\n",
       "    </tr>\n",
       "    <tr>\n",
       "      <th>2</th>\n",
       "      <td>2</td>\n",
       "      <td>0.013627</td>\n",
       "      <td>0.116053</td>\n",
       "      <td>0.013367</td>\n",
       "      <td>0.115240</td>\n",
       "    </tr>\n",
       "    <tr>\n",
       "      <th>3</th>\n",
       "      <td>3</td>\n",
       "      <td>0.013194</td>\n",
       "      <td>0.114439</td>\n",
       "      <td>0.013255</td>\n",
       "      <td>0.114507</td>\n",
       "    </tr>\n",
       "    <tr>\n",
       "      <th>4</th>\n",
       "      <td>4</td>\n",
       "      <td>0.012929</td>\n",
       "      <td>0.113285</td>\n",
       "      <td>0.013158</td>\n",
       "      <td>0.114227</td>\n",
       "    </tr>\n",
       "    <tr>\n",
       "      <th>...</th>\n",
       "      <td>...</td>\n",
       "      <td>...</td>\n",
       "      <td>...</td>\n",
       "      <td>...</td>\n",
       "      <td>...</td>\n",
       "    </tr>\n",
       "    <tr>\n",
       "      <th>95</th>\n",
       "      <td>95</td>\n",
       "      <td>0.010688</td>\n",
       "      <td>0.102677</td>\n",
       "      <td>0.014042</td>\n",
       "      <td>0.117943</td>\n",
       "    </tr>\n",
       "    <tr>\n",
       "      <th>96</th>\n",
       "      <td>96</td>\n",
       "      <td>0.010755</td>\n",
       "      <td>0.103244</td>\n",
       "      <td>0.014104</td>\n",
       "      <td>0.118389</td>\n",
       "    </tr>\n",
       "    <tr>\n",
       "      <th>97</th>\n",
       "      <td>97</td>\n",
       "      <td>0.010706</td>\n",
       "      <td>0.102793</td>\n",
       "      <td>0.014188</td>\n",
       "      <td>0.118829</td>\n",
       "    </tr>\n",
       "    <tr>\n",
       "      <th>98</th>\n",
       "      <td>98</td>\n",
       "      <td>0.010656</td>\n",
       "      <td>0.102752</td>\n",
       "      <td>0.013978</td>\n",
       "      <td>0.118009</td>\n",
       "    </tr>\n",
       "    <tr>\n",
       "      <th>99</th>\n",
       "      <td>99</td>\n",
       "      <td>0.010679</td>\n",
       "      <td>0.102805</td>\n",
       "      <td>0.014483</td>\n",
       "      <td>0.120098</td>\n",
       "    </tr>\n",
       "  </tbody>\n",
       "</table>\n",
       "<p>100 rows × 5 columns</p>\n",
       "</div>"
      ],
      "text/plain": [
       "    epoch      loss      rmse  val_loss  val_rmse\n",
       "0       0  0.022086  0.140803  0.014177  0.118281\n",
       "1       1  0.014231  0.118780  0.013605  0.115933\n",
       "2       2  0.013627  0.116053  0.013367  0.115240\n",
       "3       3  0.013194  0.114439  0.013255  0.114507\n",
       "4       4  0.012929  0.113285  0.013158  0.114227\n",
       "..    ...       ...       ...       ...       ...\n",
       "95     95  0.010688  0.102677  0.014042  0.117943\n",
       "96     96  0.010755  0.103244  0.014104  0.118389\n",
       "97     97  0.010706  0.102793  0.014188  0.118829\n",
       "98     98  0.010656  0.102752  0.013978  0.118009\n",
       "99     99  0.010679  0.102805  0.014483  0.120098\n",
       "\n",
       "[100 rows x 5 columns]"
      ]
     },
     "execution_count": 13,
     "metadata": {},
     "output_type": "execute_result"
    }
   ],
   "source": [
    "history"
   ]
  },
  {
   "cell_type": "code",
   "execution_count": 14,
   "metadata": {},
   "outputs": [
    {
     "data": {
      "text/html": [
       "<div>\n",
       "<style scoped>\n",
       "    .dataframe tbody tr th:only-of-type {\n",
       "        vertical-align: middle;\n",
       "    }\n",
       "\n",
       "    .dataframe tbody tr th {\n",
       "        vertical-align: top;\n",
       "    }\n",
       "\n",
       "    .dataframe thead th {\n",
       "        text-align: right;\n",
       "    }\n",
       "</style>\n",
       "<table border=\"1\" class=\"dataframe\">\n",
       "  <thead>\n",
       "    <tr style=\"text-align: right;\">\n",
       "      <th></th>\n",
       "      <th>batch</th>\n",
       "      <th>batch.1</th>\n",
       "      <th>loss</th>\n",
       "      <th>rmse</th>\n",
       "      <th>size</th>\n",
       "    </tr>\n",
       "  </thead>\n",
       "  <tbody>\n",
       "    <tr>\n",
       "      <th>0</th>\n",
       "      <td>0</td>\n",
       "      <td>0</td>\n",
       "      <td>0.022137</td>\n",
       "      <td>0.148784</td>\n",
       "      <td>32</td>\n",
       "    </tr>\n",
       "    <tr>\n",
       "      <th>1</th>\n",
       "      <td>1</td>\n",
       "      <td>1</td>\n",
       "      <td>0.013686</td>\n",
       "      <td>0.132887</td>\n",
       "      <td>32</td>\n",
       "    </tr>\n",
       "    <tr>\n",
       "      <th>2</th>\n",
       "      <td>2</td>\n",
       "      <td>2</td>\n",
       "      <td>0.018372</td>\n",
       "      <td>0.133772</td>\n",
       "      <td>32</td>\n",
       "    </tr>\n",
       "    <tr>\n",
       "      <th>3</th>\n",
       "      <td>3</td>\n",
       "      <td>3</td>\n",
       "      <td>0.019366</td>\n",
       "      <td>0.135119</td>\n",
       "      <td>32</td>\n",
       "    </tr>\n",
       "    <tr>\n",
       "      <th>4</th>\n",
       "      <td>4</td>\n",
       "      <td>4</td>\n",
       "      <td>0.012235</td>\n",
       "      <td>0.130218</td>\n",
       "      <td>32</td>\n",
       "    </tr>\n",
       "    <tr>\n",
       "      <th>...</th>\n",
       "      <td>...</td>\n",
       "      <td>...</td>\n",
       "      <td>...</td>\n",
       "      <td>...</td>\n",
       "      <td>...</td>\n",
       "    </tr>\n",
       "    <tr>\n",
       "      <th>773</th>\n",
       "      <td>384</td>\n",
       "      <td>384</td>\n",
       "      <td>0.002853</td>\n",
       "      <td>0.078367</td>\n",
       "      <td>32</td>\n",
       "    </tr>\n",
       "    <tr>\n",
       "      <th>774</th>\n",
       "      <td>385</td>\n",
       "      <td>385</td>\n",
       "      <td>0.014401</td>\n",
       "      <td>0.078475</td>\n",
       "      <td>32</td>\n",
       "    </tr>\n",
       "    <tr>\n",
       "      <th>775</th>\n",
       "      <td>386</td>\n",
       "      <td>386</td>\n",
       "      <td>0.004709</td>\n",
       "      <td>0.078449</td>\n",
       "      <td>32</td>\n",
       "    </tr>\n",
       "    <tr>\n",
       "      <th>776</th>\n",
       "      <td>387</td>\n",
       "      <td>387</td>\n",
       "      <td>0.004216</td>\n",
       "      <td>0.078414</td>\n",
       "      <td>32</td>\n",
       "    </tr>\n",
       "    <tr>\n",
       "      <th>777</th>\n",
       "      <td>388</td>\n",
       "      <td>388</td>\n",
       "      <td>0.003154</td>\n",
       "      <td>0.078357</td>\n",
       "      <td>15</td>\n",
       "    </tr>\n",
       "  </tbody>\n",
       "</table>\n",
       "<p>778 rows × 5 columns</p>\n",
       "</div>"
      ],
      "text/plain": [
       "     batch  batch.1      loss      rmse  size\n",
       "0        0        0  0.022137  0.148784    32\n",
       "1        1        1  0.013686  0.132887    32\n",
       "2        2        2  0.018372  0.133772    32\n",
       "3        3        3  0.019366  0.135119    32\n",
       "4        4        4  0.012235  0.130218    32\n",
       "..     ...      ...       ...       ...   ...\n",
       "773    384      384  0.002853  0.078367    32\n",
       "774    385      385  0.014401  0.078475    32\n",
       "775    386      386  0.004709  0.078449    32\n",
       "776    387      387  0.004216  0.078414    32\n",
       "777    388      388  0.003154  0.078357    15\n",
       "\n",
       "[778 rows x 5 columns]"
      ]
     },
     "execution_count": 14,
     "metadata": {},
     "output_type": "execute_result"
    }
   ],
   "source": [
    "historyb"
   ]
  },
  {
   "cell_type": "code",
   "execution_count": 15,
   "metadata": {},
   "outputs": [
    {
     "name": "stdout",
     "output_type": "stream",
     "text": [
      "Model: \"sequential_10\"\n",
      "_________________________________________________________________\n",
      "Layer (type)                 Output Shape              Param #   \n",
      "=================================================================\n",
      "lstm_19 (LSTM)               (None, 5, 20)             3360      \n",
      "_________________________________________________________________\n",
      "dropout_10 (Dropout)         (None, 5, 20)             0         \n",
      "_________________________________________________________________\n",
      "lstm_20 (LSTM)               (None, 10)                1240      \n",
      "_________________________________________________________________\n",
      "dense_10 (Dense)             (None, 1)                 11        \n",
      "=================================================================\n",
      "Total params: 4,611\n",
      "Trainable params: 4,611\n",
      "Non-trainable params: 0\n",
      "_________________________________________________________________\n",
      "None\n"
     ]
    }
   ],
   "source": [
    "print(model2.summary())"
   ]
  },
  {
   "cell_type": "code",
   "execution_count": 16,
   "metadata": {},
   "outputs": [
    {
     "data": {
      "image/png": "[encoded data removed]",
      "text/plain": [
       "<Figure size 432x288 with 1 Axes>"
      ]
     },
     "metadata": {},
     "output_type": "display_data"
    }
   ],
   "source": [
    "# check runs per epoch (loss)\n",
    "\n",
    "loss_train = history['loss']\n",
    "loss_val = history['val_loss']\n",
    "epochs = range(1, len(history['epoch']) +1)\n",
    "plt.plot(epochs, loss_train, 'g', label='Training loss')\n",
    "plt.plot(epochs, loss_val, 'b', label='Validation loss')\n",
    "plt.title('Training and Validation loss')\n",
    "plt.xlabel('Epochs')\n",
    "plt.ylabel('Loss')\n",
    "plt.legend()\n",
    "plt.show()"
   ]
  },
  {
   "cell_type": "code",
   "execution_count": 17,
   "metadata": {},
   "outputs": [
    {
     "data": {
      "image/png": "[encoded data removed]",
      "text/plain": [
       "<Figure size 432x288 with 1 Axes>"
      ]
     },
     "metadata": {},
     "output_type": "display_data"
    }
   ],
   "source": [
    "# check runs per epoch (rmse)\n",
    "\n",
    "rmse_train = history['rmse']\n",
    "rmse_val = history['val_rmse']\n",
    "epochs = range(1,len(history['epoch']) +1)\n",
    "plt.plot(epochs, rmse_train, 'g', label='Training RMSE')\n",
    "plt.plot(epochs, rmse_val, 'b', label='Validation RMSE')\n",
    "plt.title('Training and Validation RMSE')\n",
    "plt.xlabel('Epochs')\n",
    "plt.ylabel('RMSE')\n",
    "plt.legend()\n",
    "plt.show()"
   ]
  },
  {
   "cell_type": "code",
   "execution_count": 18,
   "metadata": {},
   "outputs": [
    {
     "data": {
      "text/plain": [
       "778"
      ]
     },
     "execution_count": 18,
     "metadata": {},
     "output_type": "execute_result"
    }
   ],
   "source": [
    "len(historyb['batch'])"
   ]
  },
  {
   "cell_type": "code",
   "execution_count": 19,
   "metadata": {},
   "outputs": [
    {
     "data": {
      "image/png": "[encoded data removed]",
      "text/plain": [
       "<Figure size 432x288 with 1 Axes>"
      ]
     },
     "metadata": {},
     "output_type": "display_data"
    }
   ],
   "source": [
    "# check runs per batch (rmse)\n",
    "\n",
    "rmse_train = historyb['rmse']\n",
    "batch = range(0,len(historyb['batch']))\n",
    "plt.plot(batch, rmse_train, 'g', label='Training RMSE')\n",
    "plt.title('Training RMSE')\n",
    "plt.xlabel('Batches (32)')\n",
    "plt.ylabel('RMSE')\n",
    "plt.legend()\n",
    "plt.show()"
   ]
  },
  {
   "cell_type": "markdown",
   "metadata": {},
   "source": [
    "### Checking"
   ]
  },
  {
   "cell_type": "code",
   "execution_count": 20,
   "metadata": {},
   "outputs": [],
   "source": [
    "#checking output of the model\n",
    "model_prediction = model2.predict(sc_x_test, verbose = 0)"
   ]
  },
  {
   "cell_type": "code",
   "execution_count": 21,
   "metadata": {},
   "outputs": [],
   "source": [
    "# inverse transform model predictions\n",
    "\n",
    "scaler_out = MinMaxScaler()\n",
    "scaler_out.fit(y_train)\n",
    "report = scaler_out.inverse_transform(model_prediction)"
   ]
  },
  {
   "cell_type": "code",
   "execution_count": 22,
   "metadata": {},
   "outputs": [
    {
     "data": {
      "image/png": "[encoded data removed]",
      "text/plain": [
       "<Figure size 432x288 with 1 Axes>"
      ]
     },
     "metadata": {},
     "output_type": "display_data"
    }
   ],
   "source": [
    "# plotting predictions\n",
    "\n",
    "target = list(y_test.flatten())\n",
    "prediction = list(report.flatten())\n",
    "targe = target[0:21]\n",
    "pred =prediction[0:21]\n",
    "patterns = range(0,21)\n",
    "plt.plot(patterns, pred, 'g', label='Model predictions')\n",
    "plt.plot(patterns, targe, 'b', label='Target values')\n",
    "plt.xticks(patterns)\n",
    "plt.title('Target vs Predicted values')\n",
    "plt.xlabel('Patterns')\n",
    "plt.ylabel('Values')\n",
    "plt.legend()\n",
    "plt.show()"
   ]
  },
  {
   "cell_type": "markdown",
   "metadata": {},
   "source": [
    "### Comparing to classification problem"
   ]
  },
  {
   "cell_type": "code",
   "execution_count": 23,
   "metadata": {},
   "outputs": [],
   "source": [
    "# convert prediction set to classes\n",
    "\n",
    "pred_class = np.empty((report.shape[0],report.shape[1]), dtype = 'O')\n",
    "\n",
    "maxi = max(report[:,0])\n",
    "\n",
    "for c in range(pred_class.shape[0]):\n",
    "    if 0 <= report[c,0] <= 12:\n",
    "        pred_class[c,0] = \"good\"\n",
    "    if 12 < report[c,0] <= 35:\n",
    "        pred_class[c,0] = \"moderate\"\n",
    "    if 35 < report[c,0] <= 55:\n",
    "        pred_class[c,0] = \"unhealthy for sensitive groups\"\n",
    "    if 55 < report[c,0] <= 150:\n",
    "        pred_class[c,0] = \"unhealthy\"\n",
    "    if 150 < report[c,0] <= 250:\n",
    "        pred_class[c,0] = \"very unhealthy\"\n",
    "    if 250 < report[c,0] <= maxi:\n",
    "        pred_class[c,0] = \"hazardous\""
   ]
  },
  {
   "cell_type": "code",
   "execution_count": 24,
   "metadata": {},
   "outputs": [],
   "source": [
    "predict = list(pred_class[:,0])"
   ]
  },
  {
   "cell_type": "code",
   "execution_count": 25,
   "metadata": {},
   "outputs": [
    {
     "name": "stdout",
     "output_type": "stream",
     "text": [
      "> 43.275\n"
     ]
    }
   ],
   "source": [
    "pre = precision_score(y_test_class, predict, labels=['good', 'hazardous', 'moderate', 'unhealthy', 'unhealthy for sensitive groups', 'very unhealthy'], average='micro')\n",
    "print('> %.3f' % (pre * 100.0))"
   ]
  },
  {
   "cell_type": "markdown",
   "metadata": {},
   "source": [
    "### Extreme cases"
   ]
  },
  {
   "cell_type": "code",
   "execution_count": 26,
   "metadata": {},
   "outputs": [
    {
     "name": "stdout",
     "output_type": "stream",
     "text": [
      "(3108, 105)\n"
     ]
    }
   ],
   "source": [
    "# extreme cases from 150 onwards\n",
    "x_test_ex = np.reshape(sc_x_test, (sc_x_test.shape[0],sc_x_test.shape[1]*sc_x_test.shape[2]))\n",
    "print(x_test_ex.shape)"
   ]
  },
  {
   "cell_type": "code",
   "execution_count": 27,
   "metadata": {},
   "outputs": [],
   "source": [
    "checking = np.concatenate((x_test_ex, y_test), axis = 1)\n",
    "extreme = checking[:,105:106]"
   ]
  },
  {
   "cell_type": "code",
   "execution_count": 28,
   "metadata": {},
   "outputs": [
    {
     "name": "stdout",
     "output_type": "stream",
     "text": [
      "(136, 106)\n",
      "(136, 105)\n"
     ]
    }
   ],
   "source": [
    "checking2 = checking[extreme[:,0]>150]\n",
    "print(checking2.shape)\n",
    "checking3 = checking2[:,0:105]\n",
    "print(checking3.shape)"
   ]
  },
  {
   "cell_type": "code",
   "execution_count": 29,
   "metadata": {},
   "outputs": [
    {
     "data": {
      "text/plain": [
       "(136, 5, 21)"
      ]
     },
     "execution_count": 29,
     "metadata": {},
     "output_type": "execute_result"
    }
   ],
   "source": [
    "checking4 = np.reshape(checking3, (checking3.shape[0],sc_x_test.shape[1], sc_x_test.shape[2]))\n",
    "checking4.shape"
   ]
  },
  {
   "cell_type": "code",
   "execution_count": 30,
   "metadata": {},
   "outputs": [],
   "source": [
    "extreme_predict = model2.predict(checking4, verbose = 0)"
   ]
  },
  {
   "cell_type": "code",
   "execution_count": 31,
   "metadata": {},
   "outputs": [],
   "source": [
    "report2 = scaler_out.inverse_transform(extreme_predict)"
   ]
  },
  {
   "cell_type": "code",
   "execution_count": 32,
   "metadata": {},
   "outputs": [],
   "source": [
    "checking5 = checking2[:,105:106]"
   ]
  },
  {
   "cell_type": "code",
   "execution_count": 33,
   "metadata": {},
   "outputs": [
    {
     "data": {
      "image/png": "[encoded data removed]",
      "text/plain": [
       "<Figure size 432x288 with 1 Axes>"
      ]
     },
     "metadata": {},
     "output_type": "display_data"
    }
   ],
   "source": [
    "# plotting extreme predictions\n",
    "\n",
    "target = list(checking5.flatten())\n",
    "prediction = list(report2.flatten())\n",
    "targe = target[0:21]\n",
    "pred =prediction[0:21]\n",
    "patterns = range(0,21)\n",
    "plt.plot(patterns, pred, 'g', label='Model predictions')\n",
    "plt.plot(patterns, targe, 'b', label='Target values')\n",
    "plt.xticks(patterns)\n",
    "plt.title('Target vs Predicted values')\n",
    "plt.xlabel('Patterns')\n",
    "plt.ylabel('Values')\n",
    "plt.legend()\n",
    "plt.show()"
   ]
  },
  {
   "cell_type": "code",
   "execution_count": null,
   "metadata": {},
   "outputs": [],
   "source": []
  }
 ],
 "metadata": {
  "kernelspec": {
   "display_name": "Python 3",
   "language": "python",
   "name": "python3"
  },
  "language_info": {
   "codemirror_mode": {
    "name": "ipython",
    "version": 3
   },
   "file_extension": ".py",
   "mimetype": "text/x-python",
   "name": "python",
   "nbconvert_exporter": "python",
   "pygments_lexer": "ipython3",
   "version": "3.6.5"
  }
 },
 "nbformat": 4,
 "nbformat_minor": 4
}
